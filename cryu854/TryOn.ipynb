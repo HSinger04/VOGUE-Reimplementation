{
  "nbformat": 4,
  "nbformat_minor": 0,
  "metadata": {
    "kernelspec": {
      "display_name": "Python 3",
      "language": "python",
      "name": "python3"
    },
    "language_info": {
      "codemirror_mode": {
        "name": "ipython",
        "version": 3
      },
      "file_extension": ".py",
      "mimetype": "text/x-python",
      "name": "python",
      "nbconvert_exporter": "python",
      "pygments_lexer": "ipython3",
      "version": "3.7.4"
    },
    "colab": {
      "name": "StyleGAN_Local_Editing_Demo.ipynb",
      "provenance": [],
      "toc_visible": true
    },
    "accelerator": "GPU"
  },
  "cells": [
    {
      "cell_type": "markdown",
      "metadata": {
        "id": "bRkHnRKNWBcq"
      },
      "source": [
        "[![Open In Colab](https://colab.research.google.com/assets/colab-badge.svg)](https://colab.research.google.com/github/HSinger04/VOGUE-Reimplementation/blob/main/cryu854/TryOn.ipynb)"
      ]
    },
    {
      "cell_type": "code",
      "metadata": {
        "id": "yXcFTFzd_fbM",
        "colab": {
          "base_uri": "https://localhost:8080/"
        },
        "outputId": "b751057d-acc1-4e34-b937-5f60cbb36c13"
      },
      "source": [
        "%cd /content\n",
        "!git clone https://github.com/HSinger04/VOGUE-Reimplementation"
      ],
      "execution_count": 1,
      "outputs": [
        {
          "output_type": "stream",
          "text": [
            "/content\n",
            "Cloning into 'VOGUE-Reimplementation'...\n",
            "remote: Enumerating objects: 183, done.\u001b[K\n",
            "remote: Counting objects: 100% (183/183), done.\u001b[K\n",
            "remote: Compressing objects: 100% (182/182), done.\u001b[K\n",
            "remote: Total 486 (delta 118), reused 0 (delta 0), pack-reused 303\u001b[K\n",
            "Receiving objects: 100% (486/486), 84.38 MiB | 47.06 MiB/s, done.\n",
            "Resolving deltas: 100% (284/284), done.\n"
          ],
          "name": "stdout"
        }
      ]
    },
    {
      "cell_type": "code",
      "metadata": {
        "colab": {
          "base_uri": "https://localhost:8080/"
        },
        "id": "QDibY5O2MgPM",
        "outputId": "ae2e58dd-8588-43b8-900b-fbe9ee46ed78"
      },
      "source": [
        "%cd /content/VOGUE-Reimplementation/cryu854/"
      ],
      "execution_count": 2,
      "outputs": [
        {
          "output_type": "stream",
          "text": [
            "/content/VOGUE-Reimplementation/cryu854\n"
          ],
          "name": "stdout"
        }
      ]
    },
    {
      "cell_type": "markdown",
      "metadata": {
        "id": "DompTDT1jSlq"
      },
      "source": [
        "## Mount drive for dataset and weights"
      ]
    },
    {
      "cell_type": "code",
      "metadata": {
        "colab": {
          "base_uri": "https://localhost:8080/"
        },
        "id": "uvCRJckWjVco",
        "outputId": "228ebda6-0866-4a76-951a-8bc2ca89220d"
      },
      "source": [
        "from google.colab import drive\n",
        "drive.mount('/content/drive', force_remount=True)"
      ],
      "execution_count": 3,
      "outputs": [
        {
          "output_type": "stream",
          "text": [
            "Mounted at /content/drive\n"
          ],
          "name": "stdout"
        }
      ]
    },
    {
      "cell_type": "markdown",
      "metadata": {
        "id": "z45486OzOzb8"
      },
      "source": [
        "## Imports"
      ]
    },
    {
      "cell_type": "code",
      "metadata": {
        "id": "dOJUgWG3O0W3"
      },
      "source": [
        "import os\n",
        "import numpy as np\n",
        "\n",
        "import tensorflow as tf\n",
        "from tensorflow.keras.layers import \\\n",
        "BatchNormalization, ELU, Conv2D, Input, Layer, Concatenate, \\\n",
        "GlobalAveragePooling2D, Dropout\n",
        "from tensorflow.keras import Model"
      ],
      "execution_count": 4,
      "outputs": []
    },
    {
      "cell_type": "markdown",
      "metadata": {
        "id": "XWjWZp0dSCzs"
      },
      "source": [
        "## Load data"
      ]
    },
    {
      "cell_type": "code",
      "metadata": {
        "id": "bzsaarYYOdq7"
      },
      "source": [
        "# Pro: Save space in google drive\n",
        "# Contra: Needs to load the whole dataset every time\n",
        "# use list_files to get generate dataset from data in different subdirectories easily\n",
        "data = tf.data.Dataset.list_files(\"/content/drive/MyDrive/Lernen/Coxi/IANNwTF/ffhq-dataset/images1024x1024/\" \n",
        "                                  + \"[0-9]\" * 2\n",
        "                                  + \"000/*.png\")"
      ],
      "execution_count": 5,
      "outputs": []
    },
    {
      "cell_type": "markdown",
      "metadata": {
        "id": "D9qCLxeRY1QZ"
      },
      "source": [
        "## Data pipeline"
      ]
    },
    {
      "cell_type": "code",
      "metadata": {
        "id": "NMSOOrY1pmcW"
      },
      "source": [
        "# Data pipeline constants\n",
        "# shuffle_size shouldn't be much higher than 100. Otherwise, Google Colab runs out of memory\n",
        "shuffle_size = 100\n",
        "BATCH_SIZE = 4\n",
        "PREFETCH_SIZE = tf.data.experimental.AUTOTUNE"
      ],
      "execution_count": 6,
      "outputs": []
    },
    {
      "cell_type": "code",
      "metadata": {
        "id": "2yjSvkA3Y0Uj"
      },
      "source": [
        "def decode_ffhq(image_path):\n",
        "    img = tf.io.read_file(image_path)\n",
        "    img = tf.image.decode_png(img, channels=3)\n",
        "    return img\n",
        "\n",
        "# Convert paths to image\n",
        "data = data.map(decode_ffhq)"
      ],
      "execution_count": 7,
      "outputs": []
    },
    {
      "cell_type": "code",
      "metadata": {
        "id": "H0CMxWCfoawP"
      },
      "source": [
        "# TODO: Show some images"
      ],
      "execution_count": 8,
      "outputs": []
    },
    {
      "cell_type": "code",
      "metadata": {
        "id": "zjtlysHExUiQ"
      },
      "source": [
        "# Normalize to [-1, 1] to match StyleGAN2's generator's output\n",
        "data = data.map(lambda x: (tf.cast(x, tf.float32) / 127.5) - 1)\n",
        "# Shuffle whole dataset once\n",
        "data = data.shuffle(buffer_size=shuffle_size)\n",
        "data = data.batch(BATCH_SIZE)\n",
        "# Shuffle batch each iteration \n",
        "# TODO: left out for now due to memory issues\n",
        "#data = data.shuffle(buffer_size=shuffle_size, reshuffle_each_iteration=True)\n",
        "data = data.prefetch(PREFETCH_SIZE)"
      ],
      "execution_count": 9,
      "outputs": []
    },
    {
      "cell_type": "markdown",
      "metadata": {
        "id": "YL4Z5lVqhSWp"
      },
      "source": [
        "# Loading trained StyleGAN2 Generator"
      ]
    },
    {
      "cell_type": "markdown",
      "metadata": {
        "id": "73bNpBXfkH0v"
      },
      "source": [
        "## Actually load the model"
      ]
    },
    {
      "cell_type": "code",
      "metadata": {
        "colab": {
          "base_uri": "https://localhost:8080/"
        },
        "id": "-eRqIYoPhUta",
        "outputId": "545a8ebc-ab1d-4761-e96d-f89b25c7477c"
      },
      "source": [
        "!git pull\n",
        "import tensorflow as tf\n",
        "from modules.generator import generator\n",
        "\n",
        "resolution = 1024  \n",
        "config = \"f\"\n",
        "num_labels = 0\n",
        "checkpoint_path = \"/content/drive/MyDrive/Lernen/Coxi/IANNwTF/official_1024x1024/\"\n",
        "\n",
        "Gs = generator(resolution, num_labels, config, randomize_noise=False)\n",
        "ckpt = tf.train.Checkpoint(generator_clone=Gs)\n",
        "print(f'Loading network from {checkpoint_path}...')\n",
        "ckpt.restore(tf.train.latest_checkpoint(checkpoint_path)).expect_partial()\n",
        "# Freeze Generator since we don't want to train it\n",
        "Gs.trainable = False"
      ],
      "execution_count": 10,
      "outputs": [
        {
          "output_type": "stream",
          "text": [
            "Already up to date.\n",
            "Loading network from /content/drive/MyDrive/Lernen/Coxi/IANNwTF/official_1024x1024/...\n"
          ],
          "name": "stdout"
        }
      ]
    },
    {
      "cell_type": "markdown",
      "metadata": {
        "id": "BeAtzWoZpKCq"
      },
      "source": [
        "## Generate and show images"
      ]
    },
    {
      "cell_type": "code",
      "metadata": {
        "id": "z7UGWODGXP6-"
      },
      "source": [
        "# returns image in the correct range of 0 to 225\n",
        "@tf.function\n",
        "def get_img(x, truncation_psi, training=False):\n",
        "    # TODO: change comment below better\n",
        "    # Generator returns values that should be clipped to -1 and 1\n",
        "    img = Gs(x, truncation_psi=truncation_psi, training=training)\n",
        "    img = tf.clip_by_value(img, clip_value_min=-1.0, clip_value_max=1.0)\n",
        "    return img"
      ],
      "execution_count": 11,
      "outputs": []
    },
    {
      "cell_type": "code",
      "metadata": {
        "id": "545XC_2Hb79c"
      },
      "source": [
        "truncation_psi = 0.5\n",
        "latent_size = 512\n",
        "latents = tf.random.normal([BATCH_SIZE, latent_size])\n",
        "# TODO: from _get_labels\n",
        "labels_indice = [0]*BATCH_SIZE\n",
        "labels = tf.zeros([BATCH_SIZE, 0], tf.float32)\n",
        "# Generate images\n",
        "images = get_img([latents, labels], truncation_psi)"
      ],
      "execution_count": 12,
      "outputs": []
    },
    {
      "cell_type": "code",
      "metadata": {
        "id": "7aG6cYaidfwa",
        "colab": {
          "base_uri": "https://localhost:8080/",
          "height": 269
        },
        "outputId": "e4e9561e-7fea-425c-a911-de4b11d6082b"
      },
      "source": [
        "from matplotlib import pyplot as plt\n",
        "\n",
        "# TODO: proper image displaying\n",
        "for i in range(BATCH_SIZE):\n",
        "    temp = images[i]\n",
        "    temp = (temp + 1) * 127.5\n",
        "    plt.imshow(temp.numpy().astype(np.uint8))\n",
        "    break"
      ],
      "execution_count": 13,
      "outputs": [
        {
          "output_type": "display_data",
          "data": {
            "image/png": "[encoded data removed]",
            "text/plain": [
              "<Figure size 432x288 with 1 Axes>"
            ]
          },
          "metadata": {
            "tags": [],
            "needs_background": "light"
          }
        }
      ]
    },
    {
      "cell_type": "markdown",
      "metadata": {
        "id": "KRww0BC-UVFm"
      },
      "source": [
        "## Train model"
      ]
    },
    {
      "cell_type": "markdown",
      "metadata": {
        "id": "pxEhW-2aUZvx"
      },
      "source": [
        "Layers & models also feature a boolean attribute trainable. Its value can be changed. Setting layer.trainable to False moves all the layer's weights from trainable to non-trainable."
      ]
    },
    {
      "cell_type": "code",
      "metadata": {
        "id": "BVgL6NtDb-Rj"
      },
      "source": [
        "class TransitionLayers(Layer):\n",
        "  \n",
        "  def __init__(self, num_filters):\n",
        "    \"\"\"Initialize a Transition Layer consisting of two Convolutional Layers (one acts as a Bottleneck, the other as Pooling Layer). \n",
        "    These Layers can be placed between the Dense Blocks in our DenseNet.\n",
        "\n",
        "    Arguments:\n",
        "      num_filters (list): Number of filters, one for each conv layer in our Transition Layer.\n",
        "    \"\"\"  \n",
        "\n",
        "    # use the keyword super to allow our network to access the init() form the keras Layer class\n",
        "    super(TransitionLayers, self).__init__()\n",
        "\n",
        "    # extract filters\n",
        "    self.filter1, self.filter2 = num_filters\n",
        "\n",
        "    # define set of layers\n",
        "    self.TransitionLayer = [\n",
        "        BatchNormalization(),\n",
        "        ELU(),                           \n",
        "        Conv2D(filters=self.filter1, kernel_size=1, strides=1, padding=\"valid\",  activation=None),\n",
        "        BatchNormalization(),\n",
        "        ELU(),\n",
        "        Conv2D(filters=self.filter2, kernel_size=2, strides=2, padding=\"valid\",  activation=None),\n",
        "        Dropout(0.5)]\n",
        "\n",
        "  @tf.function \n",
        "  def call(self, x, training=True):\n",
        "    \"\"\"Activate our Transition Layers by propagating the input through them\n",
        "\n",
        "    Arguments:\n",
        "      x (Tensor): Tensor containing the input to our Transition Layers\n",
        "      training (Boolean): Indicates whether regularization methods should be used or not when calling the Transition Layer\n",
        "\n",
        "    Returns:\n",
        "      x (Tensor): Tensor containing the drive of the Transition Layers\n",
        "    \"\"\"\n",
        "    for layer in self.TransitionLayer:\n",
        "      x = layer(x, training = training)\n",
        "    return x"
      ],
      "execution_count": 14,
      "outputs": []
    },
    {
      "cell_type": "code",
      "metadata": {
        "id": "NDrBKSOe0yWm"
      },
      "source": [
        "class Block(Layer):\n",
        "\n",
        "  def __init__(self, filter, growth_rate):\n",
        "    \"\"\"Initialize a Block with two Convolutional Layers (the first one acts a Bottleneck, the other is a normal 3x3 Convolutional Layer). \n",
        "    At the end of each Block, the input is concatenated to the Blocks output. Groups of Blocks are connected by Transition Layers.\n",
        "\n",
        "    Arguments:\n",
        "      filter (int): Defines number of filters for the Bottleneck Layer\n",
        "      growth_rate (int): Defines the number of added channels per concatenation\n",
        "    \"\"\"  \n",
        "\n",
        "    # use the keyword super to allow our network to access the init() from the keras Layer class\n",
        "    super(Block, self).__init__()\n",
        "\n",
        "    self.BlockLayers = [\n",
        "        BatchNormalization(),\n",
        "        ELU(),\n",
        "        Conv2D(filters=filter, kernel_size=1, padding=\"valid\",  activation=None),\n",
        "        BatchNormalization(),\n",
        "        ELU(),\n",
        "        Conv2D(filters=growth_rate, kernel_size=3, padding=\"same\",  activation=None)]\n",
        "\n",
        "    # We use this layer to concatenate the input of a Block to its output\n",
        "    self.concatenate = Concatenate()\n",
        "\n",
        "  @tf.function \n",
        "  def call(self, x, training=True):\n",
        "    \"\"\"Activate one Block by propagating the input through the Block layer by layer\n",
        "\n",
        "    Arguments:\n",
        "      x (Tensor): Tensor containing the input to our Block\n",
        "      training (Boolean): Indicates whether regularization methods should be used or not when calling the Block \n",
        "\n",
        "    Returns:\n",
        "      x (Tensor): Tensor containing the concatenated feature maps\n",
        "    \"\"\"\n",
        "    y = x\n",
        "\n",
        "    for layer in self.BlockLayers:\n",
        "      y = layer(y, training = training)\n",
        "\n",
        "    # concatenate input to output\n",
        "    y = self.concatenate([y,x])\n",
        "    return y"
      ],
      "execution_count": 15,
      "outputs": []
    },
    {
      "cell_type": "code",
      "metadata": {
        "id": "E7mwuv1n7mxG"
      },
      "source": [
        "class DenseBlock(Layer):\n",
        "\n",
        "  def __init__(self, filter, growth_rate, num_blocks):\n",
        "    \"\"\"Initialize a DenseBlock consiting of several Blocks\n",
        "\n",
        "    Arguments:\n",
        "      filter (int): Defines number of filters for the Bottleneck Layer\n",
        "      growth_rate (int): Defines the number of added channels per concatenation\n",
        "      num_blocks (int): Number of consecutive Blocks\n",
        "    \"\"\"  \n",
        "\n",
        "    # use the keyword super to allow our network to access the init() from the keras Layer class\n",
        "    super(DenseBlock, self).__init__()\n",
        "\n",
        "    self.DenseBlockLayers = [Block(filter, growth_rate) for _ in range(num_blocks)]\n",
        "\n",
        "\n",
        "  @tf.function \n",
        "  def call(self, x, training=True):\n",
        "    \"\"\"Activate one DenseBlock by propagating the input through the DenseBlock layer by layer\n",
        "\n",
        "    Arguments:\n",
        "      x (Tensor): Tensor containing the input to our DenseBlock\n",
        "      training (Boolean): Indicates whether regularization methods should be used or not when calling the DenseBlock \n",
        "\n",
        "    Returns:\n",
        "      x (Tensor): Outputs the feature maps of a whole DenseBlock\n",
        "    \"\"\"\n",
        "\n",
        "    for block in self.DenseBlockLayers:\n",
        "      x = block(x, training = training)\n",
        "\n",
        "    return x"
      ],
      "execution_count": 16,
      "outputs": []
    },
    {
      "cell_type": "code",
      "metadata": {
        "id": "sURU6Be67otf"
      },
      "source": [
        "class DenseNetwork(Model):\n",
        "\n",
        "  def __init__(self):\n",
        "    \"\"\"Initialize a DenseNet with a variable amount of keras.Layers\n",
        "    \"\"\"  \n",
        "    # use the keyword super to allow our network to access the init() form the keras Model class\n",
        "    super(DenseNetwork, self).__init__()\n",
        "\n",
        "    self.DenseNetLayers = [Conv2D(filters=32, kernel_size=3, padding=\"same\",  activation=None)]\n",
        "\n",
        "    self.DenseNetLayers.append(DenseBlock(filter=32, growth_rate=32, num_blocks=4))\n",
        "\n",
        "    self.DenseNetLayers.append(TransitionLayers(num_filters=[32,64]))\n",
        "\n",
        "    self.DenseNetLayers.append(DenseBlock(filter=64, growth_rate=64, num_blocks=4))\n",
        "\n",
        "    self.DenseNetLayers.append(TransitionLayers(num_filters=[64,128]))\n",
        "\n",
        "    self.DenseNetLayers.append(DenseBlock(filter=128, growth_rate=128, num_blocks=4))\n",
        "\n",
        "    self.DenseNetLayers.extend([BatchNormalization(),\n",
        "                                ELU(),\n",
        "                                Conv2D(latent_size, 2, strides=2),\n",
        "                                GlobalAveragePooling2D()])\n",
        "\n",
        "    # TODO: Add last layer\n",
        "\n",
        "  @tf.function    \n",
        "  def call(self, x, training = True):\n",
        "    \"\"\"Activate our model propagating the input through the network layer by layer\n",
        "\n",
        "    Arguments:\n",
        "      x (Tensor): Tensor containing the input to our network\n",
        "      training (Boolean): Indicates whether regularization methods should be used or not when calling the model \n",
        "\n",
        "    Returns:\n",
        "      x (Tensor): Tensor containing the probabilities for the ten classes\n",
        "    \"\"\"\n",
        "\n",
        "    for layer in self.DenseNetLayers:\n",
        "      x = layer(x, training = training)\n",
        "    return x"
      ],
      "execution_count": 17,
      "outputs": []
    },
    {
      "cell_type": "markdown",
      "metadata": {
        "id": "Q0MolKJJADXh"
      },
      "source": [
        "## Training preparation"
      ]
    },
    {
      "cell_type": "markdown",
      "metadata": {
        "id": "OSfZF7lmCYSl"
      },
      "source": [
        "## Load VGG and freeze it "
      ]
    },
    {
      "cell_type": "code",
      "metadata": {
        "id": "z23-qjcUCZwp",
        "outputId": "8766bc15-3498-4fc5-a85b-5de14dff9d8f",
        "colab": {
          "base_uri": "https://localhost:8080/"
        }
      },
      "source": [
        "# TODO: remove unnecessary layers\n",
        "vgg = tf.keras.applications.EfficientNetB0()\n",
        "# Freeze VGG since we don't want to train it\n",
        "vgg.trainable = False"
      ],
      "execution_count": 28,
      "outputs": [
        {
          "output_type": "stream",
          "text": [
            "Downloading data from https://storage.googleapis.com/keras-applications/efficientnetb0.h5\n",
            "21839872/21834768 [==============================] - 0s 0us/step\n"
          ],
          "name": "stdout"
        }
      ]
    },
    {
      "cell_type": "markdown",
      "metadata": {
        "id": "ZLVyUcZpqva_"
      },
      "source": [
        "## Define perceptual loss"
      ]
    },
    {
      "cell_type": "code",
      "metadata": {
        "id": "dNE5p-lWXg9R"
      },
      "source": [
        "# TODO: tf.function\n",
        "@tf.function\n",
        "def perc_loss(real, fake, loss_tracker):\n",
        "    # TODO: Better description. Also maybe more detail? Point to equation\n",
        "    \"\"\"Returns perceptual loss according to VGG16 activations. See \n",
        "    \"\"\"\n",
        "    \n",
        "    real = tf.image.resize(real, [224, 224])\n",
        "    real = tf.keras.applications.resnet_v2.preprocess_input(real)\n",
        "\n",
        "    fake = tf.image.resize(fake, [224, 224])\n",
        "    fake = tf.keras.applications.resnet_v2.preprocess_input(fake)\n",
        "    \n",
        "    for i, layer in enumerate(vgg.layers):\n",
        "            real = layer(real)\n",
        "            fake = layer(fake)\n",
        "            # TODO: say which corresponds to what\n",
        "            if i == 2 or i == 5 or i == 9 or i == 13 or i == 17:\n",
        "                # normalize in channel dimension\n",
        "                layer_loss = tf.math.l2_normalize(real, axis=-1)\n",
        "                layer_loss -= tf.math.l2_normalize(fake, axis=-1)\n",
        "\n",
        "                # TODO: should be alright, since shape is right, but not fully confirmed\n",
        "                layer_loss = tf.norm(layer_loss, axis=-1)\n",
        "                layer_loss = tf.square(layer_loss)\n",
        "                layer_loss = tf.reduce_mean(layer_loss)\n",
        "\n",
        "                loss_tracker.update_state(layer_loss)"
      ],
      "execution_count": 29,
      "outputs": []
    },
    {
      "cell_type": "code",
      "metadata": {
        "id": "9d4KU3x_7w_q"
      },
      "source": [
        "# TODO\n",
        "#@tf.function\n",
        "def encoder_train_step(model, train_data, optimizer, global_loss_tracker, local_loss_tracker, train_writer):\n",
        "\n",
        "    for inputs in train_data:\n",
        "        \n",
        "        # reset local loss\n",
        "        local_loss_tracker.reset_states()    \n",
        "\n",
        "        with tf.GradientTape() as tape:\n",
        "\n",
        "            # perc\n",
        "            fakes = model(inputs)\n",
        "            fakes = get_img([fakes, labels], truncation_psi)\n",
        "            perc_loss(inputs, fakes, local_loss_tracker)\n",
        "            loss = local_loss_tracker.result()\n",
        "            # average over the batch manually\n",
        "            # TODO: remove\n",
        "            #loss = tf.math.reduce_mean(loss)\n",
        "            # TODO: remove\n",
        "            print(model.__class_)\n",
        "            gradients = tape.gradient(loss, model.trainable_variables)\n",
        "\n",
        "        # update weights  \n",
        "        optimizer.apply_gradients(zip(gradients, model.trainable_variables))\n",
        "\n",
        "        # record global loss\n",
        "        global_loss_tracker.update_state(loss)"
      ],
      "execution_count": 30,
      "outputs": []
    },
    {
      "cell_type": "markdown",
      "metadata": {
        "id": "JJ9aiDH2FXgn"
      },
      "source": [
        "## Instantiate loss trackers"
      ]
    },
    {
      "cell_type": "code",
      "metadata": {
        "id": "MOXQHhouFYwZ"
      },
      "source": [
        "GLOBAL_LOSS_TRACKER = tf.keras.metrics.Mean()\n",
        "LOCAL_LOSS_TRACKER = tf.keras.metrics.Sum()"
      ],
      "execution_count": 31,
      "outputs": []
    },
    {
      "cell_type": "markdown",
      "metadata": {
        "id": "PfGc4yyVrxTR"
      },
      "source": [
        "## Instantiate train writer"
      ]
    },
    {
      "cell_type": "code",
      "metadata": {
        "id": "cJxfBVm-sBfv"
      },
      "source": [
        "import datetime\n",
        "current_time = datetime.datetime.now().strftime(\"%Y%m%d-%H%M%S\")\n",
        "# Set log directory\n",
        "LOG_DIR = \"/content/drive/MyDrive/Lernen/Coxi/IANNwTF/logs/encoder/\" + current_time \n",
        "\n",
        "TRAIN_WRITER = tf.summary.create_file_writer(LOG_DIR)"
      ],
      "execution_count": 32,
      "outputs": []
    },
    {
      "cell_type": "markdown",
      "metadata": {
        "id": "q4_YNwsztr60"
      },
      "source": [
        "## Instantiate optimizer"
      ]
    },
    {
      "cell_type": "code",
      "metadata": {
        "id": "YwgANYckttKN"
      },
      "source": [
        "LEARNING_RATE = 0.001\n",
        "OPTIMIZER = tf.keras.optimizers.Adam(LEARNING_RATE)"
      ],
      "execution_count": 33,
      "outputs": []
    },
    {
      "cell_type": "markdown",
      "metadata": {
        "id": "MD7Kzd7w7GxE"
      },
      "source": [
        "## Instantiate encoder"
      ]
    },
    {
      "cell_type": "code",
      "metadata": {
        "id": "L27-rIjG7IaU"
      },
      "source": [
        "ENCODER = DenseNetwork()"
      ],
      "execution_count": 34,
      "outputs": []
    },
    {
      "cell_type": "code",
      "metadata": {
        "id": "_ZYJlXEtzcCB"
      },
      "source": [
        "#for datum in data:\n",
        "#    print(datum.shape)"
      ],
      "execution_count": 35,
      "outputs": []
    },
    {
      "cell_type": "code",
      "metadata": {
        "id": "1maxy-jHBrX9"
      },
      "source": [
        "# TODO: remove\n",
        "#for datum in data:\n",
        "#    ENCODER(datum)\n",
        "#    break"
      ],
      "execution_count": 36,
      "outputs": []
    },
    {
      "cell_type": "markdown",
      "metadata": {
        "id": "maKNom-trtdp"
      },
      "source": [
        "# Train"
      ]
    },
    {
      "cell_type": "code",
      "metadata": {
        "colab": {
          "base_uri": "https://localhost:8080/"
        },
        "id": "ZgcxEd16refn",
        "outputId": "cd9a7dd5-da3e-4cc0-c928-c82ab934ccb4"
      },
      "source": [
        "NUM_EPOCHS = 10000\n",
        "\n",
        "for epoch in range(NUM_EPOCHS):\n",
        "    print(\"Start epoch: \" + str(epoch))\n",
        "\n",
        "    # reset statistics\n",
        "    GLOBAL_LOSS_TRACKER.reset_states()\n",
        "\n",
        "    encoder_train_step(ENCODER, data, OPTIMIZER, GLOBAL_LOSS_TRACKER, LOCAL_LOSS_TRACKER, TRAIN_WRITER)    \n",
        "    data = data.shuffle(buffer_size = shuffle_size)\n",
        "\n",
        "    # write average epoch loss\n",
        "    with TRAIN_WRITER.as_default():\n",
        "        tf.summary.scalar('loss', GLOBAL_LOSS_TRACKER.result(), step=epoch)    "
      ],
      "execution_count": null,
      "outputs": [
        {
          "output_type": "stream",
          "text": [
            "Start epoch: 0\n"
          ],
          "name": "stdout"
        }
      ]
    },
    {
      "cell_type": "code",
      "metadata": {
        "id": "2aEbyvDAE9IE"
      },
      "source": [
        ""
      ],
      "execution_count": null,
      "outputs": []
    }
  ]
}