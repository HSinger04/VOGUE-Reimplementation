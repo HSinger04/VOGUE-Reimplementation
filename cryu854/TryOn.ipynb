{
  "nbformat": 4,
  "nbformat_minor": 0,
  "metadata": {
    "kernelspec": {
      "display_name": "Python 3",
      "language": "python",
      "name": "python3"
    },
    "language_info": {
      "codemirror_mode": {
        "name": "ipython",
        "version": 3
      },
      "file_extension": ".py",
      "mimetype": "text/x-python",
      "name": "python",
      "nbconvert_exporter": "python",
      "pygments_lexer": "ipython3",
      "version": "3.7.4"
    },
    "colab": {
      "name": "StyleGAN_Local_Editing_Demo.ipynb",
      "provenance": []
    },
    "accelerator": "GPU"
  },
  "cells": [
    {
      "cell_type": "markdown",
      "metadata": {
        "id": "bRkHnRKNWBcq"
      },
      "source": [
        "[![Open In Colab](https://colab.research.google.com/assets/colab-badge.svg)](https://colab.research.google.com/github/HSinger04/VOGUE-Reimplementation/blob/main/cryu854/TryOn.ipynb)"
      ]
    },
    {
      "cell_type": "markdown",
      "metadata": {
        "id": "pmK3mLDUjjB4"
      },
      "source": [
        "# Prerequisites\n",
        "\n",
        "A Google Drive account is needed for this notebook to be run. In the cell under \"Mount drive for dataset and weights\", please state under ```PRT_DIRS``` as key your identifier (e.g. \"hermann\") and as value a directory dedicated to this notebook (e.g. \"Latent2Images\"). Then, set ```PRT_DIR = PRT_DIRS[<your_identifier>]```  Then, go to \n",
        "https://drive.google.com/drive/folders/1u2xu7bSrWxrbUxk-dT-UvEJq8IjdmNTP, right-click on \"ffhq-dataset\" at \"Shared with me > ffhq-dataset\" and click on \"Add a shortcut to Drive\". Create the shortcut the directory dedicated to this notebook. Please go to https://drive.google.com/drive/folders/1BO98vdtQSUjRKqlIIoiRVtBM_mCEcoFc and do the same as you did with \"ffhq-dataset\" with \"official_1024x1024\" at \"Shared with me > StyleGAN2models > weights-ffhq > official_1024x1024\". Do the same with https://drive.google.com/drive/folders/1-0uzbtuEQkKNbuO-o4-Ly2DJZtsL7Cyy?usp=sharing and https://drive.google.com/drive/folders/1w158HtXV6Z1TH0PRdByiz6P1K8FhyQyq?usp=sharing.\n",
        "\n",
        "This is needed, as \"ffhq-dataset\" points to the training dataset which is too large to download / upload oneself, \"official_1024x1024\" contains weights for the StyleGAN2 generator used in this notebook and also, tensorboard logs and training variables (e.g. encoder weights) get saved in the folder dedicated to this notebook.\n",
        "\n",
        "When you run the cell under \"Mount drive for dataset and weights\", you will need to MANUALLY authenticate access to Google Drive.\n"
      ]
    },
    {
      "cell_type": "markdown",
      "metadata": {
        "id": "DompTDT1jSlq"
      },
      "source": [
        "## Mount drive for dataset and weights"
      ]
    },
    {
      "cell_type": "code",
      "metadata": {
        "colab": {
          "base_uri": "https://localhost:8080/"
        },
        "id": "uvCRJckWjVco",
        "outputId": "a5149fa2-5803-4aaf-e4a8-a98cca7eb735"
      },
      "source": [
        "from google.colab import drive\n",
        "\n",
        "PRT_DIRS = {\"hermann\": \"/content/drive/MyDrive/Lernen/Coxi/IANNwTF/\",\n",
        "            \"hermann2\": \"/content/drive/MyDrive/Latent2Images/\"}\n",
        "# parent directory of \"ffhq-dataset\", \"official_1024x1024\", \"logs\"\n",
        "PRT_DIR = PRT_DIRS[input(\"Identifier: \")]\n",
        "\n",
        "drive.mount('/content/drive', force_remount=True)"
      ],
      "execution_count": null,
      "outputs": [
        {
          "output_type": "stream",
          "text": [
            "Identifier: hermann\n",
            "Mounted at /content/drive\n"
          ],
          "name": "stdout"
        }
      ]
    },
    {
      "cell_type": "code",
      "metadata": {
        "id": "yXcFTFzd_fbM",
        "colab": {
          "base_uri": "https://localhost:8080/"
        },
        "outputId": "cfd9ef35-b057-4bf1-fe08-e54d0b1f751a"
      },
      "source": [
        "%cd /content\n",
        "!git clone https://github.com/HSinger04/VOGUE-Reimplementation"
      ],
      "execution_count": null,
      "outputs": [
        {
          "output_type": "stream",
          "text": [
            "/content\n",
            "Cloning into 'VOGUE-Reimplementation'...\n",
            "remote: Enumerating objects: 1043, done.\u001b[K\n",
            "remote: Counting objects: 100% (261/261), done.\u001b[K\n",
            "remote: Compressing objects: 100% (252/252), done.\u001b[K\n",
            "remote: Total 1043 (delta 200), reused 14 (delta 9), pack-reused 782\u001b[K\n",
            "Receiving objects: 100% (1043/1043), 85.95 MiB | 48.49 MiB/s, done.\n",
            "Resolving deltas: 100% (714/714), done.\n"
          ],
          "name": "stdout"
        }
      ]
    },
    {
      "cell_type": "code",
      "metadata": {
        "colab": {
          "base_uri": "https://localhost:8080/"
        },
        "id": "QDibY5O2MgPM",
        "outputId": "65953168-6628-40bb-b9a1-2e5c0a729d25"
      },
      "source": [
        "%cd /content/VOGUE-Reimplementation/cryu854/"
      ],
      "execution_count": null,
      "outputs": [
        {
          "output_type": "stream",
          "text": [
            "/content/VOGUE-Reimplementation/cryu854\n"
          ],
          "name": "stdout"
        }
      ]
    },
    {
      "cell_type": "markdown",
      "metadata": {
        "id": "z45486OzOzb8"
      },
      "source": [
        "## Imports"
      ]
    },
    {
      "cell_type": "code",
      "metadata": {
        "id": "dOJUgWG3O0W3"
      },
      "source": [
        "import os\n",
        "import numpy as np\n",
        "\n",
        "import tensorflow as tf\n",
        "from tensorflow.keras.layers import \\\n",
        "BatchNormalization, ELU, Conv2D, Input, Layer, Concatenate, \\\n",
        "GlobalAveragePooling2D, Dropout\n",
        "from tensorflow.keras import Model"
      ],
      "execution_count": null,
      "outputs": []
    },
    {
      "cell_type": "markdown",
      "metadata": {
        "id": "hUtVg1MQvYJ8"
      },
      "source": [
        "## Debug control"
      ]
    },
    {
      "cell_type": "code",
      "metadata": {
        "id": "EErt5tojva-S"
      },
      "source": [
        "# Set to True if you want to deactivate tf.function for debugging, else leave at False\n",
        "tf.config.run_functions_eagerly(False)"
      ],
      "execution_count": null,
      "outputs": []
    },
    {
      "cell_type": "markdown",
      "metadata": {
        "id": "60wgIo20KPRP"
      },
      "source": [
        "# Data preparation"
      ]
    },
    {
      "cell_type": "markdown",
      "metadata": {
        "id": "wGh2Q2mWKP5u"
      },
      "source": [
        "## Define dataset via generator"
      ]
    },
    {
      "cell_type": "code",
      "metadata": {
        "id": "bqZHmsryKUPq"
      },
      "source": [
        "latent_size = 512\n",
        "DATA_SIZE = 1000\n",
        "BATCH_SIZE = 4\n",
        "\n",
        "LABELS = tf.zeros([BATCH_SIZE, 0], tf.float32)\n",
        "\n",
        "def get_latents(batch_size):\n",
        "    yield tf.random.normal([batch_size, latent_size]), tf.random.normal([batch_size, latent_size]), LABELS\n",
        "\n",
        "data = tf.data.Dataset.from_generator(get_latents, args=[BATCH_SIZE], output_signature=(\n",
        "    tf.TensorSpec(shape=(BATCH_SIZE, latent_size)), \n",
        "    tf.TensorSpec(shape=(BATCH_SIZE, latent_size)),\n",
        "    tf.TensorSpec(shape=(BATCH_SIZE, 0))    \n",
        "))"
      ],
      "execution_count": null,
      "outputs": []
    },
    {
      "cell_type": "markdown",
      "metadata": {
        "id": "YL4Z5lVqhSWp"
      },
      "source": [
        "# Loading trained StyleGAN2 Generator"
      ]
    },
    {
      "cell_type": "markdown",
      "metadata": {
        "id": "73bNpBXfkH0v"
      },
      "source": [
        "## Actually load the model"
      ]
    },
    {
      "cell_type": "code",
      "metadata": {
        "id": "-eRqIYoPhUta",
        "colab": {
          "base_uri": "https://localhost:8080/"
        },
        "outputId": "9b87d5c0-12fb-4cac-b516-2c7169d8a9b9"
      },
      "source": [
        "!git pull\n",
        "import tensorflow as tf\n",
        "from modules.generator import generator\n",
        "\n",
        "resolution = 1024  \n",
        "config = \"f\"\n",
        "num_labels = 0\n",
        "checkpoint_path = PRT_DIR + \"official_1024x1024/\"\n",
        "\n",
        "Gs = generator(resolution, num_labels, config, randomize_noise=False)\n",
        "ckpt = tf.train.Checkpoint(generator_clone=Gs)\n",
        "print(f'Loading network from {checkpoint_path}...')\n",
        "ckpt.restore(tf.train.latest_checkpoint(checkpoint_path)).expect_partial()\n",
        "\n",
        "# Note down all and only the ps of the modulated_conv2ds\n",
        "ps = [weight for weight in Gs.weights if weight.name.endswith(\"p:0\")]"
      ],
      "execution_count": null,
      "outputs": [
        {
          "output_type": "stream",
          "text": [
            "Already up to date.\n",
            "Loading network from /content/drive/MyDrive/Lernen/Coxi/IANNwTF/official_1024x1024/...\n"
          ],
          "name": "stdout"
        }
      ]
    },
    {
      "cell_type": "markdown",
      "metadata": {
        "id": "BeAtzWoZpKCq"
      },
      "source": [
        "## Generate and show images"
      ]
    },
    {
      "cell_type": "code",
      "metadata": {
        "id": "z7UGWODGXP6-"
      },
      "source": [
        "# returns image in the correct range of 0 to 225\n",
        "@tf.function\n",
        "def get_img(x, truncation_psi, training=False):\n",
        "    # TODO: change comment below better\n",
        "    # Generator returns values that should be clipped to -1 and 1\n",
        "    img = Gs(x, truncation_psi=truncation_psi, training=training)\n",
        "    img = tf.clip_by_value(img, clip_value_min=-1.0, clip_value_max=1.0)\n",
        "    return img\n",
        "\n",
        "@tf.function\n",
        "def get_merged(x, truncation_psi, training=False):\n",
        "    # TODO: change comment below better\n",
        "    # Generator returns values that should be clipped to -1 and 1\n",
        "    img = Gs.try_on(x, truncation_psi=truncation_psi, training=training)\n",
        "    img = tf.clip_by_value(img, clip_value_min=-1.0, clip_value_max=1.0)\n",
        "    return img    "
      ],
      "execution_count": null,
      "outputs": []
    },
    {
      "cell_type": "code",
      "metadata": {
        "id": "545XC_2Hb79c"
      },
      "source": [
        "TEST_BATCH_SIZE = 1\n",
        "truncation_psi = 0.5\n",
        "latents_p = tf.random.normal([TEST_BATCH_SIZE, latent_size])\n",
        "latents_g = tf.random.normal([TEST_BATCH_SIZE, latent_size])\n",
        "labels_indice = [0]*TEST_BATCH_SIZE\n",
        "test_labels = tf.zeros([TEST_BATCH_SIZE, 0], tf.float32)\n",
        "# Generate images\n",
        "img_pg = get_merged([latents_p, latents_g, labels], truncation_psi)\n",
        "img_p = get_img([latents_p, test_labels], truncation_psi)\n",
        "img_g = get_img([latents_g, labels], truncation_psi)"
      ],
      "execution_count": null,
      "outputs": []
    },
    {
      "cell_type": "code",
      "metadata": {
        "id": "7aG6cYaidfwa",
        "colab": {
          "base_uri": "https://localhost:8080/",
          "height": 150
        },
        "outputId": "83a3b2d4-bfd9-4a77-e51f-ac3f7df30b7b"
      },
      "source": [
        "from matplotlib import pyplot as plt\n",
        "\n",
        "fix, axes = plt.subplots(1, 3)\n",
        "\n",
        "imgs = [img_p, img_g, img_pg]\n",
        "\n",
        "for (ax, img) in zip(axes, imgs):\n",
        "    img = tf.squeeze(img)\n",
        "    img = (img + 1) * 127.5\n",
        "    ax.imshow(img.numpy().astype(np.uint8))"
      ],
      "execution_count": null,
      "outputs": [
        {
          "output_type": "display_data",
          "data": {
            "image/png": "[encoded data removed]",
            "text/plain": [
              "<Figure size 432x288 with 3 Axes>"
            ]
          },
          "metadata": {
            "tags": [],
            "needs_background": "light"
          }
        }
      ]
    },
    {
      "cell_type": "markdown",
      "metadata": {
        "id": "UkGlUUpoAdgZ"
      },
      "source": [
        "## Test gradient calculation"
      ]
    },
    {
      "cell_type": "code",
      "metadata": {
        "id": "Xlo03GsO5Hwe"
      },
      "source": [
        "with tf.GradientTape(watch_accessed_variables=False) as tape:\n",
        "    tape.watch(ps)\n",
        "    img_pg = get_merged([latents_p, latents_g, labels], truncation_psi)\n",
        "    red_sum = tf.reduce_sum(img_pg)\n",
        "    grads = tape.gradient(red_sum, Gs.trainable_variables)  \n",
        "# Assert that only gradients for ps are tracked    \n",
        "assert len([grad for grad in grads if not grad == None]) == len(ps)"
      ],
      "execution_count": null,
      "outputs": []
    },
    {
      "cell_type": "markdown",
      "metadata": {
        "id": "Q0MolKJJADXh"
      },
      "source": [
        "# Training preparation"
      ]
    },
    {
      "cell_type": "markdown",
      "metadata": {
        "id": "OSfZF7lmCYSl"
      },
      "source": [
        "## Load network for perceptual loss and freeze it "
      ]
    },
    {
      "cell_type": "code",
      "metadata": {
        "id": "z23-qjcUCZwp"
      },
      "source": [
        "# TODO: remove unnecessary layers\n",
        "perc_base_net = tf.keras.applications.EfficientNetB0()\n",
        "# Freeze perc_base_net since we don't want to train it\n",
        "perc_base_net.trainable = False"
      ],
      "execution_count": null,
      "outputs": []
    },
    {
      "cell_type": "code",
      "metadata": {
        "id": "DS51dFbqfYA8"
      },
      "source": [
        "layer_names = (\"block1a_project_conv\", \"block2b_project_conv\", \"block3b_project_conv\", \n",
        "               \"block4c_project_conv\", \"block5c_project_conv\", \"block6d_project_conv\",\n",
        "               \"block7a_project_conv\")\n",
        "\n",
        "# layer_indices = []\n",
        "used_layers = []\n",
        "\n",
        "# for i, layer in enumerate(vgg.layers):\n",
        "#     used_layers.append(layer)\n",
        "#     if layer.name in layer_names:\n",
        "#         layer_indices.append(i)\n",
        "#         if len(layer_indices) == len(layer_names):\n",
        "#             break\n",
        "\n",
        "used_layers = [perc_base_net.get_layer(layer_name).output for layer_name in layer_names]\n",
        "\n",
        "perc_net = tf.keras.Model(inputs=perc_base_net.inputs, outputs=used_layers)\n",
        "\n",
        "# Hopefully save memory this way         \n",
        "del perc_base_net\n",
        "tf.keras.backend.clear_session()\n",
        "\n",
        "NUM_LAYERS = len(layer_names)"
      ],
      "execution_count": null,
      "outputs": []
    },
    {
      "cell_type": "markdown",
      "metadata": {
        "id": "ZLVyUcZpqva_"
      },
      "source": [
        "## Define perceptual loss"
      ]
    },
    {
      "cell_type": "code",
      "metadata": {
        "id": "dNE5p-lWXg9R"
      },
      "source": [
        "@tf.function\n",
        "def perc_loss(real, fake):\n",
        "    # TODO: Better description. Also maybe more detail? Point to equation\n",
        "    \"\"\"Returns perceptual loss according to VGG16 activations. See \n",
        "    \"\"\"\n",
        "    \n",
        "    real = tf.image.resize(real, [224, 224])\n",
        "    real = tf.keras.applications.efficientnet.preprocess_input(real)\n",
        "\n",
        "    fake = tf.image.resize(fake, [224, 224])\n",
        "    fake = tf.keras.applications.efficientnet.preprocess_input(fake)\n",
        "\n",
        "    real = perc_net(real)\n",
        "    fake = perc_net(fake)\n",
        "\n",
        "    real_out = real[0]\n",
        "    fake_out = fake[0]\n",
        "\n",
        "    # normalize in channel dimension\n",
        "    layer_loss = tf.math.l2_normalize(real_out, axis=-1)\n",
        "    layer_loss -= tf.math.l2_normalize(fake_out, axis=-1)\n",
        "\n",
        "    layer_loss = tf.norm(layer_loss, axis=-1)\n",
        "    layer_loss = tf.square(layer_loss)\n",
        "    layer_loss = tf.reduce_mean(layer_loss)\n",
        "\n",
        "    loss = layer_loss\n",
        "\n",
        "    for i in range(1, NUM_LAYERS):\n",
        "        real_out = real[i]\n",
        "        fake_out = fake[i]\n",
        "\n",
        "        # normalize in channel dimension\n",
        "        layer_loss = tf.math.l2_normalize(real_out, axis=-1)\n",
        "        layer_loss -= tf.math.l2_normalize(fake_out, axis=-1)\n",
        "\n",
        "        layer_loss = tf.norm(layer_loss, axis=-1)\n",
        "        layer_loss = tf.square(layer_loss)\n",
        "        layer_loss = tf.reduce_mean(layer_loss)\n",
        "\n",
        "        loss = loss + layer_loss\n",
        "\n",
        "    return loss         "
      ],
      "execution_count": null,
      "outputs": []
    },
    {
      "cell_type": "markdown",
      "metadata": {
        "id": "JJ9aiDH2FXgn"
      },
      "source": [
        "## Instantiate loss trackers"
      ]
    },
    {
      "cell_type": "code",
      "metadata": {
        "id": "MOXQHhouFYwZ"
      },
      "source": [
        "GLOBAL_LOSS_TRACKER = tf.keras.metrics.Mean()"
      ],
      "execution_count": null,
      "outputs": []
    },
    {
      "cell_type": "markdown",
      "metadata": {
        "id": "PfGc4yyVrxTR"
      },
      "source": [
        "## Instantiate train writer"
      ]
    },
    {
      "cell_type": "code",
      "metadata": {
        "id": "cJxfBVm-sBfv"
      },
      "source": [
        "import datetime\n",
        "current_time = datetime.datetime.now().strftime(\"%Y%m%d-%H%M%S\")\n",
        "# Set log directory\n",
        "LOG_DIR = PRT_DIR + \"logs/encoder/\" + current_time \n",
        "\n",
        "TRAIN_WRITER = tf.summary.create_file_writer(LOG_DIR)"
      ],
      "execution_count": null,
      "outputs": []
    },
    {
      "cell_type": "markdown",
      "metadata": {
        "id": "q4_YNwsztr60"
      },
      "source": [
        "## Instantiate optimizer"
      ]
    },
    {
      "cell_type": "code",
      "metadata": {
        "id": "YwgANYckttKN"
      },
      "source": [
        "LEARNING_RATE = 0.001\n",
        "OPTIMIZER = tf.keras.optimizers.Adam(LEARNING_RATE)"
      ],
      "execution_count": null,
      "outputs": []
    }
  ]
}