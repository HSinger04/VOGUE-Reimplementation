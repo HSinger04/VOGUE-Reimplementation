{
  "nbformat": 4,
  "nbformat_minor": 0,
  "metadata": {
    "kernelspec": {
      "display_name": "Python 3",
      "language": "python",
      "name": "python3"
    },
    "language_info": {
      "codemirror_mode": {
        "name": "ipython",
        "version": 3
      },
      "file_extension": ".py",
      "mimetype": "text/x-python",
      "name": "python",
      "nbconvert_exporter": "python",
      "pygments_lexer": "ipython3",
      "version": "3.7.4"
    },
    "colab": {
      "name": "StyleGAN_Local_Editing_Demo.ipynb",
      "provenance": [],
      "toc_visible": true
    },
    "accelerator": "GPU"
  },
  "cells": [
    {
      "cell_type": "markdown",
      "metadata": {
        "id": "bRkHnRKNWBcq"
      },
      "source": [
        "[![Open In Colab](https://colab.research.google.com/assets/colab-badge.svg)](https://colab.research.google.com/github/HSinger04/VOGUE-Reimplementation/blob/main/cryu854/StyleGAN2Test.ipynb)"
      ]
    },
    {
      "cell_type": "code",
      "metadata": {
        "id": "8JgfncFS6N5Q"
      },
      "source": [
        "#!pip3 install tensorflow==2.3.0"
      ],
      "execution_count": 1,
      "outputs": []
    },
    {
      "cell_type": "code",
      "metadata": {
        "id": "yXcFTFzd_fbM",
        "colab": {
          "base_uri": "https://localhost:8080/"
        },
        "outputId": "45e1a18c-45c5-43c1-90f3-8cf1f580182c"
      },
      "source": [
        "%cd /content\n",
        "!git clone https://github.com/HSinger04/VOGUE-Reimplementation"
      ],
      "execution_count": 2,
      "outputs": [
        {
          "output_type": "stream",
          "text": [
            "/content\n",
            "Cloning into 'VOGUE-Reimplementation'...\n",
            "remote: Enumerating objects: 134, done.\u001b[K\n",
            "remote: Counting objects: 100% (134/134), done.\u001b[K\n",
            "remote: Compressing objects: 100% (133/133), done.\u001b[K\n",
            "remote: Total 437 (delta 87), reused 0 (delta 0), pack-reused 303\u001b[K\n",
            "Receiving objects: 100% (437/437), 83.85 MiB | 26.85 MiB/s, done.\n",
            "Resolving deltas: 100% (253/253), done.\n"
          ],
          "name": "stdout"
        }
      ]
    },
    {
      "cell_type": "code",
      "metadata": {
        "colab": {
          "base_uri": "https://localhost:8080/"
        },
        "id": "QDibY5O2MgPM",
        "outputId": "fa839179-bc87-4778-ca03-480f247427b5"
      },
      "source": [
        "%cd /content/VOGUE-Reimplementation/cryu854/"
      ],
      "execution_count": 3,
      "outputs": [
        {
          "output_type": "stream",
          "text": [
            "/content/VOGUE-Reimplementation/cryu854\n"
          ],
          "name": "stdout"
        }
      ]
    },
    {
      "cell_type": "code",
      "metadata": {
        "id": "rLEONo2j5g32"
      },
      "source": [
        "!mkdir data"
      ],
      "execution_count": 4,
      "outputs": []
    },
    {
      "cell_type": "markdown",
      "metadata": {
        "id": "YL4Z5lVqhSWp"
      },
      "source": [
        "# Loading trained model"
      ]
    },
    {
      "cell_type": "markdown",
      "metadata": {
        "id": "DompTDT1jSlq"
      },
      "source": [
        "## Mount drive for access to weight directory"
      ]
    },
    {
      "cell_type": "code",
      "metadata": {
        "colab": {
          "base_uri": "https://localhost:8080/"
        },
        "id": "uvCRJckWjVco",
        "outputId": "a10caa59-7869-4bb6-8692-ef47028939b9"
      },
      "source": [
        "from google.colab import drive\n",
        "drive.mount('/content/drive', force_remount=True)"
      ],
      "execution_count": 5,
      "outputs": [
        {
          "output_type": "stream",
          "text": [
            "Mounted at /content/drive\n"
          ],
          "name": "stdout"
        }
      ]
    },
    {
      "cell_type": "markdown",
      "metadata": {
        "id": "73bNpBXfkH0v"
      },
      "source": [
        "## Actually load the model"
      ]
    },
    {
      "cell_type": "code",
      "metadata": {
        "colab": {
          "base_uri": "https://localhost:8080/",
          "height": 400
        },
        "id": "-eRqIYoPhUta",
        "outputId": "165fd9e6-c4d8-41fd-8d01-a0eeaccc940d"
      },
      "source": [
        "!git pull\n",
        "import tensorflow as tf\n",
        "from modules.generator import generator\n",
        "\n",
        "resolution = 1024  \n",
        "config = \"f\"\n",
        "num_labels = 0\n",
        "checkpoint_path = \"/content/drive/MyDrive/Lernen/Coxi/IANNwTF/official_1024x1024/\"\n",
        "\n",
        "Gs = generator(resolution, num_labels, config, randomize_noise=False)\n",
        "ckpt = tf.train.Checkpoint(generator_clone=Gs)\n",
        "print(f'Loading network from {checkpoint_path}...')\n",
        "ckpt.restore(tf.train.latest_checkpoint(checkpoint_path)).expect_partial()"
      ],
      "execution_count": 6,
      "outputs": [
        {
          "output_type": "stream",
          "text": [
            "Already up to date.\n"
          ],
          "name": "stdout"
        },
        {
          "output_type": "error",
          "ename": "NameError",
          "evalue": "ignored",
          "traceback": [
            "\u001b[0;31m---------------------------------------------------------------------------\u001b[0m",
            "\u001b[0;31mNameError\u001b[0m                                 Traceback (most recent call last)",
            "\u001b[0;32m<ipython-input-6-c2bf859b7e41>\u001b[0m in \u001b[0;36m<module>\u001b[0;34m()\u001b[0m\n\u001b[1;32m      1\u001b[0m \u001b[0mget_ipython\u001b[0m\u001b[0;34m(\u001b[0m\u001b[0;34m)\u001b[0m\u001b[0;34m.\u001b[0m\u001b[0msystem\u001b[0m\u001b[0;34m(\u001b[0m\u001b[0;34m'git pull'\u001b[0m\u001b[0;34m)\u001b[0m\u001b[0;34m\u001b[0m\u001b[0;34m\u001b[0m\u001b[0m\n\u001b[1;32m      2\u001b[0m \u001b[0;32mimport\u001b[0m \u001b[0mtensorflow\u001b[0m \u001b[0;32mas\u001b[0m \u001b[0mtf\u001b[0m\u001b[0;34m\u001b[0m\u001b[0;34m\u001b[0m\u001b[0m\n\u001b[0;32m----> 3\u001b[0;31m \u001b[0;32mfrom\u001b[0m \u001b[0mmodules\u001b[0m\u001b[0;34m.\u001b[0m\u001b[0mgenerator\u001b[0m \u001b[0;32mimport\u001b[0m \u001b[0mgenerator\u001b[0m\u001b[0;34m\u001b[0m\u001b[0;34m\u001b[0m\u001b[0m\n\u001b[0m\u001b[1;32m      4\u001b[0m \u001b[0;34m\u001b[0m\u001b[0m\n\u001b[1;32m      5\u001b[0m \u001b[0mresolution\u001b[0m \u001b[0;34m=\u001b[0m \u001b[0;36m1024\u001b[0m\u001b[0;34m\u001b[0m\u001b[0;34m\u001b[0m\u001b[0m\n",
            "\u001b[0;32m/content/VOGUE-Reimplementation/cryu854/modules/generator.py\u001b[0m in \u001b[0;36m<module>\u001b[0;34m()\u001b[0m\n\u001b[1;32m     92\u001b[0m \u001b[0;34m\u001b[0m\u001b[0m\n\u001b[1;32m     93\u001b[0m \u001b[0;34m\u001b[0m\u001b[0m\n\u001b[0;32m---> 94\u001b[0;31m \u001b[0;32mclass\u001b[0m \u001b[0mgenerator\u001b[0m\u001b[0;34m(\u001b[0m\u001b[0mModel\u001b[0m\u001b[0;34m)\u001b[0m\u001b[0;34m:\u001b[0m\u001b[0;34m\u001b[0m\u001b[0;34m\u001b[0m\u001b[0m\n\u001b[0m\u001b[1;32m     95\u001b[0m     \u001b[0;34m\"\"\" StyleGAN2's generator for config e/f with skip architecture.\"\"\"\u001b[0m\u001b[0;34m\u001b[0m\u001b[0;34m\u001b[0m\u001b[0m\n\u001b[1;32m     96\u001b[0m     def __init__(self,\n",
            "\u001b[0;32m/content/VOGUE-Reimplementation/cryu854/modules/generator.py\u001b[0m in \u001b[0;36mgenerator\u001b[0;34m()\u001b[0m\n\u001b[1;32m    215\u001b[0m \u001b[0;34m\u001b[0m\u001b[0m\n\u001b[1;32m    216\u001b[0m     \u001b[0;34m@\u001b[0m\u001b[0mtf\u001b[0m\u001b[0;34m.\u001b[0m\u001b[0mfunction\u001b[0m\u001b[0;34m\u001b[0m\u001b[0;34m\u001b[0m\u001b[0m\n\u001b[0;32m--> 217\u001b[0;31m     \u001b[0;32mdef\u001b[0m \u001b[0mcall\u001b[0m\u001b[0;34m(\u001b[0m\u001b[0mself\u001b[0m\u001b[0;34m,\u001b[0m \u001b[0minputs\u001b[0m\u001b[0;34m,\u001b[0m \u001b[0mtruncation_psi\u001b[0m\u001b[0;34m=\u001b[0m\u001b[0;36m0.5\u001b[0m\u001b[0;34m,\u001b[0m \u001b[0mreturn_latents\u001b[0m\u001b[0;34m=\u001b[0m\u001b[0;32mFalse\u001b[0m\u001b[0;34m,\u001b[0m \u001b[0mtraining\u001b[0m\u001b[0;34m=\u001b[0m\u001b[0mNon\u001b[0m\u001b[0;34m)\u001b[0m\u001b[0;34m:\u001b[0m\u001b[0;34m\u001b[0m\u001b[0;34m\u001b[0m\u001b[0m\n\u001b[0m\u001b[1;32m    218\u001b[0m         \u001b[0mlatents_in\u001b[0m\u001b[0;34m,\u001b[0m \u001b[0mlabels_in\u001b[0m \u001b[0;34m=\u001b[0m \u001b[0minputs\u001b[0m\u001b[0;34m\u001b[0m\u001b[0;34m\u001b[0m\u001b[0m\n\u001b[1;32m    219\u001b[0m \u001b[0;34m\u001b[0m\u001b[0m\n",
            "\u001b[0;31mNameError\u001b[0m: name 'Non' is not defined"
          ]
        }
      ]
    },
    {
      "cell_type": "markdown",
      "metadata": {
        "id": "xD6RHogal5Fq"
      },
      "source": [
        "## Generate images"
      ]
    },
    {
      "cell_type": "code",
      "metadata": {
        "id": "fXdVRKM_kJvJ"
      },
      "source": [
        "truncation_psi = 0.5\n",
        "batch_size = 5\n",
        "latents = tf.random.normal([batch_size, 512])\n",
        "# TODO: from _get_labels\n",
        "labels_indice = [0]*batch_size\n",
        "labels = tf.zeros([batch_size, 0], tf.float32)\n",
        "images = Gs([latents, labels], truncation_psi=truncation_psi, training=False, all_styles=True)"
      ],
      "execution_count": null,
      "outputs": []
    },
    {
      "cell_type": "code",
      "metadata": {
        "id": "MU6Vi-n9l-OC"
      },
      "source": [
        "from matplotlib import pyplot as plt\n",
        "\n",
        "images = images.numpy()\n",
        "# TODO: proper image displaying\n",
        "for i in range(batch_size):\n",
        "    plt.imshow(images[i])"
      ],
      "execution_count": null,
      "outputs": []
    },
    {
      "cell_type": "code",
      "metadata": {
        "id": "iGR2G8BM68ew",
        "colab": {
          "base_uri": "https://localhost:8080/"
        },
        "outputId": "5288fdbb-7a5d-4f18-9875-78c3928270fe"
      },
      "source": [
        "# TODO: remove\n",
        "import inspect\n",
        "inspect.signature(Gs.call)"
      ],
      "execution_count": null,
      "outputs": [
        {
          "output_type": "execute_result",
          "data": {
            "text/plain": [
              "<Signature (self, inputs, truncation_psi=0.5, return_latents=False, training=None)>"
            ]
          },
          "metadata": {
            "tags": []
          },
          "execution_count": 14
        }
      ]
    },
    {
      "cell_type": "markdown",
      "metadata": {
        "id": "3iQ2XigZksiH"
      },
      "source": [
        "# Image resizing"
      ]
    },
    {
      "cell_type": "code",
      "metadata": {
        "id": "nbYSoQ7akBu_"
      },
      "source": [
        "# !mkdir original"
      ],
      "execution_count": null,
      "outputs": []
    },
    {
      "cell_type": "markdown",
      "metadata": {
        "id": "4mW7bnRekyuz"
      },
      "source": [
        "Now, add images to \"original\""
      ]
    },
    {
      "cell_type": "code",
      "metadata": {
        "id": "ojuaO7QFwD5n"
      },
      "source": [
        "# import os\n",
        "\n",
        "# directory = \"./original\"\n",
        "\n",
        "# for filename in os.listdir(directory):\n",
        "#     if filename.endswith(\".png\"):\n",
        "#         temp = tf.keras.preprocessing.image.load_img(directory + \"/\" + filename, \n",
        "#                                                      target_size=(256, 256),\n",
        "#                                                      interpolation=\"bilinear\")\n",
        "#         tf.keras.preprocessing.image.save_img(\"./data/\" + filename, temp)        "
      ],
      "execution_count": null,
      "outputs": []
    },
    {
      "cell_type": "code",
      "metadata": {
        "id": "ZYLquuntikjK"
      },
      "source": [
        "# TODO: create directories"
      ],
      "execution_count": null,
      "outputs": []
    },
    {
      "cell_type": "code",
      "metadata": {
        "id": "f0bd9fWuXC3M"
      },
      "source": [
        "#x = tf.ones((1, 128, 128, 3))"
      ],
      "execution_count": null,
      "outputs": []
    },
    {
      "cell_type": "code",
      "metadata": {
        "id": "_R2Jtt77Yee8",
        "colab": {
          "base_uri": "https://localhost:8080/"
        },
        "outputId": "d161087c-7745-4dc4-a65e-637c86b185bc"
      },
      "source": [
        "%cd /content/VOGUE-Reimplementation/cryu854/\n",
        "# Pull changes\n",
        "!git pull\n",
        "# TODO: --impl\n",
        "!python3 main.py train --dataset_name ffhq --dataset_path ./data --batch_size 4 --config e --impl ref"
      ],
      "execution_count": null,
      "outputs": [
        {
          "output_type": "stream",
          "text": [
            "/content/VOGUE-Reimplementation/cryu854\n",
            "remote: Enumerating objects: 13, done.\u001b[K\n",
            "remote: Counting objects: 100% (13/13), done.\u001b[K\n",
            "remote: Compressing objects: 100% (8/8), done.\u001b[K\n",
            "remote: Total 9 (delta 5), reused 0 (delta 0), pack-reused 0\u001b[K\n",
            "Unpacking objects: 100% (9/9), done.\n",
            "From https://github.com/HSinger04/VOGUE-Reimplementation\n",
            "   a5ab8f8..1647b3e  main       -> origin/main\n",
            "Updating a5ab8f8..1647b3e\n",
            "Fast-forward\n",
            " cryu854/modules/losses.py   |   6 \u001b[32m+\u001b[m\u001b[31m-\u001b[m\n",
            " cyru854/StyleGAN2Test.ipynb | 423 \u001b[32m++++++++++++++++++++++++++++++++++++++++++++\u001b[m\n",
            " 2 files changed, 426 insertions(+), 3 deletions(-)\n",
            " create mode 100644 cyru854/StyleGAN2Test.ipynb\n",
            "2021-03-17 11:32:28.681756: I tensorflow/stream_executor/platform/default/dso_loader.cc:48] Successfully opened dynamic library libcudart.so.10.1\n",
            "Creating ffhq dataset...\n",
            "2021-03-17 11:32:29.847153: I tensorflow/stream_executor/platform/default/dso_loader.cc:48] Successfully opened dynamic library libcuda.so.1\n",
            "2021-03-17 11:32:29.876495: I tensorflow/stream_executor/cuda/cuda_gpu_executor.cc:982] successful NUMA node read from SysFS had negative value (-1), but there must be at least one NUMA node, so returning NUMA node zero\n",
            "2021-03-17 11:32:29.877087: I tensorflow/core/common_runtime/gpu/gpu_device.cc:1716] Found device 0 with properties: \n",
            "pciBusID: 0000:00:04.0 name: Tesla T4 computeCapability: 7.5\n",
            "coreClock: 1.59GHz coreCount: 40 deviceMemorySize: 14.75GiB deviceMemoryBandwidth: 298.08GiB/s\n",
            "2021-03-17 11:32:29.877126: I tensorflow/stream_executor/platform/default/dso_loader.cc:48] Successfully opened dynamic library libcudart.so.10.1\n",
            "2021-03-17 11:32:29.878967: I tensorflow/stream_executor/platform/default/dso_loader.cc:48] Successfully opened dynamic library libcublas.so.10\n",
            "2021-03-17 11:32:29.880742: I tensorflow/stream_executor/platform/default/dso_loader.cc:48] Successfully opened dynamic library libcufft.so.10\n",
            "2021-03-17 11:32:29.881095: I tensorflow/stream_executor/platform/default/dso_loader.cc:48] Successfully opened dynamic library libcurand.so.10\n",
            "2021-03-17 11:32:29.882810: I tensorflow/stream_executor/platform/default/dso_loader.cc:48] Successfully opened dynamic library libcusolver.so.10\n",
            "2021-03-17 11:32:29.883886: I tensorflow/stream_executor/platform/default/dso_loader.cc:48] Successfully opened dynamic library libcusparse.so.10\n",
            "2021-03-17 11:32:29.887382: I tensorflow/stream_executor/platform/default/dso_loader.cc:48] Successfully opened dynamic library libcudnn.so.7\n",
            "2021-03-17 11:32:29.887488: I tensorflow/stream_executor/cuda/cuda_gpu_executor.cc:982] successful NUMA node read from SysFS had negative value (-1), but there must be at least one NUMA node, so returning NUMA node zero\n",
            "2021-03-17 11:32:29.888082: I tensorflow/stream_executor/cuda/cuda_gpu_executor.cc:982] successful NUMA node read from SysFS had negative value (-1), but there must be at least one NUMA node, so returning NUMA node zero\n",
            "2021-03-17 11:32:29.888592: I tensorflow/core/common_runtime/gpu/gpu_device.cc:1858] Adding visible gpu devices: 0\n",
            "2021-03-17 11:32:29.888949: I tensorflow/core/platform/cpu_feature_guard.cc:142] This TensorFlow binary is optimized with oneAPI Deep Neural Network Library (oneDNN)to use the following CPU instructions in performance-critical operations:  AVX2 FMA\n",
            "To enable them in other operations, rebuild TensorFlow with the appropriate compiler flags.\n",
            "2021-03-17 11:32:29.893881: I tensorflow/core/platform/profile_utils/cpu_utils.cc:104] CPU Frequency: 2199995000 Hz\n",
            "2021-03-17 11:32:29.894055: I tensorflow/compiler/xla/service/service.cc:168] XLA service 0x55fd5c55ca00 initialized for platform Host (this does not guarantee that XLA will be used). Devices:\n",
            "2021-03-17 11:32:29.894082: I tensorflow/compiler/xla/service/service.cc:176]   StreamExecutor device (0): Host, Default Version\n",
            "2021-03-17 11:32:29.992841: I tensorflow/stream_executor/cuda/cuda_gpu_executor.cc:982] successful NUMA node read from SysFS had negative value (-1), but there must be at least one NUMA node, so returning NUMA node zero\n",
            "2021-03-17 11:32:29.993550: I tensorflow/compiler/xla/service/service.cc:168] XLA service 0x55fd5c55cbc0 initialized for platform CUDA (this does not guarantee that XLA will be used). Devices:\n",
            "2021-03-17 11:32:29.993581: I tensorflow/compiler/xla/service/service.cc:176]   StreamExecutor device (0): Tesla T4, Compute Capability 7.5\n",
            "2021-03-17 11:32:29.993775: I tensorflow/stream_executor/cuda/cuda_gpu_executor.cc:982] successful NUMA node read from SysFS had negative value (-1), but there must be at least one NUMA node, so returning NUMA node zero\n",
            "2021-03-17 11:32:29.994314: I tensorflow/core/common_runtime/gpu/gpu_device.cc:1716] Found device 0 with properties: \n",
            "pciBusID: 0000:00:04.0 name: Tesla T4 computeCapability: 7.5\n",
            "coreClock: 1.59GHz coreCount: 40 deviceMemorySize: 14.75GiB deviceMemoryBandwidth: 298.08GiB/s\n",
            "2021-03-17 11:32:29.994356: I tensorflow/stream_executor/platform/default/dso_loader.cc:48] Successfully opened dynamic library libcudart.so.10.1\n",
            "2021-03-17 11:32:29.994392: I tensorflow/stream_executor/platform/default/dso_loader.cc:48] Successfully opened dynamic library libcublas.so.10\n",
            "2021-03-17 11:32:29.994414: I tensorflow/stream_executor/platform/default/dso_loader.cc:48] Successfully opened dynamic library libcufft.so.10\n",
            "2021-03-17 11:32:29.994433: I tensorflow/stream_executor/platform/default/dso_loader.cc:48] Successfully opened dynamic library libcurand.so.10\n",
            "2021-03-17 11:32:29.994450: I tensorflow/stream_executor/platform/default/dso_loader.cc:48] Successfully opened dynamic library libcusolver.so.10\n",
            "2021-03-17 11:32:29.994469: I tensorflow/stream_executor/platform/default/dso_loader.cc:48] Successfully opened dynamic library libcusparse.so.10\n",
            "2021-03-17 11:32:29.994497: I tensorflow/stream_executor/platform/default/dso_loader.cc:48] Successfully opened dynamic library libcudnn.so.7\n",
            "2021-03-17 11:32:29.994561: I tensorflow/stream_executor/cuda/cuda_gpu_executor.cc:982] successful NUMA node read from SysFS had negative value (-1), but there must be at least one NUMA node, so returning NUMA node zero\n",
            "2021-03-17 11:32:29.995142: I tensorflow/stream_executor/cuda/cuda_gpu_executor.cc:982] successful NUMA node read from SysFS had negative value (-1), but there must be at least one NUMA node, so returning NUMA node zero\n",
            "2021-03-17 11:32:29.995625: I tensorflow/core/common_runtime/gpu/gpu_device.cc:1858] Adding visible gpu devices: 0\n",
            "2021-03-17 11:32:29.995686: I tensorflow/stream_executor/platform/default/dso_loader.cc:48] Successfully opened dynamic library libcudart.so.10.1\n",
            "2021-03-17 11:32:30.489139: I tensorflow/core/common_runtime/gpu/gpu_device.cc:1257] Device interconnect StreamExecutor with strength 1 edge matrix:\n",
            "2021-03-17 11:32:30.489196: I tensorflow/core/common_runtime/gpu/gpu_device.cc:1263]      0 \n",
            "2021-03-17 11:32:30.489208: I tensorflow/core/common_runtime/gpu/gpu_device.cc:1276] 0:   N \n",
            "2021-03-17 11:32:30.489394: I tensorflow/stream_executor/cuda/cuda_gpu_executor.cc:982] successful NUMA node read from SysFS had negative value (-1), but there must be at least one NUMA node, so returning NUMA node zero\n",
            "2021-03-17 11:32:30.490030: I tensorflow/stream_executor/cuda/cuda_gpu_executor.cc:982] successful NUMA node read from SysFS had negative value (-1), but there must be at least one NUMA node, so returning NUMA node zero\n",
            "2021-03-17 11:32:30.490532: W tensorflow/core/common_runtime/gpu/gpu_bfc_allocator.cc:39] Overriding allow_growth setting because the TF_FORCE_GPU_ALLOW_GROWTH environment variable is set. Original config value was 0.\n",
            "2021-03-17 11:32:30.490574: I tensorflow/core/common_runtime/gpu/gpu_device.cc:1402] Created TensorFlow device (/job:localhost/replica:0/task:0/device:GPU:0 with 13970 MB memory) -> physical GPU (device: 0, name: Tesla T4, pci bus id: 0000:00:04.0, compute capability: 7.5)\n",
            "G_trainable_parameters: 24900764.0\n",
            "D_trainable_parameters: 24038161\n",
            "Initializing from scratch...\n",
            "6250000 training steps for resolution 1024x1024.\n",
            "Current step is 0.\n",
            "Start training...\n",
            "\n",
            "real_images: Tensor(\"real_images:0\", shape=(4, 1024, 1024, 3), dtype=float32)\n",
            "\n",
            "\n",
            "fake_images: Tensor(\"generator/StatefulPartitionedCall_1:0\", shape=(2, 1024, 1024, 3), dtype=float32)\n",
            "\n",
            "\n",
            "pl_grads: None\n",
            "\n",
            "Traceback (most recent call last):\n",
            "  File \"main.py\", line 99, in <module>\n",
            "    main()\n",
            "  File \"main.py\", line 66, in main\n",
            "    trainer.train()\n",
            "  File \"/content/VOGUE-Reimplementation/cryu854/train.py\", line 150, in train\n",
            "    G_loss, D_loss = self.train_step(real_images, real_labels)\n",
            "  File \"/usr/local/lib/python3.7/dist-packages/tensorflow/python/eager/def_function.py\", line 780, in __call__\n",
            "    result = self._call(*args, **kwds)\n",
            "  File \"/usr/local/lib/python3.7/dist-packages/tensorflow/python/eager/def_function.py\", line 823, in _call\n",
            "    self._initialize(args, kwds, add_initializers_to=initializers)\n",
            "  File \"/usr/local/lib/python3.7/dist-packages/tensorflow/python/eager/def_function.py\", line 697, in _initialize\n",
            "    *args, **kwds))\n",
            "  File \"/usr/local/lib/python3.7/dist-packages/tensorflow/python/eager/function.py\", line 2855, in _get_concrete_function_internal_garbage_collected\n",
            "    graph_function, _, _ = self._maybe_define_function(args, kwargs)\n",
            "  File \"/usr/local/lib/python3.7/dist-packages/tensorflow/python/eager/function.py\", line 3213, in _maybe_define_function\n",
            "    graph_function = self._create_graph_function(args, kwargs)\n",
            "  File \"/usr/local/lib/python3.7/dist-packages/tensorflow/python/eager/function.py\", line 3075, in _create_graph_function\n",
            "    capture_by_value=self._capture_by_value),\n",
            "  File \"/usr/local/lib/python3.7/dist-packages/tensorflow/python/framework/func_graph.py\", line 986, in func_graph_from_py_func\n",
            "    func_outputs = python_func(*func_args, **func_kwargs)\n",
            "  File \"/usr/local/lib/python3.7/dist-packages/tensorflow/python/eager/def_function.py\", line 600, in wrapped_fn\n",
            "    return weak_wrapped_fn().__wrapped__(*args, **kwds)\n",
            "  File \"/usr/local/lib/python3.7/dist-packages/tensorflow/python/eager/function.py\", line 3735, in bound_method_wrapper\n",
            "    return wrapped_fn(*args, **kwargs)\n",
            "  File \"/usr/local/lib/python3.7/dist-packages/tensorflow/python/framework/func_graph.py\", line 973, in wrapper\n",
            "    raise e.ag_error_metadata.to_exception(e)\n",
            "ValueError: in user code:\n",
            "\n",
            "    /content/VOGUE-Reimplementation/cryu854/train.py:209 train_step  *\n",
            "        G_loss, G_reg = self.loss_func.get_G_loss(real_images, real_labels, compute_reg=True)\n",
            "    /content/VOGUE-Reimplementation/cryu854/modules/losses.py:75 get_G_loss  *\n",
            "        pl_lengths = tf.math.sqrt(tf.reduce_mean(tf.reduce_sum(tf.square(pl_grads), axis=2), axis=1))\n",
            "    /usr/local/lib/python3.7/dist-packages/tensorflow/python/ops/gen_math_ops.py:10322 square  **\n",
            "        \"Square\", x=x, name=name)\n",
            "    /usr/local/lib/python3.7/dist-packages/tensorflow/python/framework/op_def_library.py:488 _apply_op_helper\n",
            "        (input_name, err))\n",
            "\n",
            "    ValueError: Tried to convert 'x' to a tensor and failed. Error: None values not supported.\n",
            "\n"
          ],
          "name": "stdout"
        }
      ]
    },
    {
      "cell_type": "code",
      "metadata": {
        "id": "9d5bIljB53Az"
      },
      "source": [
        ""
      ],
      "execution_count": null,
      "outputs": []
    }
  ]
}