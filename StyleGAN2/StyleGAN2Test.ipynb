{
  "nbformat": 4,
  "nbformat_minor": 0,
  "metadata": {
    "kernelspec": {
      "display_name": "Python 3",
      "language": "python",
      "name": "python3"
    },
    "language_info": {
      "codemirror_mode": {
        "name": "ipython",
        "version": 3
      },
      "file_extension": ".py",
      "mimetype": "text/x-python",
      "name": "python",
      "nbconvert_exporter": "python",
      "pygments_lexer": "ipython3",
      "version": "3.7.4"
    },
    "colab": {
      "name": "StyleGAN_Local_Editing_Demo.ipynb",
      "provenance": [],
      "toc_visible": true
    },
    "accelerator": "GPU"
  },
  "cells": [
    {
      "cell_type": "markdown",
      "metadata": {
        "id": "bRkHnRKNWBcq"
      },
      "source": [
        "[![Open In Colab](https://colab.research.google.com/assets/colab-badge.svg)](https://colab.research.google.com/github/HSinger04/VOGUE-Reimplementation/blob/main/StyleGAN2/StyleGAN2Test.ipynb#scrollTo=bRkHnRKNWBcq)"
      ]
    },
    {
      "cell_type": "code",
      "metadata": {
        "id": "OgDPSYnP-7qI"
      },
      "source": [
        "import tensorflow as tf"
      ],
      "execution_count": 1,
      "outputs": []
    },
    {
      "cell_type": "code",
      "metadata": {
        "id": "yXcFTFzd_fbM",
        "colab": {
          "base_uri": "https://localhost:8080/"
        },
        "outputId": "84ad8b22-6239-4cd4-d2e0-d3ac5199938b"
      },
      "source": [
        "%cd /content\n",
        "!git clone https://github.com/HSinger04/VOGUE-Reimplementation"
      ],
      "execution_count": 2,
      "outputs": [
        {
          "output_type": "stream",
          "text": [
            "/content\n",
            "Cloning into 'VOGUE-Reimplementation'...\n",
            "remote: Enumerating objects: 101, done.\u001b[K\n",
            "remote: Counting objects: 100% (101/101), done.\u001b[K\n",
            "remote: Compressing objects: 100% (95/95), done.\u001b[K\n",
            "remote: Total 132 (delta 54), reused 14 (delta 2), pack-reused 31\u001b[K\n",
            "Receiving objects: 100% (132/132), 82.02 MiB | 34.35 MiB/s, done.\n",
            "Resolving deltas: 100% (55/55), done.\n"
          ],
          "name": "stdout"
        }
      ]
    },
    {
      "cell_type": "code",
      "metadata": {
        "colab": {
          "base_uri": "https://localhost:8080/"
        },
        "id": "QDibY5O2MgPM",
        "outputId": "7d55e043-d59a-480f-fd3a-a27b6ee74103"
      },
      "source": [
        "%cd /content/VOGUE-Reimplementation/StyleGAN2/"
      ],
      "execution_count": 3,
      "outputs": [
        {
          "output_type": "stream",
          "text": [
            "/content/VOGUE-Reimplementation/StyleGAN2\n"
          ],
          "name": "stdout"
        }
      ]
    },
    {
      "cell_type": "code",
      "metadata": {
        "id": "ymDQAGZpmTE7"
      },
      "source": [
        "!mkdir data\n",
        "!mkdir Models\n",
        "!mkdir Results"
      ],
      "execution_count": 8,
      "outputs": []
    },
    {
      "cell_type": "markdown",
      "metadata": {
        "id": "3iQ2XigZksiH"
      },
      "source": [
        "# Image resizing"
      ]
    },
    {
      "cell_type": "code",
      "metadata": {
        "id": "nbYSoQ7akBu_"
      },
      "source": [
        "# !mkdir original"
      ],
      "execution_count": 4,
      "outputs": []
    },
    {
      "cell_type": "markdown",
      "metadata": {
        "id": "4mW7bnRekyuz"
      },
      "source": [
        "Now, add images to \"original\""
      ]
    },
    {
      "cell_type": "code",
      "metadata": {
        "id": "ojuaO7QFwD5n"
      },
      "source": [
        "# import os\n",
        "\n",
        "# directory = \"./original\"\n",
        "\n",
        "# for filename in os.listdir(directory):\n",
        "#     if filename.endswith(\".png\"):\n",
        "#         temp = tf.keras.preprocessing.image.load_img(directory + \"/\" + filename, \n",
        "#                                                      target_size=(256, 256),\n",
        "#                                                      interpolation=\"bilinear\")\n",
        "#         tf.keras.preprocessing.image.save_img(\"./data/\" + filename, temp)        "
      ],
      "execution_count": 5,
      "outputs": []
    },
    {
      "cell_type": "code",
      "metadata": {
        "id": "ZYLquuntikjK"
      },
      "source": [
        "# TODO: create directories"
      ],
      "execution_count": 6,
      "outputs": []
    },
    {
      "cell_type": "code",
      "metadata": {
        "id": "f0bd9fWuXC3M"
      },
      "source": [
        "#x = tf.ones((1, 128, 128, 3))"
      ],
      "execution_count": 7,
      "outputs": []
    },
    {
      "cell_type": "code",
      "metadata": {
        "id": "_R2Jtt77Yee8",
        "colab": {
          "base_uri": "https://localhost:8080/"
        },
        "outputId": "dad721c7-cdb0-4044-b0ad-33df4f24b030"
      },
      "source": [
        "!python3 stylegan_two.py"
      ],
      "execution_count": 32,
      "outputs": [
        {
          "output_type": "stream",
          "text": [
            "WARNING:tensorflow:From /usr/local/lib/python3.7/dist-packages/tensorflow_core/python/ops/resource_variable_ops.py:1630: calling BaseResourceVariable.__init__ (from tensorflow.python.ops.resource_variable_ops) with constraint is deprecated and will be removed in a future version.\n",
            "Instructions for updating:\n",
            "If using Keras pass *_constraint arguments to layers.\n",
            "WARNING:tensorflow:From /usr/local/lib/python3.7/dist-packages/tensorflow_core/python/keras/initializers.py:143: calling RandomNormal.__init__ (from tensorflow.python.ops.init_ops) with dtype is deprecated and will be removed in a future version.\n",
            "Instructions for updating:\n",
            "Call initializer instance with the dtype argument instead of passing it to the constructor\n",
            "Traceback (most recent call last):\n",
            "  File \"stylegan_two.py\", line 641, in <module>\n",
            "    model = StyleGAN(lr = 0.0001, silent = False)\n",
            "  File \"stylegan_two.py\", line 352, in __init__\n",
            "    self.GAN = GAN(steps = steps, lr = lr, decay = decay)\n",
            "  File \"stylegan_two.py\", line 171, in __init__\n",
            "    self.generator()\n",
            "  File \"stylegan_two.py\", line 250, in generator\n",
            "    x, r = g_block(x, inp_style[0], inp_noise, 32 * cha, u = False)  #4\n",
            "  File \"stylegan_two.py\", line 93, in g_block\n",
            "    rgb_style = Dense(fil, kernel_initializer = VarianceScaling(200/out.shape[2]))(istyle)\n",
            "  File \"/usr/local/lib/python3.7/dist-packages/tensorflow_core/python/framework/tensor_shape.py\", line 556, in __rtruediv__\n",
            "    \"please use // instead\".format(type(other).__name__))\n",
            "TypeError: unsupported operand type(s) for /: 'int' and 'Dimension', please use // instead\n"
          ],
          "name": "stdout"
        }
      ]
    },
    {
      "cell_type": "markdown",
      "metadata": {
        "id": "588jk78KupEt"
      },
      "source": [
        "# FFHQ-Aging-Dataset"
      ]
    },
    {
      "cell_type": "code",
      "metadata": {
        "id": "aC1Vsu5ZYkcp",
        "colab": {
          "base_uri": "https://localhost:8080/"
        },
        "outputId": "b3291c13-7c52-4560-8c52-942b50d19b17"
      },
      "source": [
        "%cd /content/\n",
        "!git clone https://github.com/royorel/FFHQ-Aging-Dataset"
      ],
      "execution_count": null,
      "outputs": [
        {
          "output_type": "stream",
          "text": [
            "Cloning into 'FFHQ-Aging-Dataset'...\n",
            "remote: Enumerating objects: 50, done.\u001b[K\n",
            "remote: Counting objects: 100% (50/50), done.\u001b[K\n",
            "remote: Compressing objects: 100% (42/42), done.\u001b[K\n",
            "remote: Total 55 (delta 25), reused 23 (delta 7), pack-reused 5\u001b[K\n",
            "Unpacking objects: 100% (55/55), done.\n"
          ],
          "name": "stdout"
        }
      ]
    },
    {
      "cell_type": "code",
      "metadata": {
        "id": "ByR8jqIYvnbe",
        "colab": {
          "base_uri": "https://localhost:8080/"
        },
        "outputId": "4f0dce86-ccaf-45dc-b8a0-428555b0bea5"
      },
      "source": [
        "%cd FFHQ-Aging-Dataset/"
      ],
      "execution_count": null,
      "outputs": [
        {
          "output_type": "stream",
          "text": [
            "/content/VOGUE-Reimplementation/StyleGAN2/FFHQ-Aging-Dataset\n"
          ],
          "name": "stdout"
        }
      ]
    },
    {
      "cell_type": "code",
      "metadata": {
        "id": "4qWoCdLJvwvx",
        "colab": {
          "base_uri": "https://localhost:8080/"
        },
        "outputId": "c9cce4c9-ed96-41b4-981a-653e28824da2"
      },
      "source": [
        "!python download_ffhq_aging.py --pydrive --resolution 256 --debug"
      ],
      "execution_count": null,
      "outputs": [
        {
          "output_type": "stream",
          "text": [
            "Your browser has been opened to visit:\n",
            "\n",
            "    https://accounts.google.com/o/oauth2/auth?client_id=977214172107-kauvldkeij1c9g73qeop54tsnkj0ela8.apps.googleusercontent.com&redirect_uri=http%3A%2F%2Flocalhost%3A8090%2F&scope=https%3A%2F%2Fwww.googleapis.com%2Fauth%2Fdrive&access_type=offline&response_type=code\n",
            "\n",
            "Traceback (most recent call last):\n",
            "  File \"/usr/lib/python3.7/socketserver.py\", line 294, in handle_request\n",
            "    ready = selector.select(timeout)\n",
            "  File \"/usr/lib/python3.7/selectors.py\", line 415, in select\n",
            "    fd_event_list = self._selector.poll(timeout)\n",
            "KeyboardInterrupt\n",
            "\n",
            "During handling of the above exception, another exception occurred:\n",
            "\n",
            "Traceback (most recent call last):\n",
            "  File \"download_ffhq_aging.py\", line 385, in <module>\n",
            "    run_cmdline(sys.argv)\n",
            "  File \"download_ffhq_aging.py\", line 380, in run_cmdline\n",
            "    run(**vars(args))\n",
            "  File \"download_ffhq_aging.py\", line 337, in run\n",
            "    drive = pydrive_utils.create_drive_manager(cmd_auth)\n",
            "  File \"/content/VOGUE-Reimplementation/StyleGAN2/FFHQ-Aging-Dataset/pydrive_utils.py\", line 14, in create_drive_manager\n",
            "    gAuth.LocalWebserverAuth()\n",
            "  File \"/usr/local/lib/python3.7/dist-packages/pydrive/auth.py\", line 115, in _decorated\n",
            "    code = decoratee(self, *args, **kwargs)\n",
            "  File \"/usr/local/lib/python3.7/dist-packages/pydrive/auth.py\", line 232, in LocalWebserverAuth\n",
            "    httpd.handle_request()\n",
            "  File \"/usr/lib/python3.7/socketserver.py\", line 301, in handle_request\n",
            "    return self.handle_timeout()\n",
            "  File \"/usr/lib/python3.7/selectors.py\", line 203, in __exit__\n",
            "    self.close()\n",
            "  File \"/usr/lib/python3.7/selectors.py\", line 270, in close\n",
            "    self._map = None\n",
            "KeyboardInterrupt\n"
          ],
          "name": "stdout"
        }
      ]
    },
    {
      "cell_type": "code",
      "metadata": {
        "id": "E_U2zYMKk-mr"
      },
      "source": [
        ""
      ],
      "execution_count": null,
      "outputs": []
    }
  ]
}