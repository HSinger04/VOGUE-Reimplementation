{
  "nbformat": 4,
  "nbformat_minor": 0,
  "metadata": {
    "kernelspec": {
      "display_name": "Python 3",
      "language": "python",
      "name": "python3"
    },
    "language_info": {
      "codemirror_mode": {
        "name": "ipython",
        "version": 3
      },
      "file_extension": ".py",
      "mimetype": "text/x-python",
      "name": "python",
      "nbconvert_exporter": "python",
      "pygments_lexer": "ipython3",
      "version": "3.7.4"
    },
    "colab": {
      "name": "StyleGAN_Local_Editing_Demo.ipynb",
      "provenance": [],
      "toc_visible": true
    },
    "accelerator": "GPU"
  },
  "cells": [
    {
      "cell_type": "markdown",
      "metadata": {
        "id": "bRkHnRKNWBcq"
      },
      "source": [
        "[![Open In Colab](https://colab.research.google.com/assets/colab-badge.svg)](https://colab.research.google.com/github/HSinger04/VOGUE-Reimplementation/blob/main/cryu854/Image2Latent.ipynb)"
      ]
    },
    {
      "cell_type": "code",
      "metadata": {
        "id": "yXcFTFzd_fbM",
        "colab": {
          "base_uri": "https://localhost:8080/"
        },
        "outputId": "0c759f53-5f7a-4895-cb43-816f0262ee9c"
      },
      "source": [
        "%cd /content\n",
        "!git clone https://github.com/HSinger04/VOGUE-Reimplementation"
      ],
      "execution_count": 1,
      "outputs": [
        {
          "output_type": "stream",
          "text": [
            "/content\n",
            "Cloning into 'VOGUE-Reimplementation'...\n",
            "remote: Enumerating objects: 179, done.\u001b[K\n",
            "remote: Counting objects: 100% (179/179), done.\u001b[K\n",
            "remote: Compressing objects: 100% (178/178), done.\u001b[K\n",
            "remote: Total 482 (delta 116), reused 0 (delta 0), pack-reused 303\u001b[K\n",
            "Receiving objects: 100% (482/482), 84.29 MiB | 33.34 MiB/s, done.\n",
            "Resolving deltas: 100% (282/282), done.\n"
          ],
          "name": "stdout"
        }
      ]
    },
    {
      "cell_type": "code",
      "metadata": {
        "colab": {
          "base_uri": "https://localhost:8080/"
        },
        "id": "QDibY5O2MgPM",
        "outputId": "baa4f95c-555d-4ed1-d8e8-af34323c53b3"
      },
      "source": [
        "%cd /content/VOGUE-Reimplementation/cryu854/"
      ],
      "execution_count": 2,
      "outputs": [
        {
          "output_type": "stream",
          "text": [
            "/content/VOGUE-Reimplementation/cryu854\n"
          ],
          "name": "stdout"
        }
      ]
    },
    {
      "cell_type": "markdown",
      "metadata": {
        "id": "DompTDT1jSlq"
      },
      "source": [
        "## Mount drive for dataset and weights"
      ]
    },
    {
      "cell_type": "code",
      "metadata": {
        "colab": {
          "base_uri": "https://localhost:8080/"
        },
        "id": "uvCRJckWjVco",
        "outputId": "a9c381b2-30d3-483f-ed5c-be7e6aa354de"
      },
      "source": [
        "from google.colab import drive\n",
        "drive.mount('/content/drive', force_remount=True)"
      ],
      "execution_count": 3,
      "outputs": [
        {
          "output_type": "stream",
          "text": [
            "Mounted at /content/drive\n"
          ],
          "name": "stdout"
        }
      ]
    },
    {
      "cell_type": "markdown",
      "metadata": {
        "id": "z45486OzOzb8"
      },
      "source": [
        "## Imports"
      ]
    },
    {
      "cell_type": "code",
      "metadata": {
        "id": "dOJUgWG3O0W3"
      },
      "source": [
        "import os\n",
        "import numpy as np\n",
        "\n",
        "import tensorflow as tf\n",
        "from tensorflow.keras.layers import \\\n",
        "BatchNormalization, ELU, Conv2D, Input, Layer, Concatenate, \\\n",
        "GlobalAveragePooling2D, Dropout\n",
        "from tensorflow.keras import Model"
      ],
      "execution_count": 4,
      "outputs": []
    },
    {
      "cell_type": "markdown",
      "metadata": {
        "id": "XWjWZp0dSCzs"
      },
      "source": [
        "## Load data"
      ]
    },
    {
      "cell_type": "code",
      "metadata": {
        "id": "bzsaarYYOdq7"
      },
      "source": [
        "# Pro: Save space in google drive\n",
        "# Contra: Needs to load the whole dataset every time\n",
        "# use list_files to get generate dataset from data in different subdirectories easily\n",
        "data = tf.data.Dataset.list_files(\"/content/drive/MyDrive/Lernen/Coxi/IANNwTF/ffhq-dataset/images1024x1024/\" \n",
        "                                  + \"[0-9]\" * 2\n",
        "                                  + \"000/*.png\")"
      ],
      "execution_count": 5,
      "outputs": []
    },
    {
      "cell_type": "markdown",
      "metadata": {
        "id": "D9qCLxeRY1QZ"
      },
      "source": [
        "## Data pipeline"
      ]
    },
    {
      "cell_type": "code",
      "metadata": {
        "id": "NMSOOrY1pmcW"
      },
      "source": [
        "# Data pipeline constants\n",
        "# shuffle_size shouldn't be much higher than 100. Otherwise, Google Colab runs out of memory\n",
        "shuffle_size = 100\n",
        "BATCH_SIZE = 4\n",
        "PREFETCH_SIZE = tf.data.experimental.AUTOTUNE"
      ],
      "execution_count": 6,
      "outputs": []
    },
    {
      "cell_type": "code",
      "metadata": {
        "id": "2yjSvkA3Y0Uj"
      },
      "source": [
        "def decode_ffhq(image_path):\n",
        "    img = tf.io.read_file(image_path)\n",
        "    img = tf.image.decode_png(img, channels=3)\n",
        "    return img\n",
        "\n",
        "# Convert paths to image\n",
        "data = data.map(decode_ffhq)"
      ],
      "execution_count": 7,
      "outputs": []
    },
    {
      "cell_type": "code",
      "metadata": {
        "id": "H0CMxWCfoawP"
      },
      "source": [
        "# TODO: Show some images"
      ],
      "execution_count": 8,
      "outputs": []
    },
    {
      "cell_type": "code",
      "metadata": {
        "id": "zjtlysHExUiQ"
      },
      "source": [
        "# Normalize to [-1, 1] to match StyleGAN2's generator's output\n",
        "data = data.map(lambda x: (tf.cast(x, tf.float32) / 127.5) - 1)\n",
        "# Shuffle whole dataset once\n",
        "data = data.shuffle(buffer_size=shuffle_size)\n",
        "data = data.batch(BATCH_SIZE)\n",
        "# Shuffle batch each iteration \n",
        "# TODO: left out for now due to memory issues\n",
        "#data = data.shuffle(buffer_size=shuffle_size, reshuffle_each_iteration=True)\n",
        "data = data.prefetch(PREFETCH_SIZE)"
      ],
      "execution_count": 9,
      "outputs": []
    },
    {
      "cell_type": "markdown",
      "metadata": {
        "id": "YL4Z5lVqhSWp"
      },
      "source": [
        "# Loading trained StyleGAN2 Generator"
      ]
    },
    {
      "cell_type": "markdown",
      "metadata": {
        "id": "73bNpBXfkH0v"
      },
      "source": [
        "## Actually load the model"
      ]
    },
    {
      "cell_type": "code",
      "metadata": {
        "colab": {
          "base_uri": "https://localhost:8080/"
        },
        "id": "-eRqIYoPhUta",
        "outputId": "9c19ca77-778b-4be0-9d7a-f2d4e88df541"
      },
      "source": [
        "!git pull\n",
        "import tensorflow as tf\n",
        "from modules.generator import generator\n",
        "\n",
        "resolution = 1024  \n",
        "config = \"f\"\n",
        "num_labels = 0\n",
        "checkpoint_path = \"/content/drive/MyDrive/Lernen/Coxi/IANNwTF/official_1024x1024/\"\n",
        "\n",
        "Gs = generator(resolution, num_labels, config, randomize_noise=False)\n",
        "ckpt = tf.train.Checkpoint(generator_clone=Gs)\n",
        "print(f'Loading network from {checkpoint_path}...')\n",
        "ckpt.restore(tf.train.latest_checkpoint(checkpoint_path)).expect_partial()\n",
        "# Freeze Generator since we don't want to train it\n",
        "Gs.trainable = False"
      ],
      "execution_count": 10,
      "outputs": [
        {
          "output_type": "stream",
          "text": [
            "Already up to date.\n",
            "Loading network from /content/drive/MyDrive/Lernen/Coxi/IANNwTF/official_1024x1024/...\n"
          ],
          "name": "stdout"
        }
      ]
    },
    {
      "cell_type": "markdown",
      "metadata": {
        "id": "BeAtzWoZpKCq"
      },
      "source": [
        "## Generate and show images"
      ]
    },
    {
      "cell_type": "code",
      "metadata": {
        "id": "z7UGWODGXP6-"
      },
      "source": [
        "# returns image in the correct range of 0 to 225\n",
        "@tf.function\n",
        "def get_img(x, truncation_psi, training=False):\n",
        "    # TODO: change comment below better\n",
        "    # Generator returns values that should be clipped to -1 and 1\n",
        "    img = Gs(x, truncation_psi=truncation_psi, training=training)\n",
        "    img = tf.clip_by_value(img, clip_value_min=-1.0, clip_value_max=1.0)\n",
        "    return img"
      ],
      "execution_count": 11,
      "outputs": []
    },
    {
      "cell_type": "code",
      "metadata": {
        "id": "545XC_2Hb79c"
      },
      "source": [
        "truncation_psi = 0.5\n",
        "latent_size = 512\n",
        "latents = tf.random.normal([BATCH_SIZE, latent_size])\n",
        "# TODO: from _get_labels\n",
        "labels_indice = [0]*BATCH_SIZE\n",
        "labels = tf.zeros([BATCH_SIZE, 0], tf.float32)\n",
        "# Generate images\n",
        "images = get_img([latents, labels], truncation_psi)"
      ],
      "execution_count": 12,
      "outputs": []
    },
    {
      "cell_type": "code",
      "metadata": {
        "id": "7aG6cYaidfwa",
        "colab": {
          "base_uri": "https://localhost:8080/",
          "height": 269
        },
        "outputId": "5fb0f911-0692-429b-9e5d-5a187a20acf3"
      },
      "source": [
        "from matplotlib import pyplot as plt\n",
        "\n",
        "# TODO: proper image displaying\n",
        "for i in range(BATCH_SIZE):\n",
        "    temp = images[i]\n",
        "    temp = (temp + 1) * 127.5\n",
        "    plt.imshow(temp.numpy().astype(np.uint8))\n",
        "    break"
      ],
      "execution_count": 13,
      "outputs": [
        {
          "output_type": "display_data",
          "data": {
            "image/png": "[encoded data removed]",
            "text/plain": [
              "<Figure size 432x288 with 1 Axes>"
            ]
          },
          "metadata": {
            "tags": [],
            "needs_background": "light"
          }
        }
      ]
    },
    {
      "cell_type": "markdown",
      "metadata": {
        "id": "KRww0BC-UVFm"
      },
      "source": [
        "## Train model"
      ]
    },
    {
      "cell_type": "markdown",
      "metadata": {
        "id": "pxEhW-2aUZvx"
      },
      "source": [
        "Layers & models also feature a boolean attribute trainable. Its value can be changed. Setting layer.trainable to False moves all the layer's weights from trainable to non-trainable."
      ]
    },
    {
      "cell_type": "code",
      "metadata": {
        "id": "BVgL6NtDb-Rj"
      },
      "source": [
        "class TransitionLayers(Layer):\n",
        "  \n",
        "  def __init__(self, num_filters):\n",
        "    \"\"\"Initialize a Transition Layer consisting of two Convolutional Layers (one acts as a Bottleneck, the other as Pooling Layer). \n",
        "    These Layers can be placed between the Dense Blocks in our DenseNet.\n",
        "\n",
        "    Arguments:\n",
        "      num_filters (list): Number of filters, one for each conv layer in our Transition Layer.\n",
        "    \"\"\"  \n",
        "\n",
        "    # use the keyword super to allow our network to access the init() form the keras Layer class\n",
        "    super(TransitionLayers, self).__init__()\n",
        "\n",
        "    # extract filters\n",
        "    self.filter1, self.filter2 = num_filters\n",
        "\n",
        "    # define set of layers\n",
        "    self.TransitionLayer = [\n",
        "        BatchNormalization(),\n",
        "        ELU(),                           \n",
        "        Conv2D(filters=self.filter1, kernel_size=1, strides=1, padding=\"valid\",  activation=None),\n",
        "        BatchNormalization(),\n",
        "        ELU(),\n",
        "        Conv2D(filters=self.filter2, kernel_size=2, strides=2, padding=\"valid\",  activation=None),\n",
        "        Dropout(0.5)]\n",
        "\n",
        "  @tf.function \n",
        "  def call(self, x, training=True):\n",
        "    \"\"\"Activate our Transition Layers by propagating the input through them\n",
        "\n",
        "    Arguments:\n",
        "      x (Tensor): Tensor containing the input to our Transition Layers\n",
        "      training (Boolean): Indicates whether regularization methods should be used or not when calling the Transition Layer\n",
        "\n",
        "    Returns:\n",
        "      x (Tensor): Tensor containing the drive of the Transition Layers\n",
        "    \"\"\"\n",
        "    for layer in self.TransitionLayer:\n",
        "      x = layer(x, training = training)\n",
        "    return x"
      ],
      "execution_count": 14,
      "outputs": []
    },
    {
      "cell_type": "code",
      "metadata": {
        "id": "NDrBKSOe0yWm"
      },
      "source": [
        "class Block(Layer):\n",
        "\n",
        "  def __init__(self, filter, growth_rate):\n",
        "    \"\"\"Initialize a Block with two Convolutional Layers (the first one acts a Bottleneck, the other is a normal 3x3 Convolutional Layer). \n",
        "    At the end of each Block, the input is concatenated to the Blocks output. Groups of Blocks are connected by Transition Layers.\n",
        "\n",
        "    Arguments:\n",
        "      filter (int): Defines number of filters for the Bottleneck Layer\n",
        "      growth_rate (int): Defines the number of added channels per concatenation\n",
        "    \"\"\"  \n",
        "\n",
        "    # use the keyword super to allow our network to access the init() from the keras Layer class\n",
        "    super(Block, self).__init__()\n",
        "\n",
        "    self.BlockLayers = [\n",
        "        BatchNormalization(),\n",
        "        ELU(),\n",
        "        Conv2D(filters=filter, kernel_size=1, padding=\"valid\",  activation=None),\n",
        "        BatchNormalization(),\n",
        "        ELU(),\n",
        "        Conv2D(filters=growth_rate, kernel_size=3, padding=\"same\",  activation=None)]\n",
        "\n",
        "    # We use this layer to concatenate the input of a Block to its output\n",
        "    self.concatenate = Concatenate()\n",
        "\n",
        "  @tf.function \n",
        "  def call(self, x, training=True):\n",
        "    \"\"\"Activate one Block by propagating the input through the Block layer by layer\n",
        "\n",
        "    Arguments:\n",
        "      x (Tensor): Tensor containing the input to our Block\n",
        "      training (Boolean): Indicates whether regularization methods should be used or not when calling the Block \n",
        "\n",
        "    Returns:\n",
        "      x (Tensor): Tensor containing the concatenated feature maps\n",
        "    \"\"\"\n",
        "    y = x\n",
        "\n",
        "    for layer in self.BlockLayers:\n",
        "      y = layer(y, training = training)\n",
        "\n",
        "    # concatenate input to output\n",
        "    y = self.concatenate([y,x])\n",
        "    return y"
      ],
      "execution_count": 15,
      "outputs": []
    },
    {
      "cell_type": "code",
      "metadata": {
        "id": "E7mwuv1n7mxG"
      },
      "source": [
        "class DenseBlock(Layer):\n",
        "\n",
        "  def __init__(self, filter, growth_rate, num_blocks):\n",
        "    \"\"\"Initialize a DenseBlock consiting of several Blocks\n",
        "\n",
        "    Arguments:\n",
        "      filter (int): Defines number of filters for the Bottleneck Layer\n",
        "      growth_rate (int): Defines the number of added channels per concatenation\n",
        "      num_blocks (int): Number of consecutive Blocks\n",
        "    \"\"\"  \n",
        "\n",
        "    # use the keyword super to allow our network to access the init() from the keras Layer class\n",
        "    super(DenseBlock, self).__init__()\n",
        "\n",
        "    self.DenseBlockLayers = [Block(filter, growth_rate) for _ in range(num_blocks)]\n",
        "\n",
        "\n",
        "  @tf.function \n",
        "  def call(self, x, training=True):\n",
        "    \"\"\"Activate one DenseBlock by propagating the input through the DenseBlock layer by layer\n",
        "\n",
        "    Arguments:\n",
        "      x (Tensor): Tensor containing the input to our DenseBlock\n",
        "      training (Boolean): Indicates whether regularization methods should be used or not when calling the DenseBlock \n",
        "\n",
        "    Returns:\n",
        "      x (Tensor): Outputs the feature maps of a whole DenseBlock\n",
        "    \"\"\"\n",
        "\n",
        "    for block in self.DenseBlockLayers:\n",
        "      x = block(x, training = training)\n",
        "\n",
        "    return x"
      ],
      "execution_count": 30,
      "outputs": []
    },
    {
      "cell_type": "code",
      "metadata": {
        "id": "sURU6Be67otf"
      },
      "source": [
        "class DenseNetwork(Model):\n",
        "\n",
        "  def __init__(self):\n",
        "    \"\"\"Initialize a DenseNet with a variable amount of keras.Layers\n",
        "    \"\"\"  \n",
        "    # use the keyword super to allow our network to access the init() form the keras Model class\n",
        "    super(DenseNetwork, self).__init__()\n",
        "\n",
        "    self.DenseNetLayers = [Conv2D(filters=32, kernel_size=3, padding=\"same\",  activation=None)]\n",
        "\n",
        "    self.DenseNetLayers.append(DenseBlock(filter=32, growth_rate=32, num_blocks=4))\n",
        "\n",
        "    self.DenseNetLayers.append(TransitionLayers(num_filters=[32,64]))\n",
        "\n",
        "    self.DenseNetLayers.append(DenseBlock(filter=64, growth_rate=64, num_blocks=4))\n",
        "\n",
        "    self.DenseNetLayers.append(TransitionLayers(num_filters=[64,128]))\n",
        "\n",
        "    self.DenseNetLayers.append(DenseBlock(filter=128, growth_rate=128, num_blocks=4))\n",
        "\n",
        "    self.DenseNetLayers.extend([BatchNormalization(),\n",
        "                                ELU(),\n",
        "                                Conv2D(latent_size, 2, strides=2),\n",
        "                                GlobalAveragePooling2D()])\n",
        "\n",
        "    # TODO: Add last layer\n",
        "\n",
        "  @tf.function    \n",
        "  def call(self, x, training = True):\n",
        "    \"\"\"Activate our model propagating the input through the network layer by layer\n",
        "\n",
        "    Arguments:\n",
        "      x (Tensor): Tensor containing the input to our network\n",
        "      training (Boolean): Indicates whether regularization methods should be used or not when calling the model \n",
        "\n",
        "    Returns:\n",
        "      x (Tensor): Tensor containing the probabilities for the ten classes\n",
        "    \"\"\"\n",
        "\n",
        "    for layer in self.DenseNetLayers:\n",
        "      x = layer(x, training = training)\n",
        "    return x"
      ],
      "execution_count": 31,
      "outputs": []
    },
    {
      "cell_type": "markdown",
      "metadata": {
        "id": "Q0MolKJJADXh"
      },
      "source": [
        "## Training preparation"
      ]
    },
    {
      "cell_type": "markdown",
      "metadata": {
        "id": "OSfZF7lmCYSl"
      },
      "source": [
        "## Load VGG and freeze it "
      ]
    },
    {
      "cell_type": "code",
      "metadata": {
        "id": "z23-qjcUCZwp"
      },
      "source": [
        "vgg = tf.keras.applications.VGG16()\n",
        "# Freeze VGG since we don't want to train it\n",
        "vgg.trainable = False"
      ],
      "execution_count": 32,
      "outputs": []
    },
    {
      "cell_type": "markdown",
      "metadata": {
        "id": "ZLVyUcZpqva_"
      },
      "source": [
        "## Define perceptual loss"
      ]
    },
    {
      "cell_type": "code",
      "metadata": {
        "id": "dNE5p-lWXg9R"
      },
      "source": [
        "# TODO: tf.function\n",
        "@tf.function\n",
        "def perc_loss(real, fake, loss_tracker):\n",
        "    # TODO: Better description. Also maybe more detail? Point to equation\n",
        "    \"\"\"Returns perceptual loss according to VGG16 activations. See \n",
        "    \"\"\"\n",
        "    \n",
        "    real = tf.image.resize(real, [224, 224])\n",
        "    real = tf.keras.applications.vgg16.preprocess_input(real)\n",
        "\n",
        "    fake = tf.image.resize(fake, [224, 224])\n",
        "    fake = tf.keras.applications.vgg16.preprocess_input(fake)\n",
        "    \n",
        "    for i, layer in enumerate(vgg.layers):\n",
        "            real = layer(real)\n",
        "            fake = layer(fake)\n",
        "            # TODO: say which corresponds to what\n",
        "            if i == 2 or i == 5 or i == 9 or i == 13 or i == 17:\n",
        "                # normalize in channel dimension\n",
        "                layer_loss = tf.math.l2_normalize(real, axis=-1)\n",
        "                layer_loss -= tf.math.l2_normalize(fake, axis=-1)\n",
        "\n",
        "                # TODO: should be alright, since shape is right, but not fully confirmed\n",
        "                layer_loss = tf.norm(layer_loss, axis=-1)\n",
        "                layer_loss = tf.square(layer_loss)\n",
        "                layer_loss = tf.reduce_mean(layer_loss)\n",
        "\n",
        "                loss_tracker.update_state(layer_loss)"
      ],
      "execution_count": 33,
      "outputs": []
    },
    {
      "cell_type": "code",
      "metadata": {
        "id": "9d4KU3x_7w_q"
      },
      "source": [
        "# TODO\n",
        "#@tf.function\n",
        "def encoder_train_step(model, train_data, optimizer, global_loss_tracker, local_loss_tracker, train_writer):\n",
        "\n",
        "    for inputs in train_data:\n",
        "        \n",
        "        # reset local loss\n",
        "        local_loss_tracker.reset_states()    \n",
        "\n",
        "        with tf.GradientTape() as tape:\n",
        "\n",
        "            # perc\n",
        "            fakes = model(inputs)\n",
        "            fakes = get_img([fakes, labels], truncation_psi)\n",
        "            perc_loss(inputs, fakes, local_loss_tracker)\n",
        "            loss = local_loss_tracker.result()\n",
        "            # average over the batch manually\n",
        "            # TODO: remove\n",
        "            #loss = tf.math.reduce_mean(loss)\n",
        "            # TODO: remove\n",
        "            print(model.__class_)\n",
        "            gradients = tape.gradient(loss, model.trainable_variables)\n",
        "\n",
        "        # update weights  \n",
        "        optimizer.apply_gradients(zip(gradients, model.trainable_variables))\n",
        "\n",
        "        # record global loss\n",
        "        global_loss_tracker.update_state(loss)"
      ],
      "execution_count": 34,
      "outputs": []
    },
    {
      "cell_type": "markdown",
      "metadata": {
        "id": "JJ9aiDH2FXgn"
      },
      "source": [
        "## Instantiate loss trackers"
      ]
    },
    {
      "cell_type": "code",
      "metadata": {
        "id": "MOXQHhouFYwZ"
      },
      "source": [
        "GLOBAL_LOSS_TRACKER = tf.keras.metrics.Mean()\n",
        "LOCAL_LOSS_TRACKER = tf.keras.metrics.Sum()"
      ],
      "execution_count": 35,
      "outputs": []
    },
    {
      "cell_type": "markdown",
      "metadata": {
        "id": "PfGc4yyVrxTR"
      },
      "source": [
        "## Instantiate train writer"
      ]
    },
    {
      "cell_type": "code",
      "metadata": {
        "id": "cJxfBVm-sBfv"
      },
      "source": [
        "import datetime\n",
        "current_time = datetime.datetime.now().strftime(\"%Y%m%d-%H%M%S\")\n",
        "# Set log directory\n",
        "LOG_DIR = \"/content/drive/MyDrive/Lernen/Coxi/IANNwTF/logs/encoder/\" + current_time \n",
        "\n",
        "TRAIN_WRITER = tf.summary.create_file_writer(LOG_DIR)"
      ],
      "execution_count": 36,
      "outputs": []
    },
    {
      "cell_type": "markdown",
      "metadata": {
        "id": "q4_YNwsztr60"
      },
      "source": [
        "## Instantiate optimizer"
      ]
    },
    {
      "cell_type": "code",
      "metadata": {
        "id": "YwgANYckttKN"
      },
      "source": [
        "LEARNING_RATE = 0.001\n",
        "OPTIMIZER = tf.keras.optimizers.Adam(LEARNING_RATE)"
      ],
      "execution_count": 37,
      "outputs": []
    },
    {
      "cell_type": "markdown",
      "metadata": {
        "id": "MD7Kzd7w7GxE"
      },
      "source": [
        "## Instantiate encoder"
      ]
    },
    {
      "cell_type": "code",
      "metadata": {
        "id": "L27-rIjG7IaU"
      },
      "source": [
        "ENCODER = DenseNetwork()"
      ],
      "execution_count": 38,
      "outputs": []
    },
    {
      "cell_type": "code",
      "metadata": {
        "id": "_ZYJlXEtzcCB"
      },
      "source": [
        "#for datum in data:\n",
        "#    print(datum.shape)"
      ],
      "execution_count": 39,
      "outputs": []
    },
    {
      "cell_type": "code",
      "metadata": {
        "id": "1maxy-jHBrX9"
      },
      "source": [
        "# TODO: remove\n",
        "#for datum in data:\n",
        "#    ENCODER(datum)\n",
        "#    break"
      ],
      "execution_count": 40,
      "outputs": []
    },
    {
      "cell_type": "markdown",
      "metadata": {
        "id": "maKNom-trtdp"
      },
      "source": [
        "# Train"
      ]
    },
    {
      "cell_type": "code",
      "metadata": {
        "colab": {
          "base_uri": "https://localhost:8080/",
          "height": 591
        },
        "id": "ZgcxEd16refn",
        "outputId": "d23cc6a4-6bba-41a0-d021-0cc782417001"
      },
      "source": [
        "NUM_EPOCHS = 10000\n",
        "\n",
        "for epoch in range(NUM_EPOCHS):\n",
        "    print(\"Start epoch: \" + str(epoch))\n",
        "\n",
        "    # reset statistics\n",
        "    GLOBAL_LOSS_TRACKER.reset_states()\n",
        "\n",
        "    encoder_train_step(ENCODER, data, OPTIMIZER, GLOBAL_LOSS_TRACKER, LOCAL_LOSS_TRACKER, TRAIN_WRITER)    \n",
        "    data = data.shuffle(buffer_size = shuffle_size)\n",
        "\n",
        "    # write average epoch loss\n",
        "    with TRAIN_WRITER.as_default():\n",
        "        tf.summary.scalar('loss', GLOBAL_LOSS_TRACKER.result(), step=epoch)    "
      ],
      "execution_count": 42,
      "outputs": [
        {
          "output_type": "stream",
          "text": [
            "Start epoch: 0\n"
          ],
          "name": "stdout"
        },
        {
          "output_type": "error",
          "ename": "ResourceExhaustedError",
          "evalue": "ignored",
          "traceback": [
            "\u001b[0;31m---------------------------------------------------------------------------\u001b[0m",
            "\u001b[0;31mResourceExhaustedError\u001b[0m                    Traceback (most recent call last)",
            "\u001b[0;32m<ipython-input-42-12bcf442c1e6>\u001b[0m in \u001b[0;36m<module>\u001b[0;34m()\u001b[0m\n\u001b[1;32m      7\u001b[0m     \u001b[0mGLOBAL_LOSS_TRACKER\u001b[0m\u001b[0;34m.\u001b[0m\u001b[0mreset_states\u001b[0m\u001b[0;34m(\u001b[0m\u001b[0;34m)\u001b[0m\u001b[0;34m\u001b[0m\u001b[0;34m\u001b[0m\u001b[0m\n\u001b[1;32m      8\u001b[0m \u001b[0;34m\u001b[0m\u001b[0m\n\u001b[0;32m----> 9\u001b[0;31m     \u001b[0mencoder_train_step\u001b[0m\u001b[0;34m(\u001b[0m\u001b[0mENCODER\u001b[0m\u001b[0;34m,\u001b[0m \u001b[0mdata\u001b[0m\u001b[0;34m,\u001b[0m \u001b[0mOPTIMIZER\u001b[0m\u001b[0;34m,\u001b[0m \u001b[0mGLOBAL_LOSS_TRACKER\u001b[0m\u001b[0;34m,\u001b[0m \u001b[0mLOCAL_LOSS_TRACKER\u001b[0m\u001b[0;34m,\u001b[0m \u001b[0mTRAIN_WRITER\u001b[0m\u001b[0;34m)\u001b[0m\u001b[0;34m\u001b[0m\u001b[0;34m\u001b[0m\u001b[0m\n\u001b[0m\u001b[1;32m     10\u001b[0m     \u001b[0mdata\u001b[0m \u001b[0;34m=\u001b[0m \u001b[0mdata\u001b[0m\u001b[0;34m.\u001b[0m\u001b[0mshuffle\u001b[0m\u001b[0;34m(\u001b[0m\u001b[0mbuffer_size\u001b[0m \u001b[0;34m=\u001b[0m \u001b[0mshuffle_size\u001b[0m\u001b[0;34m)\u001b[0m\u001b[0;34m\u001b[0m\u001b[0;34m\u001b[0m\u001b[0m\n\u001b[1;32m     11\u001b[0m \u001b[0;34m\u001b[0m\u001b[0m\n",
            "\u001b[0;32m<ipython-input-34-5e3113960cdb>\u001b[0m in \u001b[0;36mencoder_train_step\u001b[0;34m(model, train_data, optimizer, global_loss_tracker, local_loss_tracker, train_writer)\u001b[0m\n\u001b[1;32m     11\u001b[0m \u001b[0;34m\u001b[0m\u001b[0m\n\u001b[1;32m     12\u001b[0m             \u001b[0;31m# perc\u001b[0m\u001b[0;34m\u001b[0m\u001b[0;34m\u001b[0m\u001b[0;34m\u001b[0m\u001b[0m\n\u001b[0;32m---> 13\u001b[0;31m             \u001b[0mfakes\u001b[0m \u001b[0;34m=\u001b[0m \u001b[0mmodel\u001b[0m\u001b[0;34m(\u001b[0m\u001b[0minputs\u001b[0m\u001b[0;34m)\u001b[0m\u001b[0;34m\u001b[0m\u001b[0;34m\u001b[0m\u001b[0m\n\u001b[0m\u001b[1;32m     14\u001b[0m             \u001b[0mfakes\u001b[0m \u001b[0;34m=\u001b[0m \u001b[0mget_img\u001b[0m\u001b[0;34m(\u001b[0m\u001b[0;34m[\u001b[0m\u001b[0mfakes\u001b[0m\u001b[0;34m,\u001b[0m \u001b[0mlabels\u001b[0m\u001b[0;34m]\u001b[0m\u001b[0;34m,\u001b[0m \u001b[0mtruncation_psi\u001b[0m\u001b[0;34m)\u001b[0m\u001b[0;34m\u001b[0m\u001b[0;34m\u001b[0m\u001b[0m\n\u001b[1;32m     15\u001b[0m             \u001b[0mperc_loss\u001b[0m\u001b[0;34m(\u001b[0m\u001b[0minputs\u001b[0m\u001b[0;34m,\u001b[0m \u001b[0mfakes\u001b[0m\u001b[0;34m,\u001b[0m \u001b[0mlocal_loss_tracker\u001b[0m\u001b[0;34m)\u001b[0m\u001b[0;34m\u001b[0m\u001b[0;34m\u001b[0m\u001b[0m\n",
            "\u001b[0;32m/usr/local/lib/python3.7/dist-packages/tensorflow/python/keras/engine/base_layer.py\u001b[0m in \u001b[0;36m__call__\u001b[0;34m(self, *args, **kwargs)\u001b[0m\n\u001b[1;32m   1010\u001b[0m         with autocast_variable.enable_auto_cast_variables(\n\u001b[1;32m   1011\u001b[0m             self._compute_dtype_object):\n\u001b[0;32m-> 1012\u001b[0;31m           \u001b[0moutputs\u001b[0m \u001b[0;34m=\u001b[0m \u001b[0mcall_fn\u001b[0m\u001b[0;34m(\u001b[0m\u001b[0minputs\u001b[0m\u001b[0;34m,\u001b[0m \u001b[0;34m*\u001b[0m\u001b[0margs\u001b[0m\u001b[0;34m,\u001b[0m \u001b[0;34m**\u001b[0m\u001b[0mkwargs\u001b[0m\u001b[0;34m)\u001b[0m\u001b[0;34m\u001b[0m\u001b[0;34m\u001b[0m\u001b[0m\n\u001b[0m\u001b[1;32m   1013\u001b[0m \u001b[0;34m\u001b[0m\u001b[0m\n\u001b[1;32m   1014\u001b[0m         \u001b[0;32mif\u001b[0m \u001b[0mself\u001b[0m\u001b[0;34m.\u001b[0m\u001b[0m_activity_regularizer\u001b[0m\u001b[0;34m:\u001b[0m\u001b[0;34m\u001b[0m\u001b[0;34m\u001b[0m\u001b[0m\n",
            "\u001b[0;32m/usr/local/lib/python3.7/dist-packages/tensorflow/python/eager/def_function.py\u001b[0m in \u001b[0;36m__call__\u001b[0;34m(self, *args, **kwds)\u001b[0m\n\u001b[1;32m    826\u001b[0m     \u001b[0mtracing_count\u001b[0m \u001b[0;34m=\u001b[0m \u001b[0mself\u001b[0m\u001b[0;34m.\u001b[0m\u001b[0mexperimental_get_tracing_count\u001b[0m\u001b[0;34m(\u001b[0m\u001b[0;34m)\u001b[0m\u001b[0;34m\u001b[0m\u001b[0;34m\u001b[0m\u001b[0m\n\u001b[1;32m    827\u001b[0m     \u001b[0;32mwith\u001b[0m \u001b[0mtrace\u001b[0m\u001b[0;34m.\u001b[0m\u001b[0mTrace\u001b[0m\u001b[0;34m(\u001b[0m\u001b[0mself\u001b[0m\u001b[0;34m.\u001b[0m\u001b[0m_name\u001b[0m\u001b[0;34m)\u001b[0m \u001b[0;32mas\u001b[0m \u001b[0mtm\u001b[0m\u001b[0;34m:\u001b[0m\u001b[0;34m\u001b[0m\u001b[0;34m\u001b[0m\u001b[0m\n\u001b[0;32m--> 828\u001b[0;31m       \u001b[0mresult\u001b[0m \u001b[0;34m=\u001b[0m \u001b[0mself\u001b[0m\u001b[0;34m.\u001b[0m\u001b[0m_call\u001b[0m\u001b[0;34m(\u001b[0m\u001b[0;34m*\u001b[0m\u001b[0margs\u001b[0m\u001b[0;34m,\u001b[0m \u001b[0;34m**\u001b[0m\u001b[0mkwds\u001b[0m\u001b[0;34m)\u001b[0m\u001b[0;34m\u001b[0m\u001b[0;34m\u001b[0m\u001b[0m\n\u001b[0m\u001b[1;32m    829\u001b[0m       \u001b[0mcompiler\u001b[0m \u001b[0;34m=\u001b[0m \u001b[0;34m\"xla\"\u001b[0m \u001b[0;32mif\u001b[0m \u001b[0mself\u001b[0m\u001b[0;34m.\u001b[0m\u001b[0m_experimental_compile\u001b[0m \u001b[0;32melse\u001b[0m \u001b[0;34m\"nonXla\"\u001b[0m\u001b[0;34m\u001b[0m\u001b[0;34m\u001b[0m\u001b[0m\n\u001b[1;32m    830\u001b[0m       \u001b[0mnew_tracing_count\u001b[0m \u001b[0;34m=\u001b[0m \u001b[0mself\u001b[0m\u001b[0;34m.\u001b[0m\u001b[0mexperimental_get_tracing_count\u001b[0m\u001b[0;34m(\u001b[0m\u001b[0;34m)\u001b[0m\u001b[0;34m\u001b[0m\u001b[0;34m\u001b[0m\u001b[0m\n",
            "\u001b[0;32m/usr/local/lib/python3.7/dist-packages/tensorflow/python/eager/def_function.py\u001b[0m in \u001b[0;36m_call\u001b[0;34m(self, *args, **kwds)\u001b[0m\n\u001b[1;32m    886\u001b[0m         \u001b[0;31m# Lifting succeeded, so variables are initialized and we can run the\u001b[0m\u001b[0;34m\u001b[0m\u001b[0;34m\u001b[0m\u001b[0;34m\u001b[0m\u001b[0m\n\u001b[1;32m    887\u001b[0m         \u001b[0;31m# stateless function.\u001b[0m\u001b[0;34m\u001b[0m\u001b[0;34m\u001b[0m\u001b[0;34m\u001b[0m\u001b[0m\n\u001b[0;32m--> 888\u001b[0;31m         \u001b[0;32mreturn\u001b[0m \u001b[0mself\u001b[0m\u001b[0;34m.\u001b[0m\u001b[0m_stateless_fn\u001b[0m\u001b[0;34m(\u001b[0m\u001b[0;34m*\u001b[0m\u001b[0margs\u001b[0m\u001b[0;34m,\u001b[0m \u001b[0;34m**\u001b[0m\u001b[0mkwds\u001b[0m\u001b[0;34m)\u001b[0m\u001b[0;34m\u001b[0m\u001b[0;34m\u001b[0m\u001b[0m\n\u001b[0m\u001b[1;32m    889\u001b[0m     \u001b[0;32melse\u001b[0m\u001b[0;34m:\u001b[0m\u001b[0;34m\u001b[0m\u001b[0;34m\u001b[0m\u001b[0m\n\u001b[1;32m    890\u001b[0m       \u001b[0m_\u001b[0m\u001b[0;34m,\u001b[0m \u001b[0m_\u001b[0m\u001b[0;34m,\u001b[0m \u001b[0m_\u001b[0m\u001b[0;34m,\u001b[0m \u001b[0mfiltered_flat_args\u001b[0m \u001b[0;34m=\u001b[0m\u001b[0;31m \u001b[0m\u001b[0;31m\\\u001b[0m\u001b[0;34m\u001b[0m\u001b[0;34m\u001b[0m\u001b[0m\n",
            "\u001b[0;32m/usr/local/lib/python3.7/dist-packages/tensorflow/python/eager/function.py\u001b[0m in \u001b[0;36m__call__\u001b[0;34m(self, *args, **kwargs)\u001b[0m\n\u001b[1;32m   2941\u001b[0m        filtered_flat_args) = self._maybe_define_function(args, kwargs)\n\u001b[1;32m   2942\u001b[0m     return graph_function._call_flat(\n\u001b[0;32m-> 2943\u001b[0;31m         filtered_flat_args, captured_inputs=graph_function.captured_inputs)  # pylint: disable=protected-access\n\u001b[0m\u001b[1;32m   2944\u001b[0m \u001b[0;34m\u001b[0m\u001b[0m\n\u001b[1;32m   2945\u001b[0m   \u001b[0;34m@\u001b[0m\u001b[0mproperty\u001b[0m\u001b[0;34m\u001b[0m\u001b[0;34m\u001b[0m\u001b[0m\n",
            "\u001b[0;32m/usr/local/lib/python3.7/dist-packages/tensorflow/python/eager/function.py\u001b[0m in \u001b[0;36m_call_flat\u001b[0;34m(self, args, captured_inputs, cancellation_manager)\u001b[0m\n\u001b[1;32m   1925\u001b[0m     \u001b[0;32mif\u001b[0m \u001b[0mexecuting_eagerly\u001b[0m\u001b[0;34m:\u001b[0m\u001b[0;34m\u001b[0m\u001b[0;34m\u001b[0m\u001b[0m\n\u001b[1;32m   1926\u001b[0m       flat_outputs = forward_function.call(\n\u001b[0;32m-> 1927\u001b[0;31m           ctx, args_with_tangents, cancellation_manager=cancellation_manager)\n\u001b[0m\u001b[1;32m   1928\u001b[0m     \u001b[0;32melse\u001b[0m\u001b[0;34m:\u001b[0m\u001b[0;34m\u001b[0m\u001b[0;34m\u001b[0m\u001b[0m\n\u001b[1;32m   1929\u001b[0m       with default_graph._override_gradient_function(  # pylint: disable=protected-access\n",
            "\u001b[0;32m/usr/local/lib/python3.7/dist-packages/tensorflow/python/eager/function.py\u001b[0m in \u001b[0;36mcall\u001b[0;34m(self, ctx, args, cancellation_manager)\u001b[0m\n\u001b[1;32m    558\u001b[0m               \u001b[0minputs\u001b[0m\u001b[0;34m=\u001b[0m\u001b[0margs\u001b[0m\u001b[0;34m,\u001b[0m\u001b[0;34m\u001b[0m\u001b[0;34m\u001b[0m\u001b[0m\n\u001b[1;32m    559\u001b[0m               \u001b[0mattrs\u001b[0m\u001b[0;34m=\u001b[0m\u001b[0mattrs\u001b[0m\u001b[0;34m,\u001b[0m\u001b[0;34m\u001b[0m\u001b[0;34m\u001b[0m\u001b[0m\n\u001b[0;32m--> 560\u001b[0;31m               ctx=ctx)\n\u001b[0m\u001b[1;32m    561\u001b[0m         \u001b[0;32melse\u001b[0m\u001b[0;34m:\u001b[0m\u001b[0;34m\u001b[0m\u001b[0;34m\u001b[0m\u001b[0m\n\u001b[1;32m    562\u001b[0m           outputs = execute.execute_with_cancellation(\n",
            "\u001b[0;32m/usr/local/lib/python3.7/dist-packages/tensorflow/python/eager/execute.py\u001b[0m in \u001b[0;36mquick_execute\u001b[0;34m(op_name, num_outputs, inputs, attrs, ctx, name)\u001b[0m\n\u001b[1;32m     58\u001b[0m     \u001b[0mctx\u001b[0m\u001b[0;34m.\u001b[0m\u001b[0mensure_initialized\u001b[0m\u001b[0;34m(\u001b[0m\u001b[0;34m)\u001b[0m\u001b[0;34m\u001b[0m\u001b[0;34m\u001b[0m\u001b[0m\n\u001b[1;32m     59\u001b[0m     tensors = pywrap_tfe.TFE_Py_Execute(ctx._handle, device_name, op_name,\n\u001b[0;32m---> 60\u001b[0;31m                                         inputs, attrs, num_outputs)\n\u001b[0m\u001b[1;32m     61\u001b[0m   \u001b[0;32mexcept\u001b[0m \u001b[0mcore\u001b[0m\u001b[0;34m.\u001b[0m\u001b[0m_NotOkStatusException\u001b[0m \u001b[0;32mas\u001b[0m \u001b[0me\u001b[0m\u001b[0;34m:\u001b[0m\u001b[0;34m\u001b[0m\u001b[0;34m\u001b[0m\u001b[0m\n\u001b[1;32m     62\u001b[0m     \u001b[0;32mif\u001b[0m \u001b[0mname\u001b[0m \u001b[0;32mis\u001b[0m \u001b[0;32mnot\u001b[0m \u001b[0;32mNone\u001b[0m\u001b[0;34m:\u001b[0m\u001b[0;34m\u001b[0m\u001b[0;34m\u001b[0m\u001b[0m\n",
            "\u001b[0;31mResourceExhaustedError\u001b[0m:  OOM when allocating tensor with shape[4,1024,1024,68] and type float on /job:localhost/replica:0/task:0/device:GPU:0 by allocator GPU_0_bfc\n\t [[{{node dense_block_3/StatefulPartitionedCall/block_14/StatefulPartitionedCall/Identity-0-2-TransposeNCHWToNHWC-LayoutOptimizer}}]]\nHint: If you want to see a list of allocated tensors when OOM happens, add report_tensor_allocations_upon_oom to RunOptions for current allocation info.\n [Op:__forward_call_24773]\n\nFunction call stack:\ncall\n"
          ]
        }
      ]
    },
    {
      "cell_type": "code",
      "metadata": {
        "id": "2aEbyvDAE9IE"
      },
      "source": [
        ""
      ],
      "execution_count": null,
      "outputs": []
    }
  ]
}