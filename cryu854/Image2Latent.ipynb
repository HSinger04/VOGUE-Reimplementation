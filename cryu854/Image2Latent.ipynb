{
  "nbformat": 4,
  "nbformat_minor": 0,
  "metadata": {
    "kernelspec": {
      "display_name": "Python 3",
      "language": "python",
      "name": "python3"
    },
    "language_info": {
      "codemirror_mode": {
        "name": "ipython",
        "version": 3
      },
      "file_extension": ".py",
      "mimetype": "text/x-python",
      "name": "python",
      "nbconvert_exporter": "python",
      "pygments_lexer": "ipython3",
      "version": "3.7.4"
    },
    "colab": {
      "name": "StyleGAN_Local_Editing_Demo.ipynb",
      "provenance": [],
      "toc_visible": true
    },
    "accelerator": "GPU"
  },
  "cells": [
    {
      "cell_type": "markdown",
      "metadata": {
        "id": "bRkHnRKNWBcq"
      },
      "source": [
        "[![Open In Colab](https://colab.research.google.com/assets/colab-badge.svg)](https://colab.research.google.com/github/HSinger04/VOGUE-Reimplementation/blob/main/cryu854/Image2Latent.ipynb)"
      ]
    },
    {
      "cell_type": "code",
      "metadata": {
        "id": "yXcFTFzd_fbM",
        "colab": {
          "base_uri": "https://localhost:8080/"
        },
        "outputId": "fd965dca-2007-4373-8fd7-ddc1afc86167"
      },
      "source": [
        "%cd /content\n",
        "!git clone https://github.com/HSinger04/VOGUE-Reimplementation"
      ],
      "execution_count": 1,
      "outputs": [
        {
          "output_type": "stream",
          "text": [
            "/content\n",
            "Cloning into 'VOGUE-Reimplementation'...\n",
            "remote: Enumerating objects: 147, done.\u001b[K\n",
            "remote: Counting objects: 100% (147/147), done.\u001b[K\n",
            "remote: Compressing objects: 100% (146/146), done.\u001b[K\n",
            "remote: Total 450 (delta 96), reused 0 (delta 0), pack-reused 303\u001b[K\n",
            "Receiving objects: 100% (450/450), 83.92 MiB | 26.30 MiB/s, done.\n",
            "Resolving deltas: 100% (262/262), done.\n"
          ],
          "name": "stdout"
        }
      ]
    },
    {
      "cell_type": "code",
      "metadata": {
        "colab": {
          "base_uri": "https://localhost:8080/"
        },
        "id": "QDibY5O2MgPM",
        "outputId": "1ad61e04-01d3-45f9-f925-16e989176ac1"
      },
      "source": [
        "%cd /content/VOGUE-Reimplementation/cryu854/"
      ],
      "execution_count": 2,
      "outputs": [
        {
          "output_type": "stream",
          "text": [
            "/content/VOGUE-Reimplementation/cryu854\n"
          ],
          "name": "stdout"
        }
      ]
    },
    {
      "cell_type": "markdown",
      "metadata": {
        "id": "DompTDT1jSlq"
      },
      "source": [
        "## Mount drive for dataset and weights"
      ]
    },
    {
      "cell_type": "code",
      "metadata": {
        "colab": {
          "base_uri": "https://localhost:8080/"
        },
        "id": "uvCRJckWjVco",
        "outputId": "96139e2a-a652-4a21-bea6-87f1544102be"
      },
      "source": [
        "from google.colab import drive\n",
        "drive.mount('/content/drive', force_remount=True)"
      ],
      "execution_count": 3,
      "outputs": [
        {
          "output_type": "stream",
          "text": [
            "Mounted at /content/drive\n"
          ],
          "name": "stdout"
        }
      ]
    },
    {
      "cell_type": "markdown",
      "metadata": {
        "id": "z45486OzOzb8"
      },
      "source": [
        "## Imports"
      ]
    },
    {
      "cell_type": "code",
      "metadata": {
        "id": "dOJUgWG3O0W3"
      },
      "source": [
        "import tensorflow as tf\n",
        "import os\n",
        "from tensorflow.keras.layers import \\\n",
        "BatchNormalization, ELU, Conv2D, Input"
      ],
      "execution_count": 12,
      "outputs": []
    },
    {
      "cell_type": "markdown",
      "metadata": {
        "id": "XWjWZp0dSCzs"
      },
      "source": [
        "## Load data"
      ]
    },
    {
      "cell_type": "code",
      "metadata": {
        "id": "bzsaarYYOdq7"
      },
      "source": [
        "# Pro: Save space in google drive\n",
        "# Contra: Needs to load the whole dataset every time\n",
        "# use list_files to get generate dataset from data in different subdirectories easily\n",
        "data = tf.data.Dataset.list_files(\"/content/drive/MyDrive/Lernen/Coxi/IANNwTF/ffhq-dataset/images1024x1024/\" \n",
        "                                  + \"[0-9]\" * 2\n",
        "                                  + \"000/*.png\")"
      ],
      "execution_count": 5,
      "outputs": []
    },
    {
      "cell_type": "markdown",
      "metadata": {
        "id": "D9qCLxeRY1QZ"
      },
      "source": [
        "## Convert paths to images"
      ]
    },
    {
      "cell_type": "code",
      "metadata": {
        "id": "2yjSvkA3Y0Uj"
      },
      "source": [
        "def decode_ffhq(image_path):\n",
        "    img = tf.io.read_file(image_path)\n",
        "    img = tf.image.decode_png(img, channels=3)\n",
        "    return img\n",
        "\n",
        "# TODO: Convert to appropriate dtype\n",
        "data = data.map(decode_ffhq)\n",
        "\n",
        "# TODO: Some better image stuff"
      ],
      "execution_count": 6,
      "outputs": []
    },
    {
      "cell_type": "markdown",
      "metadata": {
        "id": "YL4Z5lVqhSWp"
      },
      "source": [
        "# Loading trained model"
      ]
    },
    {
      "cell_type": "markdown",
      "metadata": {
        "id": "73bNpBXfkH0v"
      },
      "source": [
        "## Actually load the model"
      ]
    },
    {
      "cell_type": "code",
      "metadata": {
        "colab": {
          "base_uri": "https://localhost:8080/"
        },
        "id": "-eRqIYoPhUta",
        "outputId": "c7c6d86e-5a89-498e-b9ca-5340c3c163bd"
      },
      "source": [
        "!git pull\n",
        "import tensorflow as tf\n",
        "from modules.generator import generator\n",
        "\n",
        "resolution = 1024  \n",
        "config = \"f\"\n",
        "num_labels = 0\n",
        "checkpoint_path = \"/content/drive/MyDrive/Lernen/Coxi/IANNwTF/official_1024x1024/\"\n",
        "\n",
        "Gs = generator(resolution, num_labels, config, randomize_noise=False)\n",
        "ckpt = tf.train.Checkpoint(generator_clone=Gs)\n",
        "print(f'Loading network from {checkpoint_path}...')\n",
        "ckpt.restore(tf.train.latest_checkpoint(checkpoint_path)).expect_partial()"
      ],
      "execution_count": 7,
      "outputs": [
        {
          "output_type": "stream",
          "text": [
            "Already up to date.\n",
            "Loading network from /content/drive/MyDrive/Lernen/Coxi/IANNwTF/official_1024x1024/...\n"
          ],
          "name": "stdout"
        },
        {
          "output_type": "execute_result",
          "data": {
            "text/plain": [
              "<tensorflow.python.training.tracking.util.CheckpointLoadStatus at 0x7f2f579f5fd0>"
            ]
          },
          "metadata": {
            "tags": []
          },
          "execution_count": 7
        }
      ]
    },
    {
      "cell_type": "markdown",
      "metadata": {
        "id": "KRww0BC-UVFm"
      },
      "source": [
        "## Train model"
      ]
    },
    {
      "cell_type": "markdown",
      "metadata": {
        "id": "pxEhW-2aUZvx"
      },
      "source": [
        "Layers & models also feature a boolean attribute trainable. Its value can be changed. Setting layer.trainable to False moves all the layer's weights from trainable to non-trainable."
      ]
    },
    {
      "cell_type": "code",
      "metadata": {
        "id": "545XC_2Hb79c"
      },
      "source": [
        "truncation_psi = 0.5\n",
        "batch_size = 5\n",
        "latent_size = 512\n",
        "latents = tf.random.normal([batch_size, latent_size])\n",
        "# TODO: from _get_labels\n",
        "labels_indice = [0]*batch_size\n",
        "labels = tf.zeros([batch_size, 0], tf.float32)\n",
        "images = Gs([latents, labels], truncation_psi=truncation_psi, training=False)"
      ],
      "execution_count": 8,
      "outputs": []
    },
    {
      "cell_type": "code",
      "metadata": {
        "id": "Fp9oItHNb87X",
        "colab": {
          "base_uri": "https://localhost:8080/"
        },
        "outputId": "79e68f7b-302c-42dc-90aa-e4801f449a58"
      },
      "source": [
        "print(images.dtype)\n",
        "print(images[0])\n",
        "print(tf.math.reduce_min(images[0]))\n",
        "print(tf.math.reduce_max(images[0]))"
      ],
      "execution_count": 9,
      "outputs": [
        {
          "output_type": "stream",
          "text": [
            "<dtype: 'float32'>\n",
            "tf.Tensor(\n",
            "[[[-0.46307448 -0.5302782  -0.6133043 ]\n",
            "  [-0.60044396 -0.7186482  -0.8310894 ]\n",
            "  [-0.6716418  -0.7745461  -0.8692887 ]\n",
            "  ...\n",
            "  [-0.7033296  -0.7787447  -0.82294476]\n",
            "  [-0.69020903 -0.7829868  -0.84107673]\n",
            "  [-0.6095885  -0.68863875 -0.75412345]]\n",
            "\n",
            " [[-0.6323254  -0.65564185 -0.6911636 ]\n",
            "  [-0.7574098  -0.81197846 -0.84890676]\n",
            "  [-0.7640804  -0.82685584 -0.8691092 ]\n",
            "  ...\n",
            "  [-0.7139143  -0.78837645 -0.82950306]\n",
            "  [-0.69122887 -0.7851502  -0.8345704 ]\n",
            "  [-0.6798398  -0.7710924  -0.8295144 ]]\n",
            "\n",
            " [[-0.7315802  -0.7622422  -0.7975961 ]\n",
            "  [-0.7815012  -0.82403034 -0.8604169 ]\n",
            "  [-0.74959934 -0.80666304 -0.84258854]\n",
            "  ...\n",
            "  [-0.730462   -0.792487   -0.85261977]\n",
            "  [-0.74127316 -0.8133509  -0.8715573 ]\n",
            "  [-0.75548244 -0.8055092  -0.858563  ]]\n",
            "\n",
            " ...\n",
            "\n",
            " [[ 0.21244687  0.12159576  0.0272996 ]\n",
            "  [ 0.19183806  0.13988495  0.03687358]\n",
            "  [ 0.21783781  0.1702074   0.07957324]\n",
            "  ...\n",
            "  [ 0.05248946  0.02969342 -0.03884888]\n",
            "  [ 0.11060014  0.08011213 -0.03334475]\n",
            "  [ 0.07815439  0.01777117 -0.13104165]]\n",
            "\n",
            " [[ 0.24729127  0.13068567  0.01600578]\n",
            "  [ 0.23714754  0.1673939   0.04956281]\n",
            "  [ 0.2211826   0.1608853   0.06514379]\n",
            "  ...\n",
            "  [-0.06601456 -0.06459656 -0.13342258]\n",
            "  [ 0.01091397 -0.00341475 -0.12151778]\n",
            "  [ 0.02023228 -0.02891044 -0.19113237]]\n",
            "\n",
            " [[ 0.25590745  0.18134251  0.07225485]\n",
            "  [ 0.27724385  0.18853047  0.04877356]\n",
            "  [ 0.22354594  0.15397362  0.04773748]\n",
            "  ...\n",
            "  [-0.19267106 -0.17994907 -0.25829065]\n",
            "  [-0.09529521 -0.08606681 -0.1989856 ]\n",
            "  [-0.05969247 -0.09755342 -0.22197719]]], shape=(1024, 1024, 3), dtype=float32)\n",
            "tf.Tensor(-1.0121071, shape=(), dtype=float32)\n",
            "tf.Tensor(1.2580191, shape=(), dtype=float32)\n"
          ],
          "name": "stdout"
        }
      ]
    },
    {
      "cell_type": "code",
      "metadata": {
        "id": "7aG6cYaidfwa",
        "colab": {
          "base_uri": "https://localhost:8080/",
          "height": 202
        },
        "outputId": "93e72b09-168d-4d10-f94d-21db794566f4"
      },
      "source": [
        "import sklearn\n",
        "from matplotlib import pyplot as plt\n",
        "\n",
        "# TODO: proper image displaying\n",
        "for i in range(batch_size):\n",
        "    temp = images[i]\n",
        "    maxim = images.max\n",
        "    minim = images.min\n",
        "    temp = \n",
        "    plt.imshow(sklearn.preprocessing.normalize(images[i]))"
      ],
      "execution_count": 10,
      "outputs": [
        {
          "output_type": "error",
          "ename": "AttributeError",
          "evalue": "ignored",
          "traceback": [
            "\u001b[0;31m---------------------------------------------------------------------------\u001b[0m",
            "\u001b[0;31mAttributeError\u001b[0m                            Traceback (most recent call last)",
            "\u001b[0;32m<ipython-input-10-f1f5147a9829>\u001b[0m in \u001b[0;36m<module>\u001b[0;34m()\u001b[0m\n\u001b[1;32m      4\u001b[0m \u001b[0;31m# TODO: proper image displaying\u001b[0m\u001b[0;34m\u001b[0m\u001b[0;34m\u001b[0m\u001b[0;34m\u001b[0m\u001b[0m\n\u001b[1;32m      5\u001b[0m \u001b[0;32mfor\u001b[0m \u001b[0mi\u001b[0m \u001b[0;32min\u001b[0m \u001b[0mrange\u001b[0m\u001b[0;34m(\u001b[0m\u001b[0mbatch_size\u001b[0m\u001b[0;34m)\u001b[0m\u001b[0;34m:\u001b[0m\u001b[0;34m\u001b[0m\u001b[0;34m\u001b[0m\u001b[0m\n\u001b[0;32m----> 6\u001b[0;31m     \u001b[0mplt\u001b[0m\u001b[0;34m.\u001b[0m\u001b[0mimshow\u001b[0m\u001b[0;34m(\u001b[0m\u001b[0msklearn\u001b[0m\u001b[0;34m.\u001b[0m\u001b[0mpreprocessing\u001b[0m\u001b[0;34m.\u001b[0m\u001b[0mnormalize\u001b[0m\u001b[0;34m(\u001b[0m\u001b[0mimages\u001b[0m\u001b[0;34m[\u001b[0m\u001b[0mi\u001b[0m\u001b[0;34m]\u001b[0m\u001b[0;34m)\u001b[0m\u001b[0;34m)\u001b[0m\u001b[0;34m\u001b[0m\u001b[0;34m\u001b[0m\u001b[0m\n\u001b[0m",
            "\u001b[0;31mAttributeError\u001b[0m: module 'sklearn' has no attribute 'preprocessing'"
          ]
        }
      ]
    },
    {
      "cell_type": "code",
      "metadata": {
        "id": "BVgL6NtDb-Rj",
        "outputId": "82d24fca-03b4-4d1e-8a28-5ac15b56c004",
        "colab": {
          "base_uri": "https://localhost:8080/"
        }
      },
      "source": [
        "encoder = tf.keras.Sequential(\n",
        "    [\n",
        "     Input((1024, 1024, 3)),\n",
        "     Conv2D(2, 2, strides=2),\n",
        "     Conv2D(2, 2, strides=2),\n",
        "     Conv2D(2, 2, strides=2)\n",
        "    ]\n",
        ")\n",
        "\n",
        "encoder.summary()"
      ],
      "execution_count": 15,
      "outputs": [
        {
          "output_type": "stream",
          "text": [
            "Model: \"sequential_2\"\n",
            "_________________________________________________________________\n",
            "Layer (type)                 Output Shape              Param #   \n",
            "=================================================================\n",
            "conv2d_2 (Conv2D)            (None, 512, 512, 2)       26        \n",
            "_________________________________________________________________\n",
            "conv2d_3 (Conv2D)            (None, 256, 256, 2)       18        \n",
            "_________________________________________________________________\n",
            "conv2d_4 (Conv2D)            (None, 128, 128, 2)       18        \n",
            "=================================================================\n",
            "Total params: 62\n",
            "Trainable params: 62\n",
            "Non-trainable params: 0\n",
            "_________________________________________________________________\n"
          ],
          "name": "stdout"
        }
      ]
    },
    {
      "cell_type": "code",
      "metadata": {
        "id": "NDrBKSOe0yWm"
      },
      "source": [
        "    "
      ],
      "execution_count": null,
      "outputs": []
    }
  ]
}