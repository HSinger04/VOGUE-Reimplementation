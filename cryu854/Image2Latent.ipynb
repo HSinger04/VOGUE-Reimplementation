{
  "nbformat": 4,
  "nbformat_minor": 0,
  "metadata": {
    "kernelspec": {
      "display_name": "Python 3",
      "language": "python",
      "name": "python3"
    },
    "language_info": {
      "codemirror_mode": {
        "name": "ipython",
        "version": 3
      },
      "file_extension": ".py",
      "mimetype": "text/x-python",
      "name": "python",
      "nbconvert_exporter": "python",
      "pygments_lexer": "ipython3",
      "version": "3.7.4"
    },
    "colab": {
      "name": "StyleGAN_Local_Editing_Demo.ipynb",
      "provenance": [],
      "toc_visible": true
    },
    "accelerator": "GPU"
  },
  "cells": [
    {
      "cell_type": "markdown",
      "metadata": {
        "id": "bRkHnRKNWBcq"
      },
      "source": [
        "[![Open In Colab](https://colab.research.google.com/assets/colab-badge.svg)](https://colab.research.google.com/github/HSinger04/VOGUE-Reimplementation/blob/main/cryu854/Image2Latent.ipynb)"
      ]
    },
    {
      "cell_type": "markdown",
      "metadata": {
        "id": "pmK3mLDUjjB4"
      },
      "source": [
        "# Prerequisites\n",
        "\n",
        "A Google Drive account is needed for this notebook to be run. In the cell under \"Mount drive for dataset and weights\", please state under ```PRT_DIRS``` as key your identifier (e.g. \"hermann\") and as value a directory dedicated to this notebook (e.g. \"Latent2Images\"). Then, set ```PRT_DIR = PRT_DIRS[<your_identifier>]```  Then, go to \n",
        "https://drive.google.com/drive/folders/1u2xu7bSrWxrbUxk-dT-UvEJq8IjdmNTP, right-click on \"ffhq-dataset\" at \"Shared with me > ffhq-dataset\" and click on \"Add a shortcut to Drive\". Create the shortcut the directory dedicated to this notebook. Please go to https://drive.google.com/drive/folders/1BO98vdtQSUjRKqlIIoiRVtBM_mCEcoFc and do the same as you did with \"ffhq-dataset\" with \"official_1024x1024\" at \"Shared with me > StyleGAN2models > weights-ffhq > official_1024x1024\". \n",
        "\n",
        "This is needed, as \"ffhq-dataset\" points to the training dataset which is too large to download / upload oneself, \"official_1024x1024\" contains weights for the StyleGAN2 generator used in this notebook and also, tensorboard logs and training variables (e.g. encoder weights) get saved in the folder dedicated to this notebook.\n",
        "\n",
        "When you run the cell under \"Mount drive for dataset and weights\", you will need to MANUALLY authenticate access to Google Drive.\n"
      ]
    },
    {
      "cell_type": "markdown",
      "metadata": {
        "id": "DompTDT1jSlq"
      },
      "source": [
        "## Mount drive for dataset and weights"
      ]
    },
    {
      "cell_type": "code",
      "metadata": {
        "colab": {
          "base_uri": "https://localhost:8080/"
        },
        "id": "uvCRJckWjVco",
        "outputId": "96ca2f38-f3d9-4b71-a7be-47ac3da48e7c"
      },
      "source": [
        "from google.colab import drive\n",
        "drive.mount('/content/drive', force_remount=True)\n",
        "\n",
        "PRT_DIRS = {\"hermann\": \"/content/drive/MyDrive/Lernen/Coxi/IANNwTF/\",\n",
        "            \"hermann2\": \"/content/drive/MyDrive/Latent2Images/\"}\n",
        "# parent directory of \"ffhq-dataset\", \"official_1024x1024\", \"logs\"\n",
        "PRT_DIR = PRT_DIRS[\"hermann2\"]"
      ],
      "execution_count": 1,
      "outputs": [
        {
          "output_type": "stream",
          "text": [
            "Mounted at /content/drive\n"
          ],
          "name": "stdout"
        }
      ]
    },
    {
      "cell_type": "code",
      "metadata": {
        "id": "yXcFTFzd_fbM",
        "colab": {
          "base_uri": "https://localhost:8080/"
        },
        "outputId": "663b027a-35d4-4061-a416-a47e95f27858"
      },
      "source": [
        "%cd /content\n",
        "!git clone https://github.com/HSinger04/VOGUE-Reimplementation"
      ],
      "execution_count": 2,
      "outputs": [
        {
          "output_type": "stream",
          "text": [
            "/content\n",
            "fatal: destination path 'VOGUE-Reimplementation' already exists and is not an empty directory.\n"
          ],
          "name": "stdout"
        }
      ]
    },
    {
      "cell_type": "code",
      "metadata": {
        "colab": {
          "base_uri": "https://localhost:8080/"
        },
        "id": "QDibY5O2MgPM",
        "outputId": "44b8923e-8ccc-49e5-a4e1-afe32addb99b"
      },
      "source": [
        "%cd /content/VOGUE-Reimplementation/cryu854/"
      ],
      "execution_count": 3,
      "outputs": [
        {
          "output_type": "stream",
          "text": [
            "/content/VOGUE-Reimplementation/cryu854\n"
          ],
          "name": "stdout"
        }
      ]
    },
    {
      "cell_type": "markdown",
      "metadata": {
        "id": "z45486OzOzb8"
      },
      "source": [
        "## Imports"
      ]
    },
    {
      "cell_type": "code",
      "metadata": {
        "id": "dOJUgWG3O0W3"
      },
      "source": [
        "import os\n",
        "import numpy as np\n",
        "\n",
        "import tensorflow as tf\n",
        "from tensorflow.keras.layers import \\\n",
        "BatchNormalization, ELU, Conv2D, Input, Layer, Concatenate, \\\n",
        "GlobalAveragePooling2D, Dropout\n",
        "from tensorflow.keras import Model"
      ],
      "execution_count": 4,
      "outputs": []
    },
    {
      "cell_type": "markdown",
      "metadata": {
        "id": "hUtVg1MQvYJ8"
      },
      "source": [
        "## Debug control"
      ]
    },
    {
      "cell_type": "code",
      "metadata": {
        "id": "EErt5tojva-S"
      },
      "source": [
        "# Set to True if you want to deactivate tf.function for debugging, else leave at False\n",
        "tf.config.run_functions_eagerly(False)"
      ],
      "execution_count": 5,
      "outputs": []
    },
    {
      "cell_type": "markdown",
      "metadata": {
        "id": "XWjWZp0dSCzs"
      },
      "source": [
        "## Load data"
      ]
    },
    {
      "cell_type": "code",
      "metadata": {
        "id": "bzsaarYYOdq7"
      },
      "source": [
        "# Pro: Save space in google drive\n",
        "# Contra: Needs to load the whole dataset every time\n",
        "# use list_files to get generate dataset from data in different subdirectories easily\n",
        "data = tf.data.Dataset.list_files(PRT_DIR + \"ffhq-dataset/images1024x1024/\" \n",
        "                                  + \"[0-9]\" * 2\n",
        "                                  + \"000/*.png\")"
      ],
      "execution_count": 6,
      "outputs": []
    },
    {
      "cell_type": "markdown",
      "metadata": {
        "id": "D9qCLxeRY1QZ"
      },
      "source": [
        "## Data pipeline"
      ]
    },
    {
      "cell_type": "code",
      "metadata": {
        "id": "NMSOOrY1pmcW"
      },
      "source": [
        "# Data pipeline constants\n",
        "# shuffle_size shouldn't be much higher than 100. Otherwise, Google Colab runs out of memory\n",
        "shuffle_size = 100\n",
        "BATCH_SIZE = 2\n",
        "PREFETCH_SIZE = tf.data.experimental.AUTOTUNE"
      ],
      "execution_count": 7,
      "outputs": []
    },
    {
      "cell_type": "code",
      "metadata": {
        "id": "2yjSvkA3Y0Uj"
      },
      "source": [
        "def decode_ffhq(image_path):\n",
        "    img = tf.io.read_file(image_path)\n",
        "    img = tf.image.decode_png(img, channels=3)\n",
        "    return img\n",
        "\n",
        "# Convert paths to image\n",
        "data = data.map(decode_ffhq)"
      ],
      "execution_count": 8,
      "outputs": []
    },
    {
      "cell_type": "code",
      "metadata": {
        "id": "H0CMxWCfoawP"
      },
      "source": [
        "# TODO: Show some images"
      ],
      "execution_count": 9,
      "outputs": []
    },
    {
      "cell_type": "code",
      "metadata": {
        "id": "zjtlysHExUiQ"
      },
      "source": [
        "# Normalize to [-1, 1] to match StyleGAN2's generator's output\n",
        "data = data.map(lambda x: (tf.cast(x, tf.float32) / 127.5) - 1)\n",
        "# Shuffle whole dataset once\n",
        "#data = data.shuffle(buffer_size=shuffle_size)\n",
        "data = data.batch(BATCH_SIZE)\n",
        "# Shuffle batch each iteration \n",
        "# TODO: left out for now due to memory issues\n",
        "#data = data.shuffle(buffer_size=shuffle_size, reshuffle_each_iteration=True)\n",
        "#data = data.prefetch(PREFETCH_SIZE)"
      ],
      "execution_count": 10,
      "outputs": []
    },
    {
      "cell_type": "markdown",
      "metadata": {
        "id": "YL4Z5lVqhSWp"
      },
      "source": [
        "# Loading trained StyleGAN2 Generator"
      ]
    },
    {
      "cell_type": "markdown",
      "metadata": {
        "id": "73bNpBXfkH0v"
      },
      "source": [
        "## Actually load the model"
      ]
    },
    {
      "cell_type": "code",
      "metadata": {
        "id": "-eRqIYoPhUta",
        "colab": {
          "base_uri": "https://localhost:8080/"
        },
        "outputId": "385b3d59-f68b-42bf-bb78-05620ef67141"
      },
      "source": [
        "!git pull\n",
        "import tensorflow as tf\n",
        "from modules.generator import generator\n",
        "\n",
        "resolution = 1024  \n",
        "config = \"f\"\n",
        "num_labels = 0\n",
        "checkpoint_path = PRT_DIR + \"official_1024x1024/\"\n",
        "\n",
        "Gs = generator(resolution, num_labels, config, randomize_noise=False)\n",
        "ckpt = tf.train.Checkpoint(generator_clone=Gs)\n",
        "print(f'Loading network from {checkpoint_path}...')\n",
        "ckpt.restore(tf.train.latest_checkpoint(checkpoint_path)).expect_partial()\n",
        "# Freeze Generator since we don't want to train it\n",
        "Gs.trainable = False"
      ],
      "execution_count": 11,
      "outputs": [
        {
          "output_type": "stream",
          "text": [
            "Already up to date.\n",
            "Loading network from /content/drive/MyDrive/Latent2Images/official_1024x1024/...\n"
          ],
          "name": "stdout"
        }
      ]
    },
    {
      "cell_type": "markdown",
      "metadata": {
        "id": "BeAtzWoZpKCq"
      },
      "source": [
        "## Generate and show images"
      ]
    },
    {
      "cell_type": "code",
      "metadata": {
        "id": "z7UGWODGXP6-"
      },
      "source": [
        "# returns image in the correct range of 0 to 225\n",
        "@tf.function\n",
        "def get_img(x, truncation_psi, training=False):\n",
        "    # TODO: change comment below better\n",
        "    # Generator returns values that should be clipped to -1 and 1\n",
        "    img = Gs(x, truncation_psi=truncation_psi, training=training)\n",
        "    img = tf.clip_by_value(img, clip_value_min=-1.0, clip_value_max=1.0)\n",
        "    return img"
      ],
      "execution_count": 12,
      "outputs": []
    },
    {
      "cell_type": "code",
      "metadata": {
        "id": "545XC_2Hb79c"
      },
      "source": [
        "truncation_psi = 0.5\n",
        "latent_size = 512\n",
        "latents = tf.random.normal([BATCH_SIZE, latent_size])\n",
        "# TODO: from _get_labels\n",
        "labels_indice = [0]*BATCH_SIZE\n",
        "labels = tf.zeros([BATCH_SIZE, 0], tf.float32)\n",
        "# Generate images\n",
        "images = get_img([latents, labels], truncation_psi)"
      ],
      "execution_count": 13,
      "outputs": []
    },
    {
      "cell_type": "code",
      "metadata": {
        "id": "7aG6cYaidfwa",
        "colab": {
          "base_uri": "https://localhost:8080/",
          "height": 269
        },
        "outputId": "68dbd5e2-309a-407e-d820-8b266a674962"
      },
      "source": [
        "from matplotlib import pyplot as plt\n",
        "\n",
        "# TODO: proper image displaying\n",
        "for i in range(BATCH_SIZE):\n",
        "    temp = images[i]\n",
        "    temp = (temp + 1) * 127.5\n",
        "    plt.imshow(temp.numpy().astype(np.uint8))\n",
        "    break"
      ],
      "execution_count": 14,
      "outputs": [
        {
          "output_type": "display_data",
          "data": {
            "image/png": "[encoded data removed]",
            "text/plain": [
              "<Figure size 432x288 with 1 Axes>"
            ]
          },
          "metadata": {
            "tags": [],
            "needs_background": "light"
          }
        }
      ]
    },
    {
      "cell_type": "markdown",
      "metadata": {
        "id": "n9UQAbrpG4gl"
      },
      "source": [
        "## Code by HW6"
      ]
    },
    {
      "cell_type": "code",
      "metadata": {
        "id": "BVgL6NtDb-Rj"
      },
      "source": [
        "class TransitionLayers(Layer):\n",
        "  \n",
        "  def __init__(self, num_filters):\n",
        "    \"\"\"Initialize a Transition Layer consisting of two Convolutional Layers (one acts as a Bottleneck, the other as Pooling Layer). \n",
        "    These Layers can be placed between the Dense Blocks in our DenseNet.\n",
        "\n",
        "    Arguments:\n",
        "      num_filters (list): Number of filters, one for each conv layer in our Transition Layer.\n",
        "    \"\"\"  \n",
        "\n",
        "    # use the keyword super to allow our network to access the init() form the keras Layer class\n",
        "    super(TransitionLayers, self).__init__()\n",
        "\n",
        "    # extract filters\n",
        "    self.filter1, self.filter2 = num_filters\n",
        "\n",
        "    # define set of layers\n",
        "    self.TransitionLayer = [\n",
        "        BatchNormalization(),\n",
        "        ELU(),                           \n",
        "        Conv2D(filters=self.filter1, kernel_size=1, strides=1, padding=\"valid\",  activation=None),\n",
        "        BatchNormalization(),\n",
        "        ELU(),\n",
        "        Conv2D(filters=self.filter2, kernel_size=2, strides=2, padding=\"valid\",  activation=None),\n",
        "        Dropout(0.5)]\n",
        "\n",
        "  @tf.function \n",
        "  def call(self, x, training=True):\n",
        "    \"\"\"Activate our Transition Layers by propagating the input through them\n",
        "\n",
        "    Arguments:\n",
        "      x (Tensor): Tensor containing the input to our Transition Layers\n",
        "      training (Boolean): Indicates whether regularization methods should be used or not when calling the Transition Layer\n",
        "\n",
        "    Returns:\n",
        "      x (Tensor): Tensor containing the drive of the Transition Layers\n",
        "    \"\"\"\n",
        "    for layer in self.TransitionLayer:\n",
        "      x = layer(x, training = training)\n",
        "    return x"
      ],
      "execution_count": 15,
      "outputs": []
    },
    {
      "cell_type": "code",
      "metadata": {
        "id": "NDrBKSOe0yWm"
      },
      "source": [
        "class Block(Layer):\n",
        "\n",
        "  def __init__(self, filter, growth_rate):\n",
        "    \"\"\"Initialize a Block with two Convolutional Layers (the first one acts a Bottleneck, the other is a normal 3x3 Convolutional Layer). \n",
        "    At the end of each Block, the input is concatenated to the Blocks output. Groups of Blocks are connected by Transition Layers.\n",
        "\n",
        "    Arguments:\n",
        "      filter (int): Defines number of filters for the Bottleneck Layer\n",
        "      growth_rate (int): Defines the number of added channels per concatenation\n",
        "    \"\"\"  \n",
        "\n",
        "    # use the keyword super to allow our network to access the init() from the keras Layer class\n",
        "    super(Block, self).__init__()\n",
        "\n",
        "    self.BlockLayers = [\n",
        "        BatchNormalization(),\n",
        "        ELU(),\n",
        "        Conv2D(filters=filter, kernel_size=1, padding=\"valid\",  activation=None),\n",
        "        BatchNormalization(),\n",
        "        ELU(),\n",
        "        Conv2D(filters=growth_rate, kernel_size=3, padding=\"same\",  activation=None)]\n",
        "\n",
        "    # We use this layer to concatenate the input of a Block to its output\n",
        "    self.concatenate = Concatenate()\n",
        "\n",
        "  @tf.function \n",
        "  def call(self, x, training=True):\n",
        "    \"\"\"Activate one Block by propagating the input through the Block layer by layer\n",
        "\n",
        "    Arguments:\n",
        "      x (Tensor): Tensor containing the input to our Block\n",
        "      training (Boolean): Indicates whether regularization methods should be used or not when calling the Block \n",
        "\n",
        "    Returns:\n",
        "      x (Tensor): Tensor containing the concatenated feature maps\n",
        "    \"\"\"\n",
        "    y = x\n",
        "\n",
        "    for layer in self.BlockLayers:\n",
        "      y = layer(y, training = training)\n",
        "\n",
        "    # concatenate input to output\n",
        "    y = self.concatenate([y,x])\n",
        "    return y"
      ],
      "execution_count": 16,
      "outputs": []
    },
    {
      "cell_type": "code",
      "metadata": {
        "id": "E7mwuv1n7mxG"
      },
      "source": [
        "class DenseBlock(Layer):\n",
        "\n",
        "  def __init__(self, filter, growth_rate, num_blocks):\n",
        "    \"\"\"Initialize a DenseBlock consiting of several Blocks\n",
        "\n",
        "    Arguments:\n",
        "      filter (int): Defines number of filters for the Bottleneck Layer\n",
        "      growth_rate (int): Defines the number of added channels per concatenation\n",
        "      num_blocks (int): Number of consecutive Blocks\n",
        "    \"\"\"  \n",
        "\n",
        "    # use the keyword super to allow our network to access the init() from the keras Layer class\n",
        "    super(DenseBlock, self).__init__()\n",
        "\n",
        "    self.DenseBlockLayers = [Block(filter, growth_rate) for _ in range(num_blocks)]\n",
        "\n",
        "\n",
        "  @tf.function \n",
        "  def call(self, x, training=True):\n",
        "    \"\"\"Activate one DenseBlock by propagating the input through the DenseBlock layer by layer\n",
        "\n",
        "    Arguments:\n",
        "      x (Tensor): Tensor containing the input to our DenseBlock\n",
        "      training (Boolean): Indicates whether regularization methods should be used or not when calling the DenseBlock \n",
        "\n",
        "    Returns:\n",
        "      x (Tensor): Outputs the feature maps of a whole DenseBlock\n",
        "    \"\"\"\n",
        "\n",
        "    for block in self.DenseBlockLayers:\n",
        "      x = block(x, training = training)\n",
        "\n",
        "    return x"
      ],
      "execution_count": 17,
      "outputs": []
    },
    {
      "cell_type": "code",
      "metadata": {
        "id": "sURU6Be67otf"
      },
      "source": [
        "class DenseNetwork(Model):\n",
        "\n",
        "  def __init__(self):\n",
        "    \"\"\"Initialize a DenseNet with a variable amount of keras.Layers\n",
        "    \"\"\"  \n",
        "    # use the keyword super to allow our network to access the init() form the keras Model class\n",
        "    super(DenseNetwork, self).__init__()\n",
        "\n",
        "    self.DenseNetLayers = [Conv2D(filters=16, kernel_size=3, padding=\"same\",  activation=None)]\n",
        "\n",
        "    self.DenseNetLayers.append(DenseBlock(filter=16, growth_rate=12, num_blocks=2))\n",
        "\n",
        "    self.DenseNetLayers.append(TransitionLayers(num_filters=[32,64]))\n",
        "\n",
        "    self.DenseNetLayers.append(DenseBlock(filter=32, growth_rate=12, num_blocks=2))\n",
        "\n",
        "    self.DenseNetLayers.append(TransitionLayers(num_filters=[64,128]))\n",
        "\n",
        "    self.DenseNetLayers.append(DenseBlock(filter=64, growth_rate=12, num_blocks=2))\n",
        "\n",
        "    self.DenseNetLayers.extend([BatchNormalization(),\n",
        "                                ELU(),\n",
        "                                Conv2D(latent_size, 2, strides=2),\n",
        "                                GlobalAveragePooling2D()])\n",
        "\n",
        "    # TODO: Add last layer\n",
        "\n",
        "  @tf.function    \n",
        "  def call(self, x, training = True):\n",
        "    \"\"\"Activate our model propagating the input through the network layer by layer\n",
        "\n",
        "    Arguments:\n",
        "      x (Tensor): Tensor containing the input to our network\n",
        "      training (Boolean): Indicates whether regularization methods should be used or not when calling the model \n",
        "\n",
        "    Returns:\n",
        "      x (Tensor): Tensor containing the probabilities for the ten classes\n",
        "    \"\"\"\n",
        "\n",
        "    for layer in self.DenseNetLayers:\n",
        "      x = layer(x, training = training)\n",
        "    return x"
      ],
      "execution_count": 18,
      "outputs": []
    },
    {
      "cell_type": "markdown",
      "metadata": {
        "id": "Q0MolKJJADXh"
      },
      "source": [
        "## Training preparation"
      ]
    },
    {
      "cell_type": "markdown",
      "metadata": {
        "id": "OSfZF7lmCYSl"
      },
      "source": [
        "## Load network for perceptual loss and freeze it "
      ]
    },
    {
      "cell_type": "code",
      "metadata": {
        "id": "z23-qjcUCZwp"
      },
      "source": [
        "# TODO: remove unnecessary layers\n",
        "perc_base_net = tf.keras.applications.EfficientNetB0()\n",
        "# Freeze perc_base_net since we don't want to train it\n",
        "perc_base_net.trainable = False"
      ],
      "execution_count": 19,
      "outputs": []
    },
    {
      "cell_type": "code",
      "metadata": {
        "id": "DS51dFbqfYA8"
      },
      "source": [
        "layer_names = (\"block1a_project_conv\", \"block2b_project_conv\", \"block3b_project_conv\", \n",
        "               \"block4c_project_conv\", \"block5c_project_conv\", \"block6d_project_conv\",\n",
        "               \"block7a_project_conv\")\n",
        "\n",
        "# layer_indices = []\n",
        "used_layers = []\n",
        "\n",
        "# for i, layer in enumerate(vgg.layers):\n",
        "#     used_layers.append(layer)\n",
        "#     if layer.name in layer_names:\n",
        "#         layer_indices.append(i)\n",
        "#         if len(layer_indices) == len(layer_names):\n",
        "#             break\n",
        "\n",
        "used_layers = [perc_base_net.get_layer(layer_name).output for layer_name in layer_names]\n",
        "\n",
        "perc_net = tf.keras.Model(inputs=perc_base_net.inputs, outputs=used_layers)\n",
        "\n",
        "# Hopefully save memory this way         \n",
        "del perc_base_net\n",
        "tf.keras.backend.clear_session()\n",
        "\n",
        "NUM_LAYERS = len(layer_names)"
      ],
      "execution_count": 20,
      "outputs": []
    },
    {
      "cell_type": "markdown",
      "metadata": {
        "id": "ZLVyUcZpqva_"
      },
      "source": [
        "## Define perceptual loss"
      ]
    },
    {
      "cell_type": "code",
      "metadata": {
        "id": "dNE5p-lWXg9R"
      },
      "source": [
        "@tf.function\n",
        "def perc_loss(real, fake):\n",
        "    # TODO: Better description. Also maybe more detail? Point to equation\n",
        "    \"\"\"Returns perceptual loss according to VGG16 activations. See \n",
        "    \"\"\"\n",
        "    \n",
        "    real = tf.image.resize(real, [224, 224])\n",
        "    # TODO: Save this as a variable somewhere outside\n",
        "    real = tf.keras.applications.efficientnet.preprocess_input(real)\n",
        "\n",
        "    fake = tf.image.resize(fake, [224, 224])\n",
        "    fake = tf.keras.applications.efficientnet.preprocess_input(fake)\n",
        "\n",
        "    real = perc_net(real)\n",
        "    fake = perc_net(fake)\n",
        "\n",
        "    real_out = real[0]\n",
        "    fake_out = fake[0]\n",
        "\n",
        "    # normalize in channel dimension\n",
        "    layer_loss = tf.math.l2_normalize(real_out, axis=-1)\n",
        "    layer_loss -= tf.math.l2_normalize(fake_out, axis=-1)\n",
        "\n",
        "    # TODO: should be alright, since shape is right, but not fully confirmed\n",
        "    layer_loss = tf.norm(layer_loss, axis=-1)\n",
        "    layer_loss = tf.square(layer_loss)\n",
        "    layer_loss = tf.reduce_mean(layer_loss)\n",
        "\n",
        "    loss = layer_loss\n",
        "\n",
        "    for i in range(1, NUM_LAYERS):\n",
        "        real_out = real[i]\n",
        "        fake_out = fake[i]\n",
        "\n",
        "        # normalize in channel dimension\n",
        "        layer_loss = tf.math.l2_normalize(real_out, axis=-1)\n",
        "        layer_loss -= tf.math.l2_normalize(fake_out, axis=-1)\n",
        "\n",
        "        # TODO: should be alright, since shape is right, but not fully confirmed\n",
        "        layer_loss = tf.norm(layer_loss, axis=-1)\n",
        "        layer_loss = tf.square(layer_loss)\n",
        "        layer_loss = tf.reduce_mean(layer_loss)\n",
        "\n",
        "        loss = loss + layer_loss\n",
        "\n",
        "    return loss     "
      ],
      "execution_count": 21,
      "outputs": []
    },
    {
      "cell_type": "markdown",
      "metadata": {
        "id": "JJ9aiDH2FXgn"
      },
      "source": [
        "## Instantiate loss trackers"
      ]
    },
    {
      "cell_type": "code",
      "metadata": {
        "id": "MOXQHhouFYwZ"
      },
      "source": [
        "GLOBAL_LOSS_TRACKER = tf.keras.metrics.Mean()"
      ],
      "execution_count": 22,
      "outputs": []
    },
    {
      "cell_type": "markdown",
      "metadata": {
        "id": "PfGc4yyVrxTR"
      },
      "source": [
        "## Instantiate train writer"
      ]
    },
    {
      "cell_type": "code",
      "metadata": {
        "id": "cJxfBVm-sBfv"
      },
      "source": [
        "import datetime\n",
        "current_time = datetime.datetime.now().strftime(\"%Y%m%d-%H%M%S\")\n",
        "# Set log directory\n",
        "LOG_DIR = PRT_DIR + \"logs/encoder/\" + current_time \n",
        "\n",
        "TRAIN_WRITER = tf.summary.create_file_writer(LOG_DIR)"
      ],
      "execution_count": 23,
      "outputs": []
    },
    {
      "cell_type": "markdown",
      "metadata": {
        "id": "q4_YNwsztr60"
      },
      "source": [
        "## Instantiate optimizer"
      ]
    },
    {
      "cell_type": "code",
      "metadata": {
        "id": "YwgANYckttKN"
      },
      "source": [
        "LEARNING_RATE = 0.001\n",
        "OPTIMIZER = tf.keras.optimizers.Adam(LEARNING_RATE)"
      ],
      "execution_count": 24,
      "outputs": []
    },
    {
      "cell_type": "markdown",
      "metadata": {
        "id": "MD7Kzd7w7GxE"
      },
      "source": [
        "## Instantiate encoder"
      ]
    },
    {
      "cell_type": "code",
      "metadata": {
        "id": "fG430c-VlHvv"
      },
      "source": [
        "# TODO: Remove\n",
        "ENCODER = tf.keras.Sequential([Conv2D(128, 2, strides=2),\n",
        "                               Conv2D(256, 2, strides=2),\n",
        "                               Conv2D(512, 2, strides=2),\n",
        "                               GlobalAveragePooling2D()])"
      ],
      "execution_count": 25,
      "outputs": []
    },
    {
      "cell_type": "markdown",
      "metadata": {
        "id": "_gs5RU7vdwXN"
      },
      "source": [
        "## Define and potentially restore checkpoint"
      ]
    },
    {
      "cell_type": "code",
      "metadata": {
        "id": "Yds5nZm7dx55"
      },
      "source": [
        "ckpt = tf.train.Checkpoint(step=tf.Variable(1), optimizer=OPTIMIZER, net=ENCODER, iterator=data)\n",
        "manager = tf.train.CheckpointManager(ckpt, PRT_DIR + 'tf_ckpts', max_to_keep=3)\n",
        "\n",
        "# assert consumed throws error at optimizer, but that's not a problem\n",
        "# ckpt.restore(manager.latest_checkpoint)\n",
        "# if manager.latest_checkpoint:\n",
        "#   print(\"Restored from {}\".format(manager.latest_checkpoint))"
      ],
      "execution_count": 26,
      "outputs": []
    },
    {
      "cell_type": "markdown",
      "metadata": {
        "id": "maKNom-trtdp"
      },
      "source": [
        "# Train"
      ]
    },
    {
      "cell_type": "code",
      "metadata": {
        "id": "9d4KU3x_7w_q"
      },
      "source": [
        "# TODO\n",
        "@tf.function\n",
        "def encoder_train_step(model, train_data, optimizer, global_loss_tracker, train_writer):\n",
        "\n",
        "    for inputs in train_data.take(10):\n",
        "\n",
        "        with tf.GradientTape() as tape:\n",
        "\n",
        "            # perc\n",
        "            fakes = model(inputs)\n",
        "            fakes = get_img([fakes, labels], truncation_psi)\n",
        "            loss = perc_loss(inputs, fakes)\n",
        "            # average over the batch manually\n",
        "            # TODO: remove\n",
        "            #loss = tf.math.reduce_mean(loss)\n",
        "            # TODO: remove\n",
        "            gradients = tape.gradient(loss, model.trainable_variables)\n",
        "\n",
        "        # update weights  \n",
        "        optimizer.apply_gradients(zip(gradients, model.trainable_variables))\n",
        "\n",
        "        # record global loss\n",
        "        global_loss_tracker.update_state(loss)\n",
        "\n",
        "        ckpt.step.assign_add(1)\n",
        "        i = ckpt.step\n",
        "      \n",
        "        if tf.math.floormod(i, 1) == 1750:\n",
        "            # write average epoch loss\n",
        "            with train_writer.as_default():\n",
        "              tf.summary.scalar('loss', global_loss_tracker.result(), step=tf.cast(i, tf.int64)) \n",
        "            # save model\n",
        "\n",
        "            tf.py_function(ckpt.write, [], [tf.string])\n",
        "            #tf.py_function(manager.save, [], [tf.string])\n",
        "\n",
        "            # reset statistics\n",
        "            global_loss_tracker.reset_states()"
      ],
      "execution_count": 41,
      "outputs": []
    },
    {
      "cell_type": "code",
      "metadata": {
        "colab": {
          "base_uri": "https://localhost:8080/",
          "height": 434
        },
        "id": "ZgcxEd16refn",
        "outputId": "aef2bd70-3d33-4cba-91be-367c897e344e"
      },
      "source": [
        "NUM_EPOCHS = 10000\n",
        "\n",
        "for epoch in range(NUM_EPOCHS):\n",
        "    print(\"Start epoch: \" + str(epoch))\n",
        "    encoder_train_step(ENCODER, data, OPTIMIZER, GLOBAL_LOSS_TRACKER, TRAIN_WRITER)   "
      ],
      "execution_count": 42,
      "outputs": [
        {
          "output_type": "stream",
          "text": [
            "Start epoch: 0\n",
            "Start epoch: 1\n",
            "Start epoch: 2\n",
            "Start epoch: 3\n"
          ],
          "name": "stdout"
        },
        {
          "output_type": "error",
          "ename": "KeyboardInterrupt",
          "evalue": "ignored",
          "traceback": [
            "\u001b[0;31m---------------------------------------------------------------------------\u001b[0m",
            "\u001b[0;31mKeyboardInterrupt\u001b[0m                         Traceback (most recent call last)",
            "\u001b[0;32m<ipython-input-42-ce9946051d15>\u001b[0m in \u001b[0;36m<module>\u001b[0;34m()\u001b[0m\n\u001b[1;32m      3\u001b[0m \u001b[0;32mfor\u001b[0m \u001b[0mepoch\u001b[0m \u001b[0;32min\u001b[0m \u001b[0mrange\u001b[0m\u001b[0;34m(\u001b[0m\u001b[0mNUM_EPOCHS\u001b[0m\u001b[0;34m)\u001b[0m\u001b[0;34m:\u001b[0m\u001b[0;34m\u001b[0m\u001b[0;34m\u001b[0m\u001b[0m\n\u001b[1;32m      4\u001b[0m     \u001b[0mprint\u001b[0m\u001b[0;34m(\u001b[0m\u001b[0;34m\"Start epoch: \"\u001b[0m \u001b[0;34m+\u001b[0m \u001b[0mstr\u001b[0m\u001b[0;34m(\u001b[0m\u001b[0mepoch\u001b[0m\u001b[0;34m)\u001b[0m\u001b[0;34m)\u001b[0m\u001b[0;34m\u001b[0m\u001b[0;34m\u001b[0m\u001b[0m\n\u001b[0;32m----> 5\u001b[0;31m     \u001b[0mencoder_train_step\u001b[0m\u001b[0;34m(\u001b[0m\u001b[0mENCODER\u001b[0m\u001b[0;34m,\u001b[0m \u001b[0mdata\u001b[0m\u001b[0;34m,\u001b[0m \u001b[0mOPTIMIZER\u001b[0m\u001b[0;34m,\u001b[0m \u001b[0mGLOBAL_LOSS_TRACKER\u001b[0m\u001b[0;34m,\u001b[0m \u001b[0mTRAIN_WRITER\u001b[0m\u001b[0;34m)\u001b[0m\u001b[0;34m\u001b[0m\u001b[0;34m\u001b[0m\u001b[0m\n\u001b[0m",
            "\u001b[0;32m/usr/local/lib/python3.7/dist-packages/tensorflow/python/eager/def_function.py\u001b[0m in \u001b[0;36m__call__\u001b[0;34m(self, *args, **kwds)\u001b[0m\n\u001b[1;32m    826\u001b[0m     \u001b[0mtracing_count\u001b[0m \u001b[0;34m=\u001b[0m \u001b[0mself\u001b[0m\u001b[0;34m.\u001b[0m\u001b[0mexperimental_get_tracing_count\u001b[0m\u001b[0;34m(\u001b[0m\u001b[0;34m)\u001b[0m\u001b[0;34m\u001b[0m\u001b[0;34m\u001b[0m\u001b[0m\n\u001b[1;32m    827\u001b[0m     \u001b[0;32mwith\u001b[0m \u001b[0mtrace\u001b[0m\u001b[0;34m.\u001b[0m\u001b[0mTrace\u001b[0m\u001b[0;34m(\u001b[0m\u001b[0mself\u001b[0m\u001b[0;34m.\u001b[0m\u001b[0m_name\u001b[0m\u001b[0;34m)\u001b[0m \u001b[0;32mas\u001b[0m \u001b[0mtm\u001b[0m\u001b[0;34m:\u001b[0m\u001b[0;34m\u001b[0m\u001b[0;34m\u001b[0m\u001b[0m\n\u001b[0;32m--> 828\u001b[0;31m       \u001b[0mresult\u001b[0m \u001b[0;34m=\u001b[0m \u001b[0mself\u001b[0m\u001b[0;34m.\u001b[0m\u001b[0m_call\u001b[0m\u001b[0;34m(\u001b[0m\u001b[0;34m*\u001b[0m\u001b[0margs\u001b[0m\u001b[0;34m,\u001b[0m \u001b[0;34m**\u001b[0m\u001b[0mkwds\u001b[0m\u001b[0;34m)\u001b[0m\u001b[0;34m\u001b[0m\u001b[0;34m\u001b[0m\u001b[0m\n\u001b[0m\u001b[1;32m    829\u001b[0m       \u001b[0mcompiler\u001b[0m \u001b[0;34m=\u001b[0m \u001b[0;34m\"xla\"\u001b[0m \u001b[0;32mif\u001b[0m \u001b[0mself\u001b[0m\u001b[0;34m.\u001b[0m\u001b[0m_experimental_compile\u001b[0m \u001b[0;32melse\u001b[0m \u001b[0;34m\"nonXla\"\u001b[0m\u001b[0;34m\u001b[0m\u001b[0;34m\u001b[0m\u001b[0m\n\u001b[1;32m    830\u001b[0m       \u001b[0mnew_tracing_count\u001b[0m \u001b[0;34m=\u001b[0m \u001b[0mself\u001b[0m\u001b[0;34m.\u001b[0m\u001b[0mexperimental_get_tracing_count\u001b[0m\u001b[0;34m(\u001b[0m\u001b[0;34m)\u001b[0m\u001b[0;34m\u001b[0m\u001b[0;34m\u001b[0m\u001b[0m\n",
            "\u001b[0;32m/usr/local/lib/python3.7/dist-packages/tensorflow/python/eager/def_function.py\u001b[0m in \u001b[0;36m_call\u001b[0;34m(self, *args, **kwds)\u001b[0m\n\u001b[1;32m    860\u001b[0m       \u001b[0;31m# In this case we have not created variables on the first call. So we can\u001b[0m\u001b[0;34m\u001b[0m\u001b[0;34m\u001b[0m\u001b[0;34m\u001b[0m\u001b[0m\n\u001b[1;32m    861\u001b[0m       \u001b[0;31m# run the first trace but we should fail if variables are created.\u001b[0m\u001b[0;34m\u001b[0m\u001b[0;34m\u001b[0m\u001b[0;34m\u001b[0m\u001b[0m\n\u001b[0;32m--> 862\u001b[0;31m       \u001b[0mresults\u001b[0m \u001b[0;34m=\u001b[0m \u001b[0mself\u001b[0m\u001b[0;34m.\u001b[0m\u001b[0m_stateful_fn\u001b[0m\u001b[0;34m(\u001b[0m\u001b[0;34m*\u001b[0m\u001b[0margs\u001b[0m\u001b[0;34m,\u001b[0m \u001b[0;34m**\u001b[0m\u001b[0mkwds\u001b[0m\u001b[0;34m)\u001b[0m\u001b[0;34m\u001b[0m\u001b[0;34m\u001b[0m\u001b[0m\n\u001b[0m\u001b[1;32m    863\u001b[0m       \u001b[0;32mif\u001b[0m \u001b[0mself\u001b[0m\u001b[0;34m.\u001b[0m\u001b[0m_created_variables\u001b[0m\u001b[0;34m:\u001b[0m\u001b[0;34m\u001b[0m\u001b[0;34m\u001b[0m\u001b[0m\n\u001b[1;32m    864\u001b[0m         raise ValueError(\"Creating variables on a non-first call to a function\"\n",
            "\u001b[0;32m/usr/local/lib/python3.7/dist-packages/tensorflow/python/eager/function.py\u001b[0m in \u001b[0;36m__call__\u001b[0;34m(self, *args, **kwargs)\u001b[0m\n\u001b[1;32m   2941\u001b[0m        filtered_flat_args) = self._maybe_define_function(args, kwargs)\n\u001b[1;32m   2942\u001b[0m     return graph_function._call_flat(\n\u001b[0;32m-> 2943\u001b[0;31m         filtered_flat_args, captured_inputs=graph_function.captured_inputs)  # pylint: disable=protected-access\n\u001b[0m\u001b[1;32m   2944\u001b[0m \u001b[0;34m\u001b[0m\u001b[0m\n\u001b[1;32m   2945\u001b[0m   \u001b[0;34m@\u001b[0m\u001b[0mproperty\u001b[0m\u001b[0;34m\u001b[0m\u001b[0;34m\u001b[0m\u001b[0m\n",
            "\u001b[0;32m/usr/local/lib/python3.7/dist-packages/tensorflow/python/eager/function.py\u001b[0m in \u001b[0;36m_call_flat\u001b[0;34m(self, args, captured_inputs, cancellation_manager)\u001b[0m\n\u001b[1;32m   1917\u001b[0m       \u001b[0;31m# No tape is watching; skip to running the function.\u001b[0m\u001b[0;34m\u001b[0m\u001b[0;34m\u001b[0m\u001b[0;34m\u001b[0m\u001b[0m\n\u001b[1;32m   1918\u001b[0m       return self._build_call_outputs(self._inference_function.call(\n\u001b[0;32m-> 1919\u001b[0;31m           ctx, args, cancellation_manager=cancellation_manager))\n\u001b[0m\u001b[1;32m   1920\u001b[0m     forward_backward = self._select_forward_and_backward_functions(\n\u001b[1;32m   1921\u001b[0m         \u001b[0margs\u001b[0m\u001b[0;34m,\u001b[0m\u001b[0;34m\u001b[0m\u001b[0;34m\u001b[0m\u001b[0m\n",
            "\u001b[0;32m/usr/local/lib/python3.7/dist-packages/tensorflow/python/eager/function.py\u001b[0m in \u001b[0;36mcall\u001b[0;34m(self, ctx, args, cancellation_manager)\u001b[0m\n\u001b[1;32m    558\u001b[0m               \u001b[0minputs\u001b[0m\u001b[0;34m=\u001b[0m\u001b[0margs\u001b[0m\u001b[0;34m,\u001b[0m\u001b[0;34m\u001b[0m\u001b[0;34m\u001b[0m\u001b[0m\n\u001b[1;32m    559\u001b[0m               \u001b[0mattrs\u001b[0m\u001b[0;34m=\u001b[0m\u001b[0mattrs\u001b[0m\u001b[0;34m,\u001b[0m\u001b[0;34m\u001b[0m\u001b[0;34m\u001b[0m\u001b[0m\n\u001b[0;32m--> 560\u001b[0;31m               ctx=ctx)\n\u001b[0m\u001b[1;32m    561\u001b[0m         \u001b[0;32melse\u001b[0m\u001b[0;34m:\u001b[0m\u001b[0;34m\u001b[0m\u001b[0;34m\u001b[0m\u001b[0m\n\u001b[1;32m    562\u001b[0m           outputs = execute.execute_with_cancellation(\n",
            "\u001b[0;32m/usr/local/lib/python3.7/dist-packages/tensorflow/python/eager/execute.py\u001b[0m in \u001b[0;36mquick_execute\u001b[0;34m(op_name, num_outputs, inputs, attrs, ctx, name)\u001b[0m\n\u001b[1;32m     58\u001b[0m     \u001b[0mctx\u001b[0m\u001b[0;34m.\u001b[0m\u001b[0mensure_initialized\u001b[0m\u001b[0;34m(\u001b[0m\u001b[0;34m)\u001b[0m\u001b[0;34m\u001b[0m\u001b[0;34m\u001b[0m\u001b[0m\n\u001b[1;32m     59\u001b[0m     tensors = pywrap_tfe.TFE_Py_Execute(ctx._handle, device_name, op_name,\n\u001b[0;32m---> 60\u001b[0;31m                                         inputs, attrs, num_outputs)\n\u001b[0m\u001b[1;32m     61\u001b[0m   \u001b[0;32mexcept\u001b[0m \u001b[0mcore\u001b[0m\u001b[0;34m.\u001b[0m\u001b[0m_NotOkStatusException\u001b[0m \u001b[0;32mas\u001b[0m \u001b[0me\u001b[0m\u001b[0;34m:\u001b[0m\u001b[0;34m\u001b[0m\u001b[0;34m\u001b[0m\u001b[0m\n\u001b[1;32m     62\u001b[0m     \u001b[0;32mif\u001b[0m \u001b[0mname\u001b[0m \u001b[0;32mis\u001b[0m \u001b[0;32mnot\u001b[0m \u001b[0;32mNone\u001b[0m\u001b[0;34m:\u001b[0m\u001b[0;34m\u001b[0m\u001b[0;34m\u001b[0m\u001b[0m\n",
            "\u001b[0;31mKeyboardInterrupt\u001b[0m: "
          ]
        }
      ]
    },
    {
      "cell_type": "code",
      "metadata": {
        "id": "ZZCBzwjnHEny"
      },
      "source": [
        ""
      ],
      "execution_count": null,
      "outputs": []
    }
  ]
}