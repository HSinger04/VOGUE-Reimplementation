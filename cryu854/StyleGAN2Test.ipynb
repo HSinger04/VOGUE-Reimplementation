{
  "nbformat": 4,
  "nbformat_minor": 0,
  "metadata": {
    "kernelspec": {
      "display_name": "Python 3",
      "language": "python",
      "name": "python3"
    },
    "language_info": {
      "codemirror_mode": {
        "name": "ipython",
        "version": 3
      },
      "file_extension": ".py",
      "mimetype": "text/x-python",
      "name": "python",
      "nbconvert_exporter": "python",
      "pygments_lexer": "ipython3",
      "version": "3.7.4"
    },
    "colab": {
      "name": "StyleGAN_Local_Editing_Demo.ipynb",
      "provenance": [],
      "toc_visible": true
    },
    "accelerator": "GPU"
  },
  "cells": [
    {
      "cell_type": "markdown",
      "metadata": {
        "id": "bRkHnRKNWBcq"
      },
      "source": [
        "[![Open In Colab](https://colab.research.google.com/assets/colab-badge.svg)](https://colab.research.google.com/github/HSinger04/VOGUE-Reimplementation/blob/main/cryu854/StyleGAN2Test.ipynb)"
      ]
    },
    {
      "cell_type": "code",
      "metadata": {
        "id": "OgDPSYnP-7qI",
        "colab": {
          "base_uri": "https://localhost:8080/",
          "height": 1000
        },
        "outputId": "f0c62b5f-76a7-451f-c36d-3f9d7d06bbe3"
      },
      "source": [
        "!pip3 install tensorflow==2.0.4\n",
        "import tensorflow as tf"
      ],
      "execution_count": null,
      "outputs": [
        {
          "output_type": "stream",
          "text": [
            "Collecting tensorflow==2.0.4\n",
            "\u001b[?25l  Downloading https://files.pythonhosted.org/packages/3c/b3/3eeae9bc44039ceadceac0c7ba1cc8b1482b172810b3d7624a1cad251437/tensorflow-2.0.4-cp37-cp37m-manylinux2010_x86_64.whl (86.4MB)\n",
            "\u001b[K     |████████████████████████████████| 86.4MB 54kB/s \n",
            "\u001b[?25hCollecting tensorboard<2.1.0,>=2.0.0\n",
            "\u001b[?25l  Downloading https://files.pythonhosted.org/packages/76/54/99b9d5d52d5cb732f099baaaf7740403e83fe6b0cedde940fabd2b13d75a/tensorboard-2.0.2-py3-none-any.whl (3.8MB)\n",
            "\u001b[K     |████████████████████████████████| 3.8MB 55.1MB/s \n",
            "\u001b[?25hCollecting numpy<1.19.0,>=1.16.0\n",
            "\u001b[?25l  Downloading https://files.pythonhosted.org/packages/d6/c6/58e517e8b1fb192725cfa23c01c2e60e4e6699314ee9684a1c5f5c9b27e1/numpy-1.18.5-cp37-cp37m-manylinux1_x86_64.whl (20.1MB)\n",
            "\u001b[K     |████████████████████████████████| 20.1MB 1.2MB/s \n",
            "\u001b[?25hRequirement already satisfied: wheel>=0.26; python_version >= \"3\" in /usr/local/lib/python3.7/dist-packages (from tensorflow==2.0.4) (0.36.2)\n",
            "Requirement already satisfied: keras-preprocessing>=1.0.5 in /usr/local/lib/python3.7/dist-packages (from tensorflow==2.0.4) (1.1.2)\n",
            "Requirement already satisfied: astor>=0.6.0 in /usr/local/lib/python3.7/dist-packages (from tensorflow==2.0.4) (0.8.1)\n",
            "Requirement already satisfied: six>=1.10.0 in /usr/local/lib/python3.7/dist-packages (from tensorflow==2.0.4) (1.15.0)\n",
            "Collecting keras-applications>=1.0.8\n",
            "\u001b[?25l  Downloading https://files.pythonhosted.org/packages/71/e3/19762fdfc62877ae9102edf6342d71b28fbfd9dea3d2f96a882ce099b03f/Keras_Applications-1.0.8-py3-none-any.whl (50kB)\n",
            "\u001b[K     |████████████████████████████████| 51kB 8.2MB/s \n",
            "\u001b[?25hRequirement already satisfied: wrapt>=1.11.1 in /usr/local/lib/python3.7/dist-packages (from tensorflow==2.0.4) (1.12.1)\n",
            "Requirement already satisfied: opt-einsum>=2.3.2 in /usr/local/lib/python3.7/dist-packages (from tensorflow==2.0.4) (3.3.0)\n",
            "Requirement already satisfied: protobuf>=3.6.1 in /usr/local/lib/python3.7/dist-packages (from tensorflow==2.0.4) (3.12.4)\n",
            "Collecting tensorflow-estimator<2.1.0,>=2.0.0\n",
            "\u001b[?25l  Downloading https://files.pythonhosted.org/packages/fc/08/8b927337b7019c374719145d1dceba21a8bb909b93b1ad6f8fb7d22c1ca1/tensorflow_estimator-2.0.1-py2.py3-none-any.whl (449kB)\n",
            "\u001b[K     |████████████████████████████████| 450kB 48.9MB/s \n",
            "\u001b[?25hRequirement already satisfied: grpcio>=1.8.6 in /usr/local/lib/python3.7/dist-packages (from tensorflow==2.0.4) (1.32.0)\n",
            "Collecting gast==0.2.2\n",
            "  Downloading https://files.pythonhosted.org/packages/4e/35/11749bf99b2d4e3cceb4d55ca22590b0d7c2c62b9de38ac4a4a7f4687421/gast-0.2.2.tar.gz\n",
            "Requirement already satisfied: absl-py>=0.7.0 in /usr/local/lib/python3.7/dist-packages (from tensorflow==2.0.4) (0.10.0)\n",
            "Requirement already satisfied: google-pasta>=0.1.6 in /usr/local/lib/python3.7/dist-packages (from tensorflow==2.0.4) (0.2.0)\n",
            "Requirement already satisfied: termcolor>=1.1.0 in /usr/local/lib/python3.7/dist-packages (from tensorflow==2.0.4) (1.1.0)\n",
            "Requirement already satisfied: h5py<=2.10.0 in /usr/local/lib/python3.7/dist-packages (from tensorflow==2.0.4) (2.10.0)\n",
            "Requirement already satisfied: google-auth<2,>=1.6.3 in /usr/local/lib/python3.7/dist-packages (from tensorboard<2.1.0,>=2.0.0->tensorflow==2.0.4) (1.27.1)\n",
            "Requirement already satisfied: requests<3,>=2.21.0 in /usr/local/lib/python3.7/dist-packages (from tensorboard<2.1.0,>=2.0.0->tensorflow==2.0.4) (2.23.0)\n",
            "Requirement already satisfied: setuptools>=41.0.0 in /usr/local/lib/python3.7/dist-packages (from tensorboard<2.1.0,>=2.0.0->tensorflow==2.0.4) (54.0.0)\n",
            "Requirement already satisfied: google-auth-oauthlib<0.5,>=0.4.1 in /usr/local/lib/python3.7/dist-packages (from tensorboard<2.1.0,>=2.0.0->tensorflow==2.0.4) (0.4.3)\n",
            "Requirement already satisfied: werkzeug>=0.11.15 in /usr/local/lib/python3.7/dist-packages (from tensorboard<2.1.0,>=2.0.0->tensorflow==2.0.4) (1.0.1)\n",
            "Requirement already satisfied: markdown>=2.6.8 in /usr/local/lib/python3.7/dist-packages (from tensorboard<2.1.0,>=2.0.0->tensorflow==2.0.4) (3.3.4)\n",
            "Requirement already satisfied: rsa<5,>=3.1.4; python_version >= \"3.6\" in /usr/local/lib/python3.7/dist-packages (from google-auth<2,>=1.6.3->tensorboard<2.1.0,>=2.0.0->tensorflow==2.0.4) (4.7.2)\n",
            "Requirement already satisfied: cachetools<5.0,>=2.0.0 in /usr/local/lib/python3.7/dist-packages (from google-auth<2,>=1.6.3->tensorboard<2.1.0,>=2.0.0->tensorflow==2.0.4) (4.2.1)\n",
            "Requirement already satisfied: pyasn1-modules>=0.2.1 in /usr/local/lib/python3.7/dist-packages (from google-auth<2,>=1.6.3->tensorboard<2.1.0,>=2.0.0->tensorflow==2.0.4) (0.2.8)\n",
            "Requirement already satisfied: chardet<4,>=3.0.2 in /usr/local/lib/python3.7/dist-packages (from requests<3,>=2.21.0->tensorboard<2.1.0,>=2.0.0->tensorflow==2.0.4) (3.0.4)\n",
            "Requirement already satisfied: urllib3!=1.25.0,!=1.25.1,<1.26,>=1.21.1 in /usr/local/lib/python3.7/dist-packages (from requests<3,>=2.21.0->tensorboard<2.1.0,>=2.0.0->tensorflow==2.0.4) (1.24.3)\n",
            "Requirement already satisfied: idna<3,>=2.5 in /usr/local/lib/python3.7/dist-packages (from requests<3,>=2.21.0->tensorboard<2.1.0,>=2.0.0->tensorflow==2.0.4) (2.10)\n",
            "Requirement already satisfied: certifi>=2017.4.17 in /usr/local/lib/python3.7/dist-packages (from requests<3,>=2.21.0->tensorboard<2.1.0,>=2.0.0->tensorflow==2.0.4) (2020.12.5)\n",
            "Requirement already satisfied: requests-oauthlib>=0.7.0 in /usr/local/lib/python3.7/dist-packages (from google-auth-oauthlib<0.5,>=0.4.1->tensorboard<2.1.0,>=2.0.0->tensorflow==2.0.4) (1.3.0)\n",
            "Requirement already satisfied: importlib-metadata; python_version < \"3.8\" in /usr/local/lib/python3.7/dist-packages (from markdown>=2.6.8->tensorboard<2.1.0,>=2.0.0->tensorflow==2.0.4) (3.7.2)\n",
            "Requirement already satisfied: pyasn1>=0.1.3 in /usr/local/lib/python3.7/dist-packages (from rsa<5,>=3.1.4; python_version >= \"3.6\"->google-auth<2,>=1.6.3->tensorboard<2.1.0,>=2.0.0->tensorflow==2.0.4) (0.4.8)\n",
            "Requirement already satisfied: oauthlib>=3.0.0 in /usr/local/lib/python3.7/dist-packages (from requests-oauthlib>=0.7.0->google-auth-oauthlib<0.5,>=0.4.1->tensorboard<2.1.0,>=2.0.0->tensorflow==2.0.4) (3.1.0)\n",
            "Requirement already satisfied: typing-extensions>=3.6.4; python_version < \"3.8\" in /usr/local/lib/python3.7/dist-packages (from importlib-metadata; python_version < \"3.8\"->markdown>=2.6.8->tensorboard<2.1.0,>=2.0.0->tensorflow==2.0.4) (3.7.4.3)\n",
            "Requirement already satisfied: zipp>=0.5 in /usr/local/lib/python3.7/dist-packages (from importlib-metadata; python_version < \"3.8\"->markdown>=2.6.8->tensorboard<2.1.0,>=2.0.0->tensorflow==2.0.4) (3.4.1)\n",
            "Building wheels for collected packages: gast\n",
            "  Building wheel for gast (setup.py) ... \u001b[?25l\u001b[?25hdone\n",
            "  Created wheel for gast: filename=gast-0.2.2-cp37-none-any.whl size=7540 sha256=7c903a3757152226b42d0a7dee4d62e06dbef96ad83da6f19461caf3b1a9b2aa\n",
            "  Stored in directory: /root/.cache/pip/wheels/5c/2e/7e/a1d4d4fcebe6c381f378ce7743a3ced3699feb89bcfbdadadd\n",
            "Successfully built gast\n",
            "\u001b[31mERROR: tensorflow-probability 0.12.1 has requirement gast>=0.3.2, but you'll have gast 0.2.2 which is incompatible.\u001b[0m\n",
            "\u001b[31mERROR: datascience 0.10.6 has requirement folium==0.2.1, but you'll have folium 0.8.3 which is incompatible.\u001b[0m\n",
            "\u001b[31mERROR: albumentations 0.1.12 has requirement imgaug<0.2.7,>=0.2.5, but you'll have imgaug 0.2.9 which is incompatible.\u001b[0m\n",
            "Installing collected packages: numpy, tensorboard, keras-applications, tensorflow-estimator, gast, tensorflow\n",
            "  Found existing installation: numpy 1.19.5\n",
            "    Uninstalling numpy-1.19.5:\n",
            "      Successfully uninstalled numpy-1.19.5\n",
            "  Found existing installation: tensorboard 2.4.1\n",
            "    Uninstalling tensorboard-2.4.1:\n",
            "      Successfully uninstalled tensorboard-2.4.1\n",
            "  Found existing installation: tensorflow-estimator 2.4.0\n",
            "    Uninstalling tensorflow-estimator-2.4.0:\n",
            "      Successfully uninstalled tensorflow-estimator-2.4.0\n",
            "  Found existing installation: gast 0.3.3\n",
            "    Uninstalling gast-0.3.3:\n",
            "      Successfully uninstalled gast-0.3.3\n",
            "  Found existing installation: tensorflow 2.4.1\n",
            "    Uninstalling tensorflow-2.4.1:\n",
            "      Successfully uninstalled tensorflow-2.4.1\n",
            "Successfully installed gast-0.2.2 keras-applications-1.0.8 numpy-1.18.5 tensorboard-2.0.2 tensorflow-2.0.4 tensorflow-estimator-2.0.1\n"
          ],
          "name": "stdout"
        },
        {
          "output_type": "display_data",
          "data": {
            "application/vnd.colab-display-data+json": {
              "pip_warning": {
                "packages": [
                  "gast",
                  "numpy",
                  "tensorboard",
                  "tensorflow"
                ]
              }
            }
          },
          "metadata": {
            "tags": []
          }
        }
      ]
    },
    {
      "cell_type": "code",
      "metadata": {
        "id": "yXcFTFzd_fbM",
        "colab": {
          "base_uri": "https://localhost:8080/"
        },
        "outputId": "84ad8b22-6239-4cd4-d2e0-d3ac5199938b"
      },
      "source": [
        "%cd /content\n",
        "!git clone https://github.com/HSinger04/VOGUE-Reimplementation"
      ],
      "execution_count": null,
      "outputs": [
        {
          "output_type": "stream",
          "text": [
            "/content\n",
            "Cloning into 'VOGUE-Reimplementation'...\n",
            "remote: Enumerating objects: 101, done.\u001b[K\n",
            "remote: Counting objects: 100% (101/101), done.\u001b[K\n",
            "remote: Compressing objects: 100% (95/95), done.\u001b[K\n",
            "remote: Total 132 (delta 54), reused 14 (delta 2), pack-reused 31\u001b[K\n",
            "Receiving objects: 100% (132/132), 82.02 MiB | 34.35 MiB/s, done.\n",
            "Resolving deltas: 100% (55/55), done.\n"
          ],
          "name": "stdout"
        }
      ]
    },
    {
      "cell_type": "code",
      "metadata": {
        "colab": {
          "base_uri": "https://localhost:8080/"
        },
        "id": "QDibY5O2MgPM",
        "outputId": "fe3d3ad6-0be5-4a54-fc90-ca92fec65f83"
      },
      "source": [
        "%cd /content/VOGUE-Reimplementation/StyleGAN2/"
      ],
      "execution_count": null,
      "outputs": [
        {
          "output_type": "stream",
          "text": [
            "/content/VOGUE-Reimplementation/StyleGAN2\n",
            "remote: Enumerating objects: 7, done.\u001b[K\n",
            "remote: Counting objects: 100% (7/7), done.\u001b[K\n",
            "remote: Compressing objects: 100% (4/4), done.\u001b[K\n",
            "remote: Total 4 (delta 3), reused 0 (delta 0), pack-reused 0\u001b[K\n",
            "Unpacking objects: 100% (4/4), done.\n",
            "From https://github.com/HSinger04/VOGUE-Reimplementation\n",
            "   71ea5ef..51186e7  main       -> origin/main\n",
            "Updating 71ea5ef..51186e7\n",
            "Fast-forward\n",
            " StyleGAN2/stylegan_two.py | 1 \u001b[32m+\u001b[m\n",
            " 1 file changed, 1 insertion(+)\n"
          ],
          "name": "stdout"
        }
      ]
    },
    {
      "cell_type": "code",
      "metadata": {
        "colab": {
          "base_uri": "https://localhost:8080/"
        },
        "id": "ymDQAGZpmTE7",
        "outputId": "edd944b4-20d8-456b-a768-81eaeccc13ff"
      },
      "source": [
        "!mkdir data\n",
        "!mkdir Models\n",
        "!mkdir Results"
      ],
      "execution_count": null,
      "outputs": [
        {
          "output_type": "stream",
          "text": [
            "mkdir: cannot create directory ‘Models’: File exists\n",
            "mkdir: cannot create directory ‘Results’: File exists\n"
          ],
          "name": "stdout"
        }
      ]
    },
    {
      "cell_type": "markdown",
      "metadata": {
        "id": "3iQ2XigZksiH"
      },
      "source": [
        "# Image resizing"
      ]
    },
    {
      "cell_type": "code",
      "metadata": {
        "id": "nbYSoQ7akBu_"
      },
      "source": [
        "# !mkdir original"
      ],
      "execution_count": null,
      "outputs": []
    },
    {
      "cell_type": "markdown",
      "metadata": {
        "id": "4mW7bnRekyuz"
      },
      "source": [
        "Now, add images to \"original\""
      ]
    },
    {
      "cell_type": "code",
      "metadata": {
        "id": "ojuaO7QFwD5n"
      },
      "source": [
        "# import os\n",
        "\n",
        "# directory = \"./original\"\n",
        "\n",
        "# for filename in os.listdir(directory):\n",
        "#     if filename.endswith(\".png\"):\n",
        "#         temp = tf.keras.preprocessing.image.load_img(directory + \"/\" + filename, \n",
        "#                                                      target_size=(256, 256),\n",
        "#                                                      interpolation=\"bilinear\")\n",
        "#         tf.keras.preprocessing.image.save_img(\"./data/\" + filename, temp)        "
      ],
      "execution_count": null,
      "outputs": []
    },
    {
      "cell_type": "code",
      "metadata": {
        "id": "ZYLquuntikjK"
      },
      "source": [
        "# TODO: create directories"
      ],
      "execution_count": null,
      "outputs": []
    },
    {
      "cell_type": "code",
      "metadata": {
        "id": "f0bd9fWuXC3M"
      },
      "source": [
        "#x = tf.ones((1, 128, 128, 3))"
      ],
      "execution_count": null,
      "outputs": []
    },
    {
      "cell_type": "code",
      "metadata": {
        "id": "_R2Jtt77Yee8",
        "colab": {
          "base_uri": "https://localhost:8080/"
        },
        "outputId": "9c98fc1f-3692-42ea-ab37-ee440d35a2fd"
      },
      "source": [
        "%cd /content/VOGUE-Reimplementation/StyleGAN2/\n",
        "# Pull changes\n",
        "!git pull\n",
        "!python3 stylegan_two.py"
      ],
      "execution_count": null,
      "outputs": [
        {
          "output_type": "stream",
          "text": [
            "/content/VOGUE-Reimplementation/StyleGAN2\n",
            "remote: Enumerating objects: 7, done.\u001b[K\n",
            "remote: Counting objects: 100% (7/7), done.\u001b[K\n",
            "remote: Compressing objects: 100% (4/4), done.\u001b[K\n",
            "remote: Total 4 (delta 3), reused 0 (delta 0), pack-reused 0\u001b[K\n",
            "Unpacking objects: 100% (4/4), done.\n",
            "From https://github.com/HSinger04/VOGUE-Reimplementation\n",
            "   6ae179d..648dca8  main       -> origin/main\n",
            "Updating 6ae179d..648dca8\n",
            "Fast-forward\n",
            " StyleGAN2/stylegan_two.py | 5 \u001b[32m++++\u001b[m\u001b[31m-\u001b[m\n",
            " 1 file changed, 4 insertions(+), 1 deletion(-)\n",
            "2021-03-16 11:10:06.118039: I tensorflow/core/platform/cpu_feature_guard.cc:142] Your CPU supports instructions that this TensorFlow binary was not compiled to use: AVX2 FMA\n",
            "2021-03-16 11:10:06.121624: I tensorflow/core/platform/profile_utils/cpu_utils.cc:94] CPU Frequency: 2199995000 Hz\n",
            "2021-03-16 11:10:06.121796: I tensorflow/compiler/xla/service/service.cc:168] XLA service 0x557013c912c0 executing computations on platform Host. Devices:\n",
            "2021-03-16 11:10:06.121823: I tensorflow/compiler/xla/service/service.cc:175]   StreamExecutor device (0): Host, Default Version\n",
            "(None, 4, 4, 96)\n",
            "(None, 96)\n",
            "<function upsample_to_size at 0x7fcc929314d0>\n",
            "tf.Tensor(256, shape=(), dtype=int32)\n",
            "Tensor(\"conv2d_mod_2/Identity:0\", shape=(None, 4, 4, 3), dtype=float32)\n",
            "(None, 8, 8, 768)\n",
            "(None, 768)\n",
            "<function upsample_to_size at 0x7fcc929314d0>\n",
            "tf.Tensor(256, shape=(), dtype=int32)\n",
            "Tensor(\"conv2d_mod_5/Identity:0\", shape=(None, 8, 8, 3), dtype=float32)\n",
            "(None, 16, 16, 384)\n",
            "(None, 384)\n",
            "<function upsample_to_size at 0x7fcc929314d0>\n",
            "tf.Tensor(256, shape=(), dtype=int32)\n",
            "Tensor(\"conv2d_mod_8/Identity:0\", shape=(None, 16, 16, 3), dtype=float32)\n",
            "(None, 32, 32, 192)\n",
            "(None, 192)\n",
            "<function upsample_to_size at 0x7fcc929314d0>\n",
            "tf.Tensor(256, shape=(), dtype=int32)\n",
            "Tensor(\"conv2d_mod_11/Identity:0\", shape=(None, 32, 32, 3), dtype=float32)\n",
            "(None, 64, 64, 144)\n",
            "(None, 144)\n",
            "<function upsample_to_size at 0x7fcc929314d0>\n",
            "tf.Tensor(256, shape=(), dtype=int32)\n",
            "Tensor(\"conv2d_mod_14/Identity:0\", shape=(None, 64, 64, 3), dtype=float32)\n",
            "(None, 128, 128, 96)\n",
            "(None, 96)\n",
            "<function upsample_to_size at 0x7fcc929314d0>\n",
            "tf.Tensor(256, shape=(), dtype=int32)\n",
            "Tensor(\"conv2d_mod_17/Identity:0\", shape=(None, 128, 128, 3), dtype=float32)\n",
            "(None, 256, 256, 48)\n",
            "(None, 48)\n",
            "<function upsample_to_size at 0x7fcc929314d0>\n",
            "tf.Tensor(256, shape=(), dtype=int32)\n",
            "Tensor(\"conv2d_mod_20/Identity:0\", shape=(None, 256, 256, 3), dtype=float32)\n",
            "Model: \"model_1\"\n",
            "__________________________________________________________________________________________________\n",
            "Layer (type)                    Output Shape         Param #     Connected to                     \n",
            "==================================================================================================\n",
            "input_2 (InputLayer)            [(None, 512)]        0                                            \n",
            "__________________________________________________________________________________________________\n",
            "lambda (Lambda)                 (None, 1)            0           input_2[0][0]                    \n",
            "__________________________________________________________________________________________________\n",
            "dense_5 (Dense)                 (None, 1536)         3072        lambda[0][0]                     \n",
            "__________________________________________________________________________________________________\n",
            "reshape (Reshape)               (None, 4, 4, 96)     0           dense_5[0][0]                    \n",
            "__________________________________________________________________________________________________\n",
            "activation (Activation)         (None, 4, 4, 96)     0           reshape[0][0]                    \n",
            "__________________________________________________________________________________________________\n",
            "input_9 (InputLayer)            [(None, 256, 256, 1) 0                                            \n",
            "__________________________________________________________________________________________________\n",
            "dense_7 (Dense)                 (None, 96)           49248       input_2[0][0]                    \n",
            "__________________________________________________________________________________________________\n",
            "lambda_1 (Lambda)               (None, 4, 4, 1)      0           input_9[0][0]                    \n",
            "                                                                 activation[0][0]                 \n",
            "__________________________________________________________________________________________________\n",
            "conv2d_mod (Conv2DMod)          (None, 4, 4, 768)    663552      activation[0][0]                 \n",
            "                                                                 dense_7[0][0]                    \n",
            "__________________________________________________________________________________________________\n",
            "dense_8 (Dense)                 (None, 4, 4, 768)    1536        lambda_1[0][0]                   \n",
            "__________________________________________________________________________________________________\n",
            "add_7 (Add)                     (None, 4, 4, 768)    0           conv2d_mod[0][0]                 \n",
            "                                                                 dense_8[0][0]                    \n",
            "__________________________________________________________________________________________________\n",
            "leaky_re_lu_18 (LeakyReLU)      (None, 4, 4, 768)    0           add_7[0][0]                      \n",
            "__________________________________________________________________________________________________\n",
            "dense_9 (Dense)                 (None, 768)          393984      input_2[0][0]                    \n",
            "__________________________________________________________________________________________________\n",
            "conv2d_mod_1 (Conv2DMod)        (None, 4, 4, 768)    5308416     leaky_re_lu_18[0][0]             \n",
            "                                                                 dense_9[0][0]                    \n",
            "__________________________________________________________________________________________________\n",
            "dense_10 (Dense)                (None, 4, 4, 768)    1536        lambda_1[0][0]                   \n",
            "__________________________________________________________________________________________________\n",
            "add_8 (Add)                     (None, 4, 4, 768)    0           conv2d_mod_1[0][0]               \n",
            "                                                                 dense_10[0][0]                   \n",
            "__________________________________________________________________________________________________\n",
            "leaky_re_lu_19 (LeakyReLU)      (None, 4, 4, 768)    0           add_8[0][0]                      \n",
            "__________________________________________________________________________________________________\n",
            "lambda_3 (Lambda)               (None, 8, 8, 768)    0           leaky_re_lu_19[0][0]             \n",
            "__________________________________________________________________________________________________\n",
            "input_3 (InputLayer)            [(None, 512)]        0                                            \n",
            "__________________________________________________________________________________________________\n",
            "dense_12 (Dense)                (None, 768)          393984      input_3[0][0]                    \n",
            "__________________________________________________________________________________________________\n",
            "lambda_4 (Lambda)               (None, 8, 8, 1)      0           input_9[0][0]                    \n",
            "                                                                 lambda_3[0][0]                   \n",
            "__________________________________________________________________________________________________\n",
            "conv2d_mod_3 (Conv2DMod)        (None, 8, 8, 384)    2654208     lambda_3[0][0]                   \n",
            "                                                                 dense_12[0][0]                   \n",
            "__________________________________________________________________________________________________\n",
            "dense_13 (Dense)                (None, 8, 8, 384)    768         lambda_4[0][0]                   \n",
            "__________________________________________________________________________________________________\n",
            "add_9 (Add)                     (None, 8, 8, 384)    0           conv2d_mod_3[0][0]               \n",
            "                                                                 dense_13[0][0]                   \n",
            "__________________________________________________________________________________________________\n",
            "leaky_re_lu_20 (LeakyReLU)      (None, 8, 8, 384)    0           add_9[0][0]                      \n",
            "__________________________________________________________________________________________________\n",
            "dense_14 (Dense)                (None, 384)          196992      input_3[0][0]                    \n",
            "__________________________________________________________________________________________________\n",
            "conv2d_mod_4 (Conv2DMod)        (None, 8, 8, 384)    1327104     leaky_re_lu_20[0][0]             \n",
            "                                                                 dense_14[0][0]                   \n",
            "__________________________________________________________________________________________________\n",
            "dense_15 (Dense)                (None, 8, 8, 384)    768         lambda_4[0][0]                   \n",
            "__________________________________________________________________________________________________\n",
            "add_10 (Add)                    (None, 8, 8, 384)    0           conv2d_mod_4[0][0]               \n",
            "                                                                 dense_15[0][0]                   \n",
            "__________________________________________________________________________________________________\n",
            "leaky_re_lu_21 (LeakyReLU)      (None, 8, 8, 384)    0           add_10[0][0]                     \n",
            "__________________________________________________________________________________________________\n",
            "lambda_6 (Lambda)               (None, 16, 16, 384)  0           leaky_re_lu_21[0][0]             \n",
            "__________________________________________________________________________________________________\n",
            "input_4 (InputLayer)            [(None, 512)]        0                                            \n",
            "__________________________________________________________________________________________________\n",
            "dense_17 (Dense)                (None, 384)          196992      input_4[0][0]                    \n",
            "__________________________________________________________________________________________________\n",
            "lambda_7 (Lambda)               (None, 16, 16, 1)    0           input_9[0][0]                    \n",
            "                                                                 lambda_6[0][0]                   \n",
            "__________________________________________________________________________________________________\n",
            "conv2d_mod_6 (Conv2DMod)        (None, 16, 16, 192)  663552      lambda_6[0][0]                   \n",
            "                                                                 dense_17[0][0]                   \n",
            "__________________________________________________________________________________________________\n",
            "dense_18 (Dense)                (None, 16, 16, 192)  384         lambda_7[0][0]                   \n",
            "__________________________________________________________________________________________________\n",
            "add_11 (Add)                    (None, 16, 16, 192)  0           conv2d_mod_6[0][0]               \n",
            "                                                                 dense_18[0][0]                   \n",
            "__________________________________________________________________________________________________\n",
            "leaky_re_lu_22 (LeakyReLU)      (None, 16, 16, 192)  0           add_11[0][0]                     \n",
            "__________________________________________________________________________________________________\n",
            "dense_19 (Dense)                (None, 192)          98496       input_4[0][0]                    \n",
            "__________________________________________________________________________________________________\n",
            "conv2d_mod_7 (Conv2DMod)        (None, 16, 16, 192)  331776      leaky_re_lu_22[0][0]             \n",
            "                                                                 dense_19[0][0]                   \n",
            "__________________________________________________________________________________________________\n",
            "dense_20 (Dense)                (None, 16, 16, 192)  384         lambda_7[0][0]                   \n",
            "__________________________________________________________________________________________________\n",
            "add_12 (Add)                    (None, 16, 16, 192)  0           conv2d_mod_7[0][0]               \n",
            "                                                                 dense_20[0][0]                   \n",
            "__________________________________________________________________________________________________\n",
            "leaky_re_lu_23 (LeakyReLU)      (None, 16, 16, 192)  0           add_12[0][0]                     \n",
            "__________________________________________________________________________________________________\n",
            "lambda_9 (Lambda)               (None, 32, 32, 192)  0           leaky_re_lu_23[0][0]             \n",
            "__________________________________________________________________________________________________\n",
            "input_5 (InputLayer)            [(None, 512)]        0                                            \n",
            "__________________________________________________________________________________________________\n",
            "dense_22 (Dense)                (None, 192)          98496       input_5[0][0]                    \n",
            "__________________________________________________________________________________________________\n",
            "lambda_10 (Lambda)              (None, 32, 32, 1)    0           input_9[0][0]                    \n",
            "                                                                 lambda_9[0][0]                   \n",
            "__________________________________________________________________________________________________\n",
            "conv2d_mod_9 (Conv2DMod)        (None, 32, 32, 144)  248832      lambda_9[0][0]                   \n",
            "                                                                 dense_22[0][0]                   \n",
            "__________________________________________________________________________________________________\n",
            "dense_23 (Dense)                (None, 32, 32, 144)  288         lambda_10[0][0]                  \n",
            "__________________________________________________________________________________________________\n",
            "add_13 (Add)                    (None, 32, 32, 144)  0           conv2d_mod_9[0][0]               \n",
            "                                                                 dense_23[0][0]                   \n",
            "__________________________________________________________________________________________________\n",
            "leaky_re_lu_24 (LeakyReLU)      (None, 32, 32, 144)  0           add_13[0][0]                     \n",
            "__________________________________________________________________________________________________\n",
            "dense_24 (Dense)                (None, 144)          73872       input_5[0][0]                    \n",
            "__________________________________________________________________________________________________\n",
            "conv2d_mod_10 (Conv2DMod)       (None, 32, 32, 144)  186624      leaky_re_lu_24[0][0]             \n",
            "                                                                 dense_24[0][0]                   \n",
            "__________________________________________________________________________________________________\n",
            "dense_25 (Dense)                (None, 32, 32, 144)  288         lambda_10[0][0]                  \n",
            "__________________________________________________________________________________________________\n",
            "add_14 (Add)                    (None, 32, 32, 144)  0           conv2d_mod_10[0][0]              \n",
            "                                                                 dense_25[0][0]                   \n",
            "__________________________________________________________________________________________________\n",
            "leaky_re_lu_25 (LeakyReLU)      (None, 32, 32, 144)  0           add_14[0][0]                     \n",
            "__________________________________________________________________________________________________\n",
            "lambda_12 (Lambda)              (None, 64, 64, 144)  0           leaky_re_lu_25[0][0]             \n",
            "__________________________________________________________________________________________________\n",
            "input_6 (InputLayer)            [(None, 512)]        0                                            \n",
            "__________________________________________________________________________________________________\n",
            "dense_27 (Dense)                (None, 144)          73872       input_6[0][0]                    \n",
            "__________________________________________________________________________________________________\n",
            "lambda_13 (Lambda)              (None, 64, 64, 1)    0           input_9[0][0]                    \n",
            "                                                                 lambda_12[0][0]                  \n",
            "__________________________________________________________________________________________________\n",
            "conv2d_mod_12 (Conv2DMod)       (None, 64, 64, 96)   124416      lambda_12[0][0]                  \n",
            "                                                                 dense_27[0][0]                   \n",
            "__________________________________________________________________________________________________\n",
            "dense_28 (Dense)                (None, 64, 64, 96)   192         lambda_13[0][0]                  \n",
            "__________________________________________________________________________________________________\n",
            "add_15 (Add)                    (None, 64, 64, 96)   0           conv2d_mod_12[0][0]              \n",
            "                                                                 dense_28[0][0]                   \n",
            "__________________________________________________________________________________________________\n",
            "leaky_re_lu_26 (LeakyReLU)      (None, 64, 64, 96)   0           add_15[0][0]                     \n",
            "__________________________________________________________________________________________________\n",
            "dense_29 (Dense)                (None, 96)           49248       input_6[0][0]                    \n",
            "__________________________________________________________________________________________________\n",
            "conv2d_mod_13 (Conv2DMod)       (None, 64, 64, 96)   82944       leaky_re_lu_26[0][0]             \n",
            "                                                                 dense_29[0][0]                   \n",
            "__________________________________________________________________________________________________\n",
            "dense_30 (Dense)                (None, 64, 64, 96)   192         lambda_13[0][0]                  \n",
            "__________________________________________________________________________________________________\n",
            "add_16 (Add)                    (None, 64, 64, 96)   0           conv2d_mod_13[0][0]              \n",
            "                                                                 dense_30[0][0]                   \n",
            "__________________________________________________________________________________________________\n",
            "leaky_re_lu_27 (LeakyReLU)      (None, 64, 64, 96)   0           add_16[0][0]                     \n",
            "__________________________________________________________________________________________________\n",
            "lambda_15 (Lambda)              (None, 128, 128, 96) 0           leaky_re_lu_27[0][0]             \n",
            "__________________________________________________________________________________________________\n",
            "input_7 (InputLayer)            [(None, 512)]        0                                            \n",
            "__________________________________________________________________________________________________\n",
            "dense_32 (Dense)                (None, 96)           49248       input_7[0][0]                    \n",
            "__________________________________________________________________________________________________\n",
            "lambda_16 (Lambda)              (None, 128, 128, 1)  0           input_9[0][0]                    \n",
            "                                                                 lambda_15[0][0]                  \n",
            "__________________________________________________________________________________________________\n",
            "conv2d_mod_15 (Conv2DMod)       (None, 128, 128, 48) 41472       lambda_15[0][0]                  \n",
            "                                                                 dense_32[0][0]                   \n",
            "__________________________________________________________________________________________________\n",
            "dense_33 (Dense)                (None, 128, 128, 48) 96          lambda_16[0][0]                  \n",
            "__________________________________________________________________________________________________\n",
            "add_17 (Add)                    (None, 128, 128, 48) 0           conv2d_mod_15[0][0]              \n",
            "                                                                 dense_33[0][0]                   \n",
            "__________________________________________________________________________________________________\n",
            "leaky_re_lu_28 (LeakyReLU)      (None, 128, 128, 48) 0           add_17[0][0]                     \n",
            "__________________________________________________________________________________________________\n",
            "dense_34 (Dense)                (None, 48)           24624       input_7[0][0]                    \n",
            "__________________________________________________________________________________________________\n",
            "conv2d_mod_16 (Conv2DMod)       (None, 128, 128, 48) 20736       leaky_re_lu_28[0][0]             \n",
            "                                                                 dense_34[0][0]                   \n",
            "__________________________________________________________________________________________________\n",
            "dense_35 (Dense)                (None, 128, 128, 48) 96          lambda_16[0][0]                  \n",
            "__________________________________________________________________________________________________\n",
            "add_18 (Add)                    (None, 128, 128, 48) 0           conv2d_mod_16[0][0]              \n",
            "                                                                 dense_35[0][0]                   \n",
            "__________________________________________________________________________________________________\n",
            "leaky_re_lu_29 (LeakyReLU)      (None, 128, 128, 48) 0           add_18[0][0]                     \n",
            "__________________________________________________________________________________________________\n",
            "lambda_18 (Lambda)              (None, 256, 256, 48) 0           leaky_re_lu_29[0][0]             \n",
            "__________________________________________________________________________________________________\n",
            "input_8 (InputLayer)            [(None, 512)]        0                                            \n",
            "__________________________________________________________________________________________________\n",
            "dense_37 (Dense)                (None, 48)           24624       input_8[0][0]                    \n",
            "__________________________________________________________________________________________________\n",
            "lambda_19 (Lambda)              (None, 256, 256, 1)  0           input_9[0][0]                    \n",
            "                                                                 lambda_18[0][0]                  \n",
            "__________________________________________________________________________________________________\n",
            "conv2d_mod_18 (Conv2DMod)       (None, 256, 256, 24) 10368       lambda_18[0][0]                  \n",
            "                                                                 dense_37[0][0]                   \n",
            "__________________________________________________________________________________________________\n",
            "dense_38 (Dense)                (None, 256, 256, 24) 48          lambda_19[0][0]                  \n",
            "__________________________________________________________________________________________________\n",
            "add_19 (Add)                    (None, 256, 256, 24) 0           conv2d_mod_18[0][0]              \n",
            "                                                                 dense_38[0][0]                   \n",
            "__________________________________________________________________________________________________\n",
            "leaky_re_lu_30 (LeakyReLU)      (None, 256, 256, 24) 0           add_19[0][0]                     \n",
            "__________________________________________________________________________________________________\n",
            "dense_39 (Dense)                (None, 24)           12312       input_8[0][0]                    \n",
            "__________________________________________________________________________________________________\n",
            "conv2d_mod_19 (Conv2DMod)       (None, 256, 256, 24) 5184        leaky_re_lu_30[0][0]             \n",
            "                                                                 dense_39[0][0]                   \n",
            "__________________________________________________________________________________________________\n",
            "dense_40 (Dense)                (None, 256, 256, 24) 48          lambda_19[0][0]                  \n",
            "__________________________________________________________________________________________________\n",
            "add_20 (Add)                    (None, 256, 256, 24) 0           conv2d_mod_19[0][0]              \n",
            "                                                                 dense_40[0][0]                   \n",
            "__________________________________________________________________________________________________\n",
            "dense_6 (Dense)                 (None, 768)          393984      input_2[0][0]                    \n",
            "__________________________________________________________________________________________________\n",
            "dense_11 (Dense)                (None, 384)          196992      input_3[0][0]                    \n",
            "__________________________________________________________________________________________________\n",
            "dense_16 (Dense)                (None, 192)          98496       input_4[0][0]                    \n",
            "__________________________________________________________________________________________________\n",
            "dense_21 (Dense)                (None, 144)          73872       input_5[0][0]                    \n",
            "__________________________________________________________________________________________________\n",
            "dense_26 (Dense)                (None, 96)           49248       input_6[0][0]                    \n",
            "__________________________________________________________________________________________________\n",
            "dense_31 (Dense)                (None, 48)           24624       input_7[0][0]                    \n",
            "__________________________________________________________________________________________________\n",
            "leaky_re_lu_31 (LeakyReLU)      (None, 256, 256, 24) 0           add_20[0][0]                     \n",
            "__________________________________________________________________________________________________\n",
            "dense_36 (Dense)                (None, 24)           12312       input_8[0][0]                    \n",
            "__________________________________________________________________________________________________\n",
            "conv2d_mod_2 (Conv2DMod)        (None, 4, 4, 3)      2304        leaky_re_lu_19[0][0]             \n",
            "                                                                 dense_6[0][0]                    \n",
            "__________________________________________________________________________________________________\n",
            "conv2d_mod_5 (Conv2DMod)        (None, 8, 8, 3)      1152        leaky_re_lu_21[0][0]             \n",
            "                                                                 dense_11[0][0]                   \n",
            "__________________________________________________________________________________________________\n",
            "conv2d_mod_8 (Conv2DMod)        (None, 16, 16, 3)    576         leaky_re_lu_23[0][0]             \n",
            "                                                                 dense_16[0][0]                   \n",
            "__________________________________________________________________________________________________\n",
            "conv2d_mod_11 (Conv2DMod)       (None, 32, 32, 3)    432         leaky_re_lu_25[0][0]             \n",
            "                                                                 dense_21[0][0]                   \n",
            "__________________________________________________________________________________________________\n",
            "conv2d_mod_14 (Conv2DMod)       (None, 64, 64, 3)    288         leaky_re_lu_27[0][0]             \n",
            "                                                                 dense_26[0][0]                   \n",
            "__________________________________________________________________________________________________\n",
            "conv2d_mod_17 (Conv2DMod)       (None, 128, 128, 3)  144         leaky_re_lu_29[0][0]             \n",
            "                                                                 dense_31[0][0]                   \n",
            "__________________________________________________________________________________________________\n",
            "conv2d_mod_20 (Conv2DMod)       (None, 256, 256, 3)  72          leaky_re_lu_31[0][0]             \n",
            "                                                                 dense_36[0][0]                   \n",
            "__________________________________________________________________________________________________\n",
            "lambda_2 (Lambda)               (None, 256, 256, 3)  0           conv2d_mod_2[0][0]               \n",
            "__________________________________________________________________________________________________\n",
            "lambda_5 (Lambda)               (None, 256, 256, 3)  0           conv2d_mod_5[0][0]               \n",
            "__________________________________________________________________________________________________\n",
            "lambda_8 (Lambda)               (None, 256, 256, 3)  0           conv2d_mod_8[0][0]               \n",
            "__________________________________________________________________________________________________\n",
            "lambda_11 (Lambda)              (None, 256, 256, 3)  0           conv2d_mod_11[0][0]              \n",
            "__________________________________________________________________________________________________\n",
            "lambda_14 (Lambda)              (None, 256, 256, 3)  0           conv2d_mod_14[0][0]              \n",
            "__________________________________________________________________________________________________\n",
            "lambda_17 (Lambda)              (None, 256, 256, 3)  0           conv2d_mod_17[0][0]              \n",
            "__________________________________________________________________________________________________\n",
            "lambda_20 (Lambda)              (None, 256, 256, 3)  0           conv2d_mod_20[0][0]              \n",
            "__________________________________________________________________________________________________\n",
            "add_21 (Add)                    (None, 256, 256, 3)  0           lambda_2[0][0]                   \n",
            "                                                                 lambda_5[0][0]                   \n",
            "                                                                 lambda_8[0][0]                   \n",
            "                                                                 lambda_11[0][0]                  \n",
            "                                                                 lambda_14[0][0]                  \n",
            "                                                                 lambda_17[0][0]                  \n",
            "                                                                 lambda_20[0][0]                  \n",
            "__________________________________________________________________________________________________\n",
            "lambda_21 (Lambda)              (None, 256, 256, 3)  0           add_21[0][0]                     \n",
            "==================================================================================================\n",
            "Total params: 14,269,368\n",
            "Trainable params: 14,269,368\n",
            "Non-trainable params: 0\n",
            "__________________________________________________________________________________________________\n",
            "Importing images...\n",
            "Maximum Segment Size:  5461\n",
            "Loading segment\n",
            "stylegan_two.py:366: DeprecationWarning: time.clock has been deprecated in Python 3.3 and will be removed from Python 3.8: use time.perf_counter or time.process_time instead\n",
            "  self.lastblip = time.clock()\n",
            "Model: \"model_2\"\n",
            "__________________________________________________________________________________________________\n",
            "Layer (type)                    Output Shape         Param #     Connected to                     \n",
            "==================================================================================================\n",
            "input_10 (InputLayer)           [(None, 512)]        0                                            \n",
            "__________________________________________________________________________________________________\n",
            "input_11 (InputLayer)           [(None, 512)]        0                                            \n",
            "__________________________________________________________________________________________________\n",
            "input_12 (InputLayer)           [(None, 512)]        0                                            \n",
            "__________________________________________________________________________________________________\n",
            "input_13 (InputLayer)           [(None, 512)]        0                                            \n",
            "__________________________________________________________________________________________________\n",
            "input_14 (InputLayer)           [(None, 512)]        0                                            \n",
            "__________________________________________________________________________________________________\n",
            "input_15 (InputLayer)           [(None, 512)]        0                                            \n",
            "__________________________________________________________________________________________________\n",
            "input_16 (InputLayer)           [(None, 512)]        0                                            \n",
            "__________________________________________________________________________________________________\n",
            "sequential (Sequential)         (None, 512)          1050624     input_10[0][0]                   \n",
            "                                                                 input_11[0][0]                   \n",
            "                                                                 input_12[0][0]                   \n",
            "                                                                 input_13[0][0]                   \n",
            "                                                                 input_14[0][0]                   \n",
            "                                                                 input_15[0][0]                   \n",
            "                                                                 input_16[0][0]                   \n",
            "__________________________________________________________________________________________________\n",
            "input_17 (InputLayer)           [(None, 256, 256, 1) 0                                            \n",
            "__________________________________________________________________________________________________\n",
            "model_1 (Model)                 (None, 256, 256, 3)  14269368    sequential[1][0]                 \n",
            "                                                                 sequential[2][0]                 \n",
            "                                                                 sequential[3][0]                 \n",
            "                                                                 sequential[4][0]                 \n",
            "                                                                 sequential[5][0]                 \n",
            "                                                                 sequential[6][0]                 \n",
            "                                                                 sequential[7][0]                 \n",
            "                                                                 input_17[0][0]                   \n",
            "==================================================================================================\n",
            "Total params: 15,319,992\n",
            "Trainable params: 15,319,992\n",
            "Non-trainable params: 0\n",
            "__________________________________________________________________________________________________\n",
            "None\n",
            "(7, 64, 512)\n",
            "(64, 256, 256, 1)\n",
            "2021-03-16 11:10:13.372585: W tensorflow/core/common_runtime/base_collective_executor.cc:216] BaseCollectiveExecutor::StartAbort Unimplemented: The Conv2D op currently only supports the NHWC tensor format on the CPU. The op was given the format: NCHW\n",
            "\t [[{{node model_1/conv2d_mod/Conv2D}}]]\n",
            "Traceback (most recent call last):\n",
            "  File \"stylegan_two.py\", line 650, in <module>\n",
            "    model.evaluate(0)\n",
            "  File \"stylegan_two.py\", line 509, in evaluate\n",
            "    generated_images = self.GAN.GM.predict(n1 + [n2], batch_size = BATCH_SIZE)\n",
            "  File \"/usr/local/lib/python3.7/dist-packages/tensorflow_core/python/keras/engine/training.py\", line 909, in predict\n",
            "    use_multiprocessing=use_multiprocessing)\n",
            "  File \"/usr/local/lib/python3.7/dist-packages/tensorflow_core/python/keras/engine/training_arrays.py\", line 722, in predict\n",
            "    callbacks=callbacks)\n",
            "  File \"/usr/local/lib/python3.7/dist-packages/tensorflow_core/python/keras/engine/training_arrays.py\", line 393, in model_iteration\n",
            "    batch_outs = f(ins_batch)\n",
            "  File \"/usr/local/lib/python3.7/dist-packages/tensorflow_core/python/keras/backend.py\", line 3740, in __call__\n",
            "    outputs = self._graph_fn(*converted_inputs)\n",
            "  File \"/usr/local/lib/python3.7/dist-packages/tensorflow_core/python/eager/function.py\", line 1081, in __call__\n",
            "    return self._call_impl(args, kwargs)\n",
            "  File \"/usr/local/lib/python3.7/dist-packages/tensorflow_core/python/eager/function.py\", line 1121, in _call_impl\n",
            "    return self._call_flat(args, self.captured_inputs, cancellation_manager)\n",
            "  File \"/usr/local/lib/python3.7/dist-packages/tensorflow_core/python/eager/function.py\", line 1224, in _call_flat\n",
            "    ctx, args, cancellation_manager=cancellation_manager)\n",
            "  File \"/usr/local/lib/python3.7/dist-packages/tensorflow_core/python/eager/function.py\", line 511, in call\n",
            "    ctx=ctx)\n",
            "  File \"/usr/local/lib/python3.7/dist-packages/tensorflow_core/python/eager/execute.py\", line 67, in quick_execute\n",
            "    six.raise_from(core._status_to_exception(e.code, message), None)\n",
            "  File \"<string>\", line 3, in raise_from\n",
            "tensorflow.python.framework.errors_impl.UnimplementedError:  The Conv2D op currently only supports the NHWC tensor format on the CPU. The op was given the format: NCHW\n",
            "\t [[node model_1/conv2d_mod/Conv2D (defined at /usr/local/lib/python3.7/dist-packages/tensorflow_core/python/framework/ops.py:1751) ]] [Op:__inference_keras_scratch_graph_11420]\n",
            "\n",
            "Function call stack:\n",
            "keras_scratch_graph\n",
            "\n"
          ],
          "name": "stdout"
        }
      ]
    },
    {
      "cell_type": "markdown",
      "metadata": {
        "id": "588jk78KupEt"
      },
      "source": [
        "# FFHQ-Aging-Dataset"
      ]
    },
    {
      "cell_type": "code",
      "metadata": {
        "id": "aC1Vsu5ZYkcp",
        "colab": {
          "base_uri": "https://localhost:8080/"
        },
        "outputId": "b3291c13-7c52-4560-8c52-942b50d19b17"
      },
      "source": [
        "%cd /content/\n",
        "!git clone https://github.com/royorel/FFHQ-Aging-Dataset"
      ],
      "execution_count": null,
      "outputs": [
        {
          "output_type": "stream",
          "text": [
            "Cloning into 'FFHQ-Aging-Dataset'...\n",
            "remote: Enumerating objects: 50, done.\u001b[K\n",
            "remote: Counting objects: 100% (50/50), done.\u001b[K\n",
            "remote: Compressing objects: 100% (42/42), done.\u001b[K\n",
            "remote: Total 55 (delta 25), reused 23 (delta 7), pack-reused 5\u001b[K\n",
            "Unpacking objects: 100% (55/55), done.\n"
          ],
          "name": "stdout"
        }
      ]
    },
    {
      "cell_type": "code",
      "metadata": {
        "id": "ByR8jqIYvnbe",
        "colab": {
          "base_uri": "https://localhost:8080/"
        },
        "outputId": "4f0dce86-ccaf-45dc-b8a0-428555b0bea5"
      },
      "source": [
        "%cd FFHQ-Aging-Dataset/"
      ],
      "execution_count": null,
      "outputs": [
        {
          "output_type": "stream",
          "text": [
            "/content/VOGUE-Reimplementation/StyleGAN2/FFHQ-Aging-Dataset\n"
          ],
          "name": "stdout"
        }
      ]
    },
    {
      "cell_type": "code",
      "metadata": {
        "id": "4qWoCdLJvwvx",
        "colab": {
          "base_uri": "https://localhost:8080/"
        },
        "outputId": "c9cce4c9-ed96-41b4-981a-653e28824da2"
      },
      "source": [
        "!python download_ffhq_aging.py --pydrive --resolution 256 --debug"
      ],
      "execution_count": null,
      "outputs": [
        {
          "output_type": "stream",
          "text": [
            "Your browser has been opened to visit:\n",
            "\n",
            "    https://accounts.google.com/o/oauth2/auth?client_id=977214172107-kauvldkeij1c9g73qeop54tsnkj0ela8.apps.googleusercontent.com&redirect_uri=http%3A%2F%2Flocalhost%3A8090%2F&scope=https%3A%2F%2Fwww.googleapis.com%2Fauth%2Fdrive&access_type=offline&response_type=code\n",
            "\n",
            "Traceback (most recent call last):\n",
            "  File \"/usr/lib/python3.7/socketserver.py\", line 294, in handle_request\n",
            "    ready = selector.select(timeout)\n",
            "  File \"/usr/lib/python3.7/selectors.py\", line 415, in select\n",
            "    fd_event_list = self._selector.poll(timeout)\n",
            "KeyboardInterrupt\n",
            "\n",
            "During handling of the above exception, another exception occurred:\n",
            "\n",
            "Traceback (most recent call last):\n",
            "  File \"download_ffhq_aging.py\", line 385, in <module>\n",
            "    run_cmdline(sys.argv)\n",
            "  File \"download_ffhq_aging.py\", line 380, in run_cmdline\n",
            "    run(**vars(args))\n",
            "  File \"download_ffhq_aging.py\", line 337, in run\n",
            "    drive = pydrive_utils.create_drive_manager(cmd_auth)\n",
            "  File \"/content/VOGUE-Reimplementation/StyleGAN2/FFHQ-Aging-Dataset/pydrive_utils.py\", line 14, in create_drive_manager\n",
            "    gAuth.LocalWebserverAuth()\n",
            "  File \"/usr/local/lib/python3.7/dist-packages/pydrive/auth.py\", line 115, in _decorated\n",
            "    code = decoratee(self, *args, **kwargs)\n",
            "  File \"/usr/local/lib/python3.7/dist-packages/pydrive/auth.py\", line 232, in LocalWebserverAuth\n",
            "    httpd.handle_request()\n",
            "  File \"/usr/lib/python3.7/socketserver.py\", line 301, in handle_request\n",
            "    return self.handle_timeout()\n",
            "  File \"/usr/lib/python3.7/selectors.py\", line 203, in __exit__\n",
            "    self.close()\n",
            "  File \"/usr/lib/python3.7/selectors.py\", line 270, in close\n",
            "    self._map = None\n",
            "KeyboardInterrupt\n"
          ],
          "name": "stdout"
        }
      ]
    },
    {
      "cell_type": "code",
      "metadata": {
        "id": "E_U2zYMKk-mr"
      },
      "source": [
        ""
      ],
      "execution_count": null,
      "outputs": []
    }
  ]
}